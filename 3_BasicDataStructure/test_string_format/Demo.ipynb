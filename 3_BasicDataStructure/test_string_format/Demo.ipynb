{
 "cells": [
  {
   "cell_type": "code",
   "execution_count": null,
   "metadata": {},
   "outputs": [],
   "source": [
    "#string functions\n",
    "#1. startwith: check if a string starts with a specific word\n",
    "A = 'this is a test'\n",
    "A.startswith('this')\n",
    "#2. endswith: check if a string ends with a specific word\n",
    "A.endswith('test')\n",
    "#3. find: find the index of a specific word in a string\n",
    "A.find('is')\n",
    "#4. replace: replace a specific word in a string\n",
    "A.replace('test','exam')\n",
    "#5. split: split a string into a list of words\n",
    "#6. join: join a list of words into a string\n",
    "' '.join(A.split(' '))\n",
    "#7. lower: convert a string to lower case\n",
    "A.lower()\n",
    "#8. upper: convert a string to upper case\n",
    "A.upper()\n",
    "#9. strip: remove leading and trailing spaces\n",
    "A.strip()\n",
    "#10. lstrip: remove leading spaces\n",
    "A.lstrip()\n",
    "#11. rstrip: remove trailing spaces\n",
    "A.rstrip()\n",
    "#12. isdigit: check if a string is a digit\n",
    "A.isdigit()\n",
    "#13. isalpha: check if a string is a letter\n",
    "A.isalpha()\n",
    "#14. isalnum: check if a string is a letter or a digit\n",
    "A.isalnum()\n",
    "#15. islower: check if a string is in lower case\n",
    "A.islower()\n",
    "#16. isupper: check if a string is in upper case\n",
    "A.isupper()\n",
    "#17. isspace: check if a string is a space\n",
    "A.isspace()\n",
    "#18. isnumeric: check if a string is a numeric\n",
    "A.isnumeric()\n",
    "#19. isdecimal: check if a string is a decimal\n",
    "A.isdecimal()\n",
    "#20. isidentifier: check if a string is a valid identifier\n",
    "A.isidentifier()\n",
    "#21. isprintable: check if a string is printable\n",
    "A.isprintable()\n",
    "#22. istitle: check if a string is a title\n",
    "A.istitle()\n",
    "#23. capitalize: capitalize the first letter of a string\n",
    "A.capitalize()\n",
    "#24. title: capitalize the first letter of each word in a string\n",
    "A.title()\n",
    "#25. swapcase: swap the case of a string\n",
    "A.swapcase()\n",
    "#26. center: center a string in a specific width\n",
    "A.center(20)\n",
    "#27. ljust: left justify a string in a specific width\n",
    "A.ljust(20)\n",
    "#28. rjust: right justify a string in a specific width\n",
    "A.rjust(20)\n",
    "#29. count: count the number of a specific word in a string\n",
    "A.count('is')\n",
    "#30. index: find the index of a specific word in a string\n",
    "A.index('is')\n",
    "#31. partition: partition a string into three parts based on a specific word\n",
    "A.partition('is')\n",
    "#32. rpartition: partition a string into three parts based on a specific word from the right\n",
    "A.rpartition('is')\n",
    "#33. splitlines: split a string into a list of lines\n",
    "('this is'+'\\na test').splitlines()\n",
    "#34. zfill: fill a string with zeros\n",
    "A.zfill(20)\n",
    "#35. format: format a string\n",
    "'{} is {}'.format('this','a test')\n",
    "#36. format_map: format a string with a dictionary\n",
    "'{name} is {value}'.format_map({'name':'this','value':'a test'})\n",
    "#37. encode: encode a string\n",
    "A.encode()\n",
    "#38. expandtabs: expand tabs in a string\n",
    "A.expandtabs()\n",
    "#39. translate: translate a string\n",
    "A.translate(str.maketrans('is','IS'))\n",
    "#40. maketrans: make a translation table\n",
    "str.maketrans('is','IS')\n",
    "#41. rfind: find the index of a specific word in a string from the right\n",
    "A.rfind('is')\n",
    "#42. rindex: find the index of a specific word in a string from the right\n",
    "A.rindex('is')\n",
    "#43. rsplit: split a string into a list of words from the right\n",
    "A.rsplit(' ')\n"
   ]
  },
  {
   "cell_type": "code",
   "execution_count": 5,
   "metadata": {},
   "outputs": [
    {
     "data": {
      "text/plain": [
       "False"
      ]
     },
     "execution_count": 5,
     "metadata": {},
     "output_type": "execute_result"
    }
   ],
   "source": [
    "#test a string if a number\n",
    "def is_number(s):\n",
    "    try:\n",
    "        float(s)\n",
    "        return True\n",
    "    except ValueError:\n",
    "        return False\n",
    "is_number('123')\n",
    "is_number('abc')\n"
   ]
  },
  {
   "cell_type": "code",
   "execution_count": 3,
   "metadata": {},
   "outputs": [
    {
     "data": {
      "text/plain": [
       "''"
      ]
     },
     "execution_count": 3,
     "metadata": {},
     "output_type": "execute_result"
    }
   ],
   "source": [
    "'<>'.split('<>')[:-1]"
   ]
  },
  {
   "cell_type": "code",
   "execution_count": 5,
   "metadata": {},
   "outputs": [
    {
     "name": "stdout",
     "output_type": "stream",
     "text": [
      "This is a sample text with some patterns: pattern1, pattern2, and pattern3\n"
     ]
    }
   ],
   "source": [
    "import re\n",
    "\n",
    "def get_content_before_last_match(text, pattern):\n",
    "    # Use a regular expression to find the content before the last matched item\n",
    "    matches = list(re.finditer(pattern, text))\n",
    "    \n",
    "    if matches:\n",
    "        # Get the last match\n",
    "        last_match = matches[-1]\n",
    "        # Return the content from the start up to the end of the last match\n",
    "        return text[:last_match.end()]\n",
    "    else:\n",
    "        return None\n",
    "\n",
    "# Example usage\n",
    "text = \"This is a sample text with some patterns: pattern1, pattern2, and pattern3.hhusvsv\"\n",
    "pattern = r'pattern\\d'\n",
    "\n",
    "result = get_content_before_last_match(text, pattern)\n",
    "print(result)\n"
   ]
  },
  {
   "cell_type": "code",
   "execution_count": null,
   "metadata": {},
   "outputs": [],
   "source": []
  }
 ],
 "metadata": {
  "kernelspec": {
   "display_name": "python38",
   "language": "python",
   "name": "python3"
  },
  "language_info": {
   "codemirror_mode": {
    "name": "ipython",
    "version": 3
   },
   "file_extension": ".py",
   "mimetype": "text/x-python",
   "name": "python",
   "nbconvert_exporter": "python",
   "pygments_lexer": "ipython3",
   "version": "3.9.6"
  }
 },
 "nbformat": 4,
 "nbformat_minor": 2
}
