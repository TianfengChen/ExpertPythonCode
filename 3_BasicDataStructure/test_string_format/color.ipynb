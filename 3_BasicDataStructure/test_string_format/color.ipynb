{
 "cells": [
  {
   "cell_type": "code",
   "execution_count": 1,
   "metadata": {},
   "outputs": [
    {
     "name": "stdout",
     "output_type": "stream",
     "text": [
      "   A  B                               C\n",
      "0  a  b   this is \u001b[31;1mfirst\u001b[0m word\n",
      "1  b  c  this is \u001b[31;1msecond\u001b[0m word\n",
      "2  c  d   this is \u001b[31;1mthird\u001b[0m word\n"
     ]
    }
   ],
   "source": [
    "import pandas as pd\n",
    "\n",
    "df = pd.DataFrame({'A':['a','b','c'],'B':['b','c','d'],'C':['this is first word','this is second word','this is third word']})\n",
    "df['C'] = df['C'].apply(lambda x: x.replace('first','\\033[31;1mfirst\\033[0m'))\n",
    "df['C'] = df['C'].apply(lambda x: x.replace('second','\\033[31;1msecond\\033[0m'))\n",
    "df['C'] = df['C'].apply(lambda x: x.replace('third','\\033[31;1mthird\\033[0m'))\n",
    "print(df)"
   ]
  },
  {
   "cell_type": "code",
   "execution_count": 2,
   "metadata": {},
   "outputs": [
    {
     "data": {
      "text/html": [
       "<style type=\"text/css\">\n",
       "#T_fcb32_row0_col0, #T_fcb32_row0_col1, #T_fcb32_row0_col2, #T_fcb32_row0_col3, #T_fcb32_row2_col0, #T_fcb32_row2_col1, #T_fcb32_row2_col2, #T_fcb32_row2_col3, #T_fcb32_row4_col0, #T_fcb32_row4_col1, #T_fcb32_row4_col2, #T_fcb32_row4_col3, #T_fcb32_row6_col0, #T_fcb32_row6_col1, #T_fcb32_row6_col2, #T_fcb32_row6_col3, #T_fcb32_row8_col0, #T_fcb32_row8_col1, #T_fcb32_row8_col2, #T_fcb32_row8_col3, #T_fcb32_row10_col0, #T_fcb32_row10_col1, #T_fcb32_row10_col2, #T_fcb32_row10_col3 {\n",
       "  color: darkblue;\n",
       "}\n",
       "#T_fcb32_row1_col0, #T_fcb32_row1_col1, #T_fcb32_row1_col2, #T_fcb32_row1_col3, #T_fcb32_row3_col0, #T_fcb32_row3_col1, #T_fcb32_row3_col2, #T_fcb32_row3_col3, #T_fcb32_row5_col0, #T_fcb32_row5_col1, #T_fcb32_row5_col2, #T_fcb32_row5_col3, #T_fcb32_row7_col0, #T_fcb32_row7_col1, #T_fcb32_row7_col2, #T_fcb32_row7_col3, #T_fcb32_row9_col0, #T_fcb32_row9_col1, #T_fcb32_row9_col2, #T_fcb32_row9_col3, #T_fcb32_row11_col0, #T_fcb32_row11_col1, #T_fcb32_row11_col2, #T_fcb32_row11_col3 {\n",
       "  color: darkorange;\n",
       "}\n",
       "</style>\n",
       "<table id=\"T_fcb32\">\n",
       "  <thead>\n",
       "    <tr>\n",
       "      <th class=\"blank\" >&nbsp;</th>\n",
       "      <th class=\"blank level0\" >&nbsp;</th>\n",
       "      <th id=\"T_fcb32_level0_col0\" class=\"col_heading level0 col0\" >00 UTC</th>\n",
       "      <th id=\"T_fcb32_level0_col1\" class=\"col_heading level0 col1\" >06 UTC</th>\n",
       "      <th id=\"T_fcb32_level0_col2\" class=\"col_heading level0 col2\" >12 UTC</th>\n",
       "      <th id=\"T_fcb32_level0_col3\" class=\"col_heading level0 col3\" >18 UTC</th>\n",
       "    </tr>\n",
       "  </thead>\n",
       "  <tbody>\n",
       "    <tr>\n",
       "      <th id=\"T_fcb32_level0_row0\" class=\"row_heading level0 row0\" rowspan=\"2\">Midland</th>\n",
       "      <th id=\"T_fcb32_level1_row0\" class=\"row_heading level1 row0\" >WRF</th>\n",
       "      <td id=\"T_fcb32_row0_col0\" class=\"data row0 col0\" >-1.569163</td>\n",
       "      <td id=\"T_fcb32_row0_col1\" class=\"data row0 col1\" >-0.056923</td>\n",
       "      <td id=\"T_fcb32_row0_col2\" class=\"data row0 col2\" >1.197523</td>\n",
       "      <td id=\"T_fcb32_row0_col3\" class=\"data row0 col3\" >-0.088233</td>\n",
       "    </tr>\n",
       "    <tr>\n",
       "      <th id=\"T_fcb32_level1_row1\" class=\"row_heading level1 row1\" >MOS</th>\n",
       "      <td id=\"T_fcb32_row1_col0\" class=\"data row1 col0\" >0.545256</td>\n",
       "      <td id=\"T_fcb32_row1_col1\" class=\"data row1 col1\" >-0.841252</td>\n",
       "      <td id=\"T_fcb32_row1_col2\" class=\"data row1 col2\" >0.941849</td>\n",
       "      <td id=\"T_fcb32_row1_col3\" class=\"data row1 col3\" >-2.330331</td>\n",
       "    </tr>\n",
       "    <tr>\n",
       "      <th id=\"T_fcb32_level0_row2\" class=\"row_heading level0 row2\" rowspan=\"2\">Hereford</th>\n",
       "      <th id=\"T_fcb32_level1_row2\" class=\"row_heading level1 row2\" >WRF</th>\n",
       "      <td id=\"T_fcb32_row2_col0\" class=\"data row2 col0\" >-1.574823</td>\n",
       "      <td id=\"T_fcb32_row2_col1\" class=\"data row2 col1\" >-0.745532</td>\n",
       "      <td id=\"T_fcb32_row2_col2\" class=\"data row2 col2\" >0.414450</td>\n",
       "      <td id=\"T_fcb32_row2_col3\" class=\"data row2 col3\" >-0.477485</td>\n",
       "    </tr>\n",
       "    <tr>\n",
       "      <th id=\"T_fcb32_level1_row3\" class=\"row_heading level1 row3\" >MOS</th>\n",
       "      <td id=\"T_fcb32_row3_col0\" class=\"data row3 col0\" >0.646050</td>\n",
       "      <td id=\"T_fcb32_row3_col1\" class=\"data row3 col1\" >-2.492770</td>\n",
       "      <td id=\"T_fcb32_row3_col2\" class=\"data row3 col2\" >0.796285</td>\n",
       "      <td id=\"T_fcb32_row3_col3\" class=\"data row3 col3\" >-0.629297</td>\n",
       "    </tr>\n",
       "    <tr>\n",
       "      <th id=\"T_fcb32_level0_row4\" class=\"row_heading level0 row4\" rowspan=\"2\">Hobbs</th>\n",
       "      <th id=\"T_fcb32_level1_row4\" class=\"row_heading level1 row4\" >WRF</th>\n",
       "      <td id=\"T_fcb32_row4_col0\" class=\"data row4 col0\" >0.284963</td>\n",
       "      <td id=\"T_fcb32_row4_col1\" class=\"data row4 col1\" >-0.398090</td>\n",
       "      <td id=\"T_fcb32_row4_col2\" class=\"data row4 col2\" >-0.304693</td>\n",
       "      <td id=\"T_fcb32_row4_col3\" class=\"data row4 col3\" >0.518745</td>\n",
       "    </tr>\n",
       "    <tr>\n",
       "      <th id=\"T_fcb32_level1_row5\" class=\"row_heading level1 row5\" >MOS</th>\n",
       "      <td id=\"T_fcb32_row5_col0\" class=\"data row5 col0\" >0.032687</td>\n",
       "      <td id=\"T_fcb32_row5_col1\" class=\"data row5 col1\" >-0.880872</td>\n",
       "      <td id=\"T_fcb32_row5_col2\" class=\"data row5 col2\" >0.134548</td>\n",
       "      <td id=\"T_fcb32_row5_col3\" class=\"data row5 col3\" >1.096335</td>\n",
       "    </tr>\n",
       "    <tr>\n",
       "      <th id=\"T_fcb32_level0_row6\" class=\"row_heading level0 row6\" rowspan=\"2\">Childress</th>\n",
       "      <th id=\"T_fcb32_level1_row6\" class=\"row_heading level1 row6\" >WRF</th>\n",
       "      <td id=\"T_fcb32_row6_col0\" class=\"data row6 col0\" >1.589354</td>\n",
       "      <td id=\"T_fcb32_row6_col1\" class=\"data row6 col1\" >-0.279918</td>\n",
       "      <td id=\"T_fcb32_row6_col2\" class=\"data row6 col2\" >-0.114653</td>\n",
       "      <td id=\"T_fcb32_row6_col3\" class=\"data row6 col3\" >-0.914757</td>\n",
       "    </tr>\n",
       "    <tr>\n",
       "      <th id=\"T_fcb32_level1_row7\" class=\"row_heading level1 row7\" >MOS</th>\n",
       "      <td id=\"T_fcb32_row7_col0\" class=\"data row7 col0\" >0.274645</td>\n",
       "      <td id=\"T_fcb32_row7_col1\" class=\"data row7 col1\" >-1.253539</td>\n",
       "      <td id=\"T_fcb32_row7_col2\" class=\"data row7 col2\" >-0.733745</td>\n",
       "      <td id=\"T_fcb32_row7_col3\" class=\"data row7 col3\" >0.747648</td>\n",
       "    </tr>\n",
       "    <tr>\n",
       "      <th id=\"T_fcb32_level0_row8\" class=\"row_heading level0 row8\" rowspan=\"2\">Reese</th>\n",
       "      <th id=\"T_fcb32_level1_row8\" class=\"row_heading level1 row8\" >WRF</th>\n",
       "      <td id=\"T_fcb32_row8_col0\" class=\"data row8 col0\" >-0.989373</td>\n",
       "      <td id=\"T_fcb32_row8_col1\" class=\"data row8 col1\" >2.477891</td>\n",
       "      <td id=\"T_fcb32_row8_col2\" class=\"data row8 col2\" >-0.984203</td>\n",
       "      <td id=\"T_fcb32_row8_col3\" class=\"data row8 col3\" >0.989358</td>\n",
       "    </tr>\n",
       "    <tr>\n",
       "      <th id=\"T_fcb32_level1_row9\" class=\"row_heading level1 row9\" >MOS</th>\n",
       "      <td id=\"T_fcb32_row9_col0\" class=\"data row9 col0\" >-1.244766</td>\n",
       "      <td id=\"T_fcb32_row9_col1\" class=\"data row9 col1\" >-2.302608</td>\n",
       "      <td id=\"T_fcb32_row9_col2\" class=\"data row9 col2\" >-0.185702</td>\n",
       "      <td id=\"T_fcb32_row9_col3\" class=\"data row9 col3\" >-0.456829</td>\n",
       "    </tr>\n",
       "    <tr>\n",
       "      <th id=\"T_fcb32_level0_row10\" class=\"row_heading level0 row10\" rowspan=\"2\">San Angelo</th>\n",
       "      <th id=\"T_fcb32_level1_row10\" class=\"row_heading level1 row10\" >WRF</th>\n",
       "      <td id=\"T_fcb32_row10_col0\" class=\"data row10 col0\" >-0.307670</td>\n",
       "      <td id=\"T_fcb32_row10_col1\" class=\"data row10 col1\" >0.316290</td>\n",
       "      <td id=\"T_fcb32_row10_col2\" class=\"data row10 col2\" >0.771507</td>\n",
       "      <td id=\"T_fcb32_row10_col3\" class=\"data row10 col3\" >0.158307</td>\n",
       "    </tr>\n",
       "    <tr>\n",
       "      <th id=\"T_fcb32_level1_row11\" class=\"row_heading level1 row11\" >MOS</th>\n",
       "      <td id=\"T_fcb32_row11_col0\" class=\"data row11 col0\" >0.746801</td>\n",
       "      <td id=\"T_fcb32_row11_col1\" class=\"data row11 col1\" >-0.732567</td>\n",
       "      <td id=\"T_fcb32_row11_col2\" class=\"data row11 col2\" >-1.777553</td>\n",
       "      <td id=\"T_fcb32_row11_col3\" class=\"data row11 col3\" >-0.675885</td>\n",
       "    </tr>\n",
       "  </tbody>\n",
       "</table>\n"
      ],
      "text/plain": [
       "<pandas.io.formats.style.Styler at 0x122d5ff40>"
      ]
     },
     "execution_count": 2,
     "metadata": {},
     "output_type": "execute_result"
    }
   ],
   "source": [
    "import numpy as np\n",
    "import pandas as pd\n",
    "\n",
    "arrays = [['Midland', 'Midland', 'Hereford', 'Hereford', 'Hobbs','Hobbs', 'Childress',\n",
    "           'Childress', 'Reese', 'Reese', 'San Angelo', 'San Angelo'],\n",
    "          ['WRF','MOS','WRF','MOS','WRF','MOS','WRF','MOS','WRF','MOS','WRF','MOS']]\n",
    "tuples = list(zip(*arrays))\n",
    "index = pd.MultiIndex.from_tuples(tuples)\n",
    "df = pd.DataFrame(np.random.randn(12, 4), index=arrays,\n",
    "                  columns=['00 UTC', '06 UTC', '12 UTC', '18 UTC'])\n",
    "\n",
    "\n",
    "def highlight_MOS(s):\n",
    "    is_mos = s.index.get_level_values(1) == 'MOS'\n",
    "    return ['color: darkorange' if v else 'color: darkblue' for v in is_mos]\n",
    "\n",
    "s = df.style.apply(highlight_MOS)\n"
   ]
  },
  {
   "cell_type": "code",
   "execution_count": 19,
   "metadata": {},
   "outputs": [
    {
     "data": {
      "text/plain": [
       "['this', 'is', 'a', 'test']"
      ]
     },
     "execution_count": 19,
     "metadata": {},
     "output_type": "execute_result"
    }
   ],
   "source": []
  },
  {
   "cell_type": "code",
   "execution_count": null,
   "metadata": {},
   "outputs": [],
   "source": []
  }
 ],
 "metadata": {
  "kernelspec": {
   "display_name": "python38",
   "language": "python",
   "name": "python3"
  },
  "language_info": {
   "codemirror_mode": {
    "name": "ipython",
    "version": 3
   },
   "file_extension": ".py",
   "mimetype": "text/x-python",
   "name": "python",
   "nbconvert_exporter": "python",
   "pygments_lexer": "ipython3",
   "version": "3.9.6"
  }
 },
 "nbformat": 4,
 "nbformat_minor": 2
}
