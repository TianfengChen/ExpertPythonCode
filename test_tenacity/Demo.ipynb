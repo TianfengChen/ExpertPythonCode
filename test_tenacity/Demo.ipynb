{
 "cells": [
  {
   "cell_type": "code",
   "execution_count": 4,
   "metadata": {},
   "outputs": [
    {
     "name": "stdout",
     "output_type": "stream",
     "text": [
      "3\n"
     ]
    }
   ],
   "source": [
    "from tenacity import retry\n",
    "\n",
    "#input a until int(a) can be converted, using try except\n",
    "a = 'f'#default a is not a number\n",
    "#first try default a, if it is not a number, then retry input a until it is a number\n",
    "while True:\n",
    "    try:\n",
    "        a = int(a)\n",
    "        break\n",
    "    except:\n",
    "        a = input('Please input a number: ')\n",
    "        continue\n",
    "    \n",
    "print(a)\n"
   ]
  },
  {
   "cell_type": "code",
   "execution_count": 7,
   "metadata": {},
   "outputs": [
    {
     "name": "stdout",
     "output_type": "stream",
     "text": [
      "1\n"
     ]
    }
   ],
   "source": [
    "from tenacity import retry, stop_after_attempt, retry_if_exception_type\n",
    "\n",
    "# Define a function that attempts to convert input to an integer\n",
    "@retry(stop=stop_after_attempt(10), retry=retry_if_exception_type(ValueError))\n",
    "def get_integer():\n",
    "    a = input(\"Please input a number: \")\n",
    "    return int(a)\n",
    "\n",
    "# Call the function and print the result\n",
    "try:\n",
    "    a = get_integer()\n",
    "    print(a)\n",
    "except ValueError:\n",
    "    print(\"Failed to input a valid number after several attempts.\")\n"
   ]
  },
  {
   "cell_type": "code",
   "execution_count": 13,
   "metadata": {},
   "outputs": [
    {
     "name": "stdout",
     "output_type": "stream",
     "text": [
      "1\n"
     ]
    }
   ],
   "source": [
    "from tenacity import retry, stop_after_attempt, retry_if_exception_type\n",
    "\n",
    "# Default value of 'a'\n",
    "a = 1\n",
    "\n",
    "# Define a function that attempts to convert the input to an integer\n",
    "@retry\n",
    "def get_integer(a):\n",
    "    if a is not None:\n",
    "        try:\n",
    "            return int(a)\n",
    "        except ValueError:\n",
    "            pass  # Fall through to input prompt\n",
    "    a = input(\"Please input a number: \")\n",
    "    return int(a)\n",
    "\n",
    "# Try the default value first\n",
    "\n",
    "a = get_integer(a)\n",
    "print(a)\n",
    "\n"
   ]
  },
  {
   "cell_type": "code",
   "execution_count": 15,
   "metadata": {},
   "outputs": [
    {
     "data": {
      "text/plain": [
       "{'b': 2}"
      ]
     },
     "execution_count": 15,
     "metadata": {},
     "output_type": "execute_result"
    }
   ],
   "source": [
    "a = {'a':1,\n",
    "     'b':2}\n",
    "\n",
    "del a['a']\n",
    "a"
   ]
  },
  {
   "cell_type": "code",
   "execution_count": null,
   "metadata": {},
   "outputs": [],
   "source": []
  }
 ],
 "metadata": {
  "kernelspec": {
   "display_name": "python38",
   "language": "python",
   "name": "python3"
  },
  "language_info": {
   "codemirror_mode": {
    "name": "ipython",
    "version": 3
   },
   "file_extension": ".py",
   "mimetype": "text/x-python",
   "name": "python",
   "nbconvert_exporter": "python",
   "pygments_lexer": "ipython3",
   "version": "3.8.13"
  }
 },
 "nbformat": 4,
 "nbformat_minor": 2
}
