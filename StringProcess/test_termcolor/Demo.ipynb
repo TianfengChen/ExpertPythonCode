{
 "cells": [
  {
   "cell_type": "code",
   "execution_count": 1,
   "metadata": {},
   "outputs": [
    {
     "name": "stdout",
     "output_type": "stream",
     "text": [
      "Hello, World!\n"
     ]
    }
   ],
   "source": [
    "import termcolor\n",
    "import random\n",
    "\n",
    "def print_color(text, color):\n",
    "    print(termcolor.colored(text, color))\n",
    "\n",
    "def print_bold(text,color):\n",
    "    return termcolor.colored(text, color, attrs=[\"bold\"])\n",
    "\n",
    "#random color\n",
    "def print_random(text):\n",
    "    return termcolor.colored(text, termcolor.COLORS[random.randint(0, len(termcolor.COLORS)-1)])\n",
    "    \n",
    "    \n",
    "\n",
    "print_color(\"Hello, World!\", \"red\")"
   ]
  },
  {
   "cell_type": "code",
   "execution_count": null,
   "metadata": {},
   "outputs": [],
   "source": []
  }
 ],
 "metadata": {
  "kernelspec": {
   "display_name": "python38",
   "language": "python",
   "name": "python3"
  },
  "language_info": {
   "codemirror_mode": {
    "name": "ipython",
    "version": 3
   },
   "file_extension": ".py",
   "mimetype": "text/x-python",
   "name": "python",
   "nbconvert_exporter": "python",
   "pygments_lexer": "ipython3",
   "version": "3.8.13"
  }
 },
 "nbformat": 4,
 "nbformat_minor": 2
}
