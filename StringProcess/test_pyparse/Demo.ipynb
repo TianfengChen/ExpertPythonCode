{
 "cells": [
  {
   "cell_type": "code",
   "execution_count": 3,
   "metadata": {},
   "outputs": [
    {
     "ename": "NameError",
     "evalue": "name 'grammar' is not defined",
     "output_type": "error",
     "traceback": [
      "\u001b[0;31m---------------------------------------------------------------------------\u001b[0m",
      "\u001b[0;31mNameError\u001b[0m                                 Traceback (most recent call last)",
      "Cell \u001b[0;32mIn [3], line 15\u001b[0m\n\u001b[1;32m      1\u001b[0m \u001b[38;5;28;01mimport\u001b[39;00m \u001b[38;5;21;01mpyparsing\u001b[39;00m \u001b[38;5;28;01mas\u001b[39;00m \u001b[38;5;21;01mpp\u001b[39;00m\n\u001b[1;32m      3\u001b[0m \u001b[38;5;66;03m# Define the grammar\u001b[39;00m\n\u001b[1;32m      4\u001b[0m \u001b[38;5;66;03m# The grammar is a list of rules, each rule is a tuple of the form:\u001b[39;00m\n\u001b[1;32m      5\u001b[0m \u001b[38;5;66;03m# (rule_name, rule_definition)\u001b[39;00m\n\u001b[0;32m   (...)\u001b[0m\n\u001b[1;32m      9\u001b[0m \n\u001b[1;32m     10\u001b[0m \u001b[38;5;66;03m#example grammar\u001b[39;00m\n\u001b[1;32m     11\u001b[0m grammar \u001b[38;5;241m=\u001b[39m [\n\u001b[1;32m     12\u001b[0m     (\u001b[38;5;124m\"\u001b[39m\u001b[38;5;124mnumber\u001b[39m\u001b[38;5;124m\"\u001b[39m, pp\u001b[38;5;241m.\u001b[39mWord(pp\u001b[38;5;241m.\u001b[39mnums)),\n\u001b[1;32m     13\u001b[0m     (\u001b[38;5;124m\"\u001b[39m\u001b[38;5;124moperator\u001b[39m\u001b[38;5;124m\"\u001b[39m, pp\u001b[38;5;241m.\u001b[39moneOf(\u001b[38;5;124m\"\u001b[39m\u001b[38;5;124m+ - * /\u001b[39m\u001b[38;5;124m\"\u001b[39m)),\n\u001b[1;32m     14\u001b[0m     (\u001b[38;5;124m\"\u001b[39m\u001b[38;5;124mexpression\u001b[39m\u001b[38;5;124m\"\u001b[39m, pp\u001b[38;5;241m.\u001b[39mForward()),\n\u001b[0;32m---> 15\u001b[0m     (\u001b[38;5;124m\"\u001b[39m\u001b[38;5;124mexpression\u001b[39m\u001b[38;5;124m\"\u001b[39m, pp\u001b[38;5;241m.\u001b[39mGroup(pp\u001b[38;5;241m.\u001b[39mLiteral(\u001b[38;5;124m'\u001b[39m\u001b[38;5;124m(\u001b[39m\u001b[38;5;124m'\u001b[39m) \u001b[38;5;241m+\u001b[39m grammar[\u001b[38;5;241m2\u001b[39m] \u001b[38;5;241m+\u001b[39m pp\u001b[38;5;241m.\u001b[39mLiteral(\u001b[38;5;124m'\u001b[39m\u001b[38;5;124m)\u001b[39m\u001b[38;5;124m'\u001b[39m))),\n\u001b[1;32m     16\u001b[0m     (\u001b[38;5;124m\"\u001b[39m\u001b[38;5;124mexpression\u001b[39m\u001b[38;5;124m\"\u001b[39m, grammar[\u001b[38;5;241m0\u001b[39m] \u001b[38;5;241m+\u001b[39m grammar[\u001b[38;5;241m1\u001b[39m] \u001b[38;5;241m+\u001b[39m grammar[\u001b[38;5;241m2\u001b[39m])]\n\u001b[1;32m     18\u001b[0m \u001b[38;5;66;03m# Create the parser\u001b[39;00m\n\u001b[1;32m     19\u001b[0m parser \u001b[38;5;241m=\u001b[39m pp\u001b[38;5;241m.\u001b[39mParser(grammar)\n",
      "\u001b[0;31mNameError\u001b[0m: name 'grammar' is not defined"
     ]
    }
   ],
   "source": [
    "import pyparsing as pp\n",
    "\n",
    "#pyparsing is a library for parsing text using Python\n",
    "\n",
    "#example \n",
    "#parse a simple arithmetic expression\n"
   ]
  },
  {
   "cell_type": "code",
   "execution_count": null,
   "metadata": {},
   "outputs": [],
   "source": []
  }
 ],
 "metadata": {
  "kernelspec": {
   "display_name": "python38",
   "language": "python",
   "name": "python3"
  },
  "language_info": {
   "codemirror_mode": {
    "name": "ipython",
    "version": 3
   },
   "file_extension": ".py",
   "mimetype": "text/x-python",
   "name": "python",
   "nbconvert_exporter": "python",
   "pygments_lexer": "ipython3",
   "version": "3.8.13"
  }
 },
 "nbformat": 4,
 "nbformat_minor": 2
}
