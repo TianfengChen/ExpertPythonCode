{
 "cells": [
  {
   "cell_type": "code",
   "execution_count": 3,
   "metadata": {},
   "outputs": [
    {
     "data": {
      "text/html": [
       "<style type=\"text/css\">\n",
       "#T_b0a95_row0_col0, #T_b0a95_row0_col2, #T_b0a95_row1_col0, #T_b0a95_row1_col1, #T_b0a95_row1_col2, #T_b0a95_row2_col0, #T_b0a95_row2_col2, #T_b0a95_row3_col0, #T_b0a95_row3_col1, #T_b0a95_row3_col2, #T_b0a95_row4_col0, #T_b0a95_row4_col2, #T_b0a95_row5_col0, #T_b0a95_row5_col1, #T_b0a95_row5_col2 {\n",
       "  color: black;\n",
       "}\n",
       "#T_b0a95_row0_col1, #T_b0a95_row2_col1, #T_b0a95_row4_col1 {\n",
       "  color: red;\n",
       "}\n",
       "</style>\n",
       "<table id=\"T_b0a95\">\n",
       "  <thead>\n",
       "    <tr>\n",
       "      <th class=\"blank level0\" >&nbsp;</th>\n",
       "      <th id=\"T_b0a95_level0_col0\" class=\"col_heading level0 col0\" >A</th>\n",
       "      <th id=\"T_b0a95_level0_col1\" class=\"col_heading level0 col1\" >B</th>\n",
       "      <th id=\"T_b0a95_level0_col2\" class=\"col_heading level0 col2\" >C</th>\n",
       "    </tr>\n",
       "  </thead>\n",
       "  <tbody>\n",
       "    <tr>\n",
       "      <th id=\"T_b0a95_level0_row0\" class=\"row_heading level0 row0\" >0</th>\n",
       "      <td id=\"T_b0a95_row0_col0\" class=\"data row0 col0\" >0.159087</td>\n",
       "      <td id=\"T_b0a95_row0_col1\" class=\"data row0 col1\" >foo</td>\n",
       "      <td id=\"T_b0a95_row0_col2\" class=\"data row0 col2\" >this is word1</td>\n",
       "    </tr>\n",
       "    <tr>\n",
       "      <th id=\"T_b0a95_level0_row1\" class=\"row_heading level0 row1\" >1</th>\n",
       "      <td id=\"T_b0a95_row1_col0\" class=\"data row1 col0\" >2.336673</td>\n",
       "      <td id=\"T_b0a95_row1_col1\" class=\"data row1 col1\" >bar</td>\n",
       "      <td id=\"T_b0a95_row1_col2\" class=\"data row1 col2\" >this is word2</td>\n",
       "    </tr>\n",
       "    <tr>\n",
       "      <th id=\"T_b0a95_level0_row2\" class=\"row_heading level0 row2\" >2</th>\n",
       "      <td id=\"T_b0a95_row2_col0\" class=\"data row2 col0\" >0.942350</td>\n",
       "      <td id=\"T_b0a95_row2_col1\" class=\"data row2 col1\" >foo</td>\n",
       "      <td id=\"T_b0a95_row2_col2\" class=\"data row2 col2\" >this is word3</td>\n",
       "    </tr>\n",
       "    <tr>\n",
       "      <th id=\"T_b0a95_level0_row3\" class=\"row_heading level0 row3\" >3</th>\n",
       "      <td id=\"T_b0a95_row3_col0\" class=\"data row3 col0\" >-0.747489</td>\n",
       "      <td id=\"T_b0a95_row3_col1\" class=\"data row3 col1\" >bar</td>\n",
       "      <td id=\"T_b0a95_row3_col2\" class=\"data row3 col2\" >this is word4</td>\n",
       "    </tr>\n",
       "    <tr>\n",
       "      <th id=\"T_b0a95_level0_row4\" class=\"row_heading level0 row4\" >4</th>\n",
       "      <td id=\"T_b0a95_row4_col0\" class=\"data row4 col0\" >-1.487863</td>\n",
       "      <td id=\"T_b0a95_row4_col1\" class=\"data row4 col1\" >foo</td>\n",
       "      <td id=\"T_b0a95_row4_col2\" class=\"data row4 col2\" >this is word5</td>\n",
       "    </tr>\n",
       "    <tr>\n",
       "      <th id=\"T_b0a95_level0_row5\" class=\"row_heading level0 row5\" >5</th>\n",
       "      <td id=\"T_b0a95_row5_col0\" class=\"data row5 col0\" >-0.318608</td>\n",
       "      <td id=\"T_b0a95_row5_col1\" class=\"data row5 col1\" >bar</td>\n",
       "      <td id=\"T_b0a95_row5_col2\" class=\"data row5 col2\" >this is word6</td>\n",
       "    </tr>\n",
       "  </tbody>\n",
       "</table>\n"
      ],
      "text/plain": [
       "<pandas.io.formats.style.Styler at 0x7f8dc8c7a5b0>"
      ]
     },
     "execution_count": 3,
     "metadata": {},
     "output_type": "execute_result"
    }
   ],
   "source": [
    "#test pandas style\n",
    "import pandas as pd\n",
    "import numpy as np\n",
    "\n",
    "df = pd.DataFrame({'A': np.random.randn(6),\n",
    "                   'B': ['foo', 'bar'] * 3,\n",
    "                   'C': ['this is word1', 'this is word2', \n",
    "                         'this is word3', 'this is word4', \n",
    "                         'this is word5', 'this is word6']})\n",
    "\n",
    "#change the color of the foo in column B into red\n",
    "def color_red(val):\n",
    "    color = 'red' if val == 'foo' else 'black'\n",
    "    return 'color: %s' % color\n",
    "\n",
    "df.style.applymap(color_red)\n",
    "\n"
   ]
  },
  {
   "cell_type": "code",
   "execution_count": null,
   "metadata": {},
   "outputs": [],
   "source": []
  }
 ],
 "metadata": {
  "kernelspec": {
   "display_name": "python38",
   "language": "python",
   "name": "python3"
  },
  "language_info": {
   "codemirror_mode": {
    "name": "ipython",
    "version": 3
   },
   "file_extension": ".py",
   "mimetype": "text/x-python",
   "name": "python",
   "nbconvert_exporter": "python",
   "pygments_lexer": "ipython3",
   "version": "3.8.13"
  }
 },
 "nbformat": 4,
 "nbformat_minor": 2
}
