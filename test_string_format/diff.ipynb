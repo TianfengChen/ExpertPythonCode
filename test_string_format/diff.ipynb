{
 "cells": [
  {
   "cell_type": "code",
   "execution_count": 2,
   "metadata": {},
   "outputs": [],
   "source": [
    "#find the difference between two sentences and display the difference part in red color\n",
    "import difflib\n",
    "import sys\n",
    "import re"
   ]
  },
  {
   "cell_type": "code",
   "execution_count": 9,
   "metadata": {},
   "outputs": [
    {
     "name": "stdout",
     "output_type": "stream",
     "text": [
      "this is the A sentence, and I like her \n",
      "this is the B sentence, and he like her\n",
      "this is the C sentence, and he like me \n",
      "this is the \u001b[1;31mA\u001b[0mB sentence, and \u001b[1;31mI\u001b[0mhe like her\n",
      "\n",
      "this is the \u001b[1;31mA\u001b[0mC sentence, and \u001b[1;31mI\u001b[0mhe like \u001b[1;31mh\u001b[0mme\u001b[1;31mr\u001b[0m\n",
      "\n"
     ]
    }
   ],
   "source": [
    "#test case\n",
    "\n",
    "C = 'this is the C sentence, and he like me'\n",
    "#find the difference between more than 2 sentences and display the difference part in red color\n",
    "def diff(sen_list):\n",
    "    #find the longest sentence\n",
    "    max_len = 0\n",
    "    for i in sen_list:\n",
    "        if len(i) > max_len:\n",
    "            max_len = len(i)\n",
    "    #find the difference between the longest sentence and other sentences\n",
    "    for i in sen_list:\n",
    "        if len(i) < max_len:\n",
    "            for j in range(max_len - len(i)):\n",
    "                i = i + ' '\n",
    "        print(i)\n",
    "    #find the difference between other sentences and the longest sentence\n",
    "    for i in range(len(sen_list)):\n",
    "        if i == 0:\n",
    "            continue\n",
    "        else:\n",
    "            for j in difflib.ndiff(sen_list[0],sen_list[i]):\n",
    "                if j[0] == '-':\n",
    "                    sys.stdout.write('\\033[1;31m' + j[-1] + '\\033[0m')\n",
    "                else:\n",
    "                    sys.stdout.write(j[-1])\n",
    "            print('\\n')\n",
    "\n",
    "\n",
    "diff([A,B,C])"
   ]
  },
  {
   "cell_type": "code",
   "execution_count": 16,
   "metadata": {},
   "outputs": [
    {
     "name": "stdout",
     "output_type": "stream",
     "text": [
      "  this\n",
      "  is\n",
      "  the\n",
      "- A\n",
      "+ B\n",
      "  sentence,\n",
      "  and\n",
      "+ he\n",
      "- I\n",
      "- but\n",
      "- not\n",
      "- myself\n",
      "  like\n",
      "  her\n",
      "this is the \u001b[1;31mA\u001b[0m sentence, and \u001b[1;31mI\u001b[0m \u001b[1;31mbut\u001b[0m \u001b[1;31mnot\u001b[0m \u001b[1;31mmyself\u001b[0m like her \n"
     ]
    }
   ],
   "source": [
    "A = 'this is the A sentence, and I but not myself like her'\n",
    "B = 'this is the B sentence, and he like her'\n",
    "A = A.split(' ')\n",
    "B = B.split(' ')\n",
    "#find the different part index in A and B using difflib\n",
    "def diff_index(A,B):\n",
    "    A_index = []\n",
    "    B_index = []\n",
    "    A_idx = 0\n",
    "    B_idx = 0\n",
    "    for i in difflib.ndiff(A,B):\n",
    "        print(i)\n",
    "        if i[0] == '-':\n",
    "            A_index.append(A_idx)\n",
    "            A_idx += 1\n",
    "        elif i[0] == '+':\n",
    "            B_index.append(B_idx)\n",
    "            B_idx += 1\n",
    "        else:\n",
    "            A_idx += 1\n",
    "            B_idx += 1\n",
    "    return A_index,B_index\n",
    "\n",
    "A_index,B_index = diff_index(A,B)\n",
    "#color the index part in red color\n",
    "def color(A,A_index):\n",
    "    return_list = ''\n",
    "    for i in range(len(A)):\n",
    "        if i in A_index:\n",
    "            return_list+='\\033[1;31m' + A[i] + '\\033[0m '\n",
    "        else:\n",
    "            return_list+=A[i]+' '\n",
    "    return return_list\n",
    "print(color(A,A_index))"
   ]
  },
  {
   "cell_type": "code",
   "execution_count": 14,
   "metadata": {},
   "outputs": [
    {
     "name": "stdout",
     "output_type": "stream",
     "text": [
      "\u001b[1;31mhello\u001b[0m\n"
     ]
    }
   ],
   "source": [
    "s1 = '\\033[1;31m %s \\033[0m' % 'hello'\n",
    "s1 = eval(\"'\\033[1;31m' +'hello'+ '\\033[0m'\")\n",
    "print(s1)"
   ]
  },
  {
   "cell_type": "code",
   "execution_count": 18,
   "metadata": {},
   "outputs": [
    {
     "name": "stdout",
     "output_type": "stream",
     "text": [
      "[Match(a=0, b=0, size=12), Match(a=13, b=13, size=15), Match(a=41, b=29, size=1), Match(a=44, b=30, size=9), Match(a=53, b=39, size=0)]\n"
     ]
    }
   ],
   "source": [
    "#test diff.SequenceMatcher\n",
    "A = 'this is the A sentence, and I but not myself like her'\n",
    "B = 'this is the B sentence, and he like her'\n",
    "#A = A.split(' ')\n",
    "#B = B.split(' ')\n",
    "s = difflib.SequenceMatcher(None,A,B)\n",
    "print(s.get_matching_blocks())\n"
   ]
  },
  {
   "cell_type": "code",
   "execution_count": null,
   "metadata": {},
   "outputs": [],
   "source": []
  }
 ],
 "metadata": {
  "kernelspec": {
   "display_name": "python38",
   "language": "python",
   "name": "python3"
  },
  "language_info": {
   "codemirror_mode": {
    "name": "ipython",
    "version": 3
   },
   "file_extension": ".py",
   "mimetype": "text/x-python",
   "name": "python",
   "nbconvert_exporter": "python",
   "pygments_lexer": "ipython3",
   "version": "3.8.13"
  }
 },
 "nbformat": 4,
 "nbformat_minor": 2
}
