{
 "cells": [
  {
   "cell_type": "code",
   "execution_count": null,
   "metadata": {},
   "outputs": [],
   "source": [
    "#advaced python has a standard naming rule:\n",
    "#1. class name should be in CamelCase\n",
    "#2. function name should be in snake_case\n",
    "#3. variable name should be in snake_case\n",
    "#4. constant name should be in UPPERCASE\n",
    "#5. in class, the function with \"__\" prefix and suffix is called magic function, which is used to override the default behavior of the class,\n",
    "#for example, __init__, __str__, __repr__, __add__, __sub__, __mul__, __div__, __eq__, __lt__, __gt__, __le__, __ge__, __ne__, __getitem__, __setitem__, __delitem__, __iter__, __next__, __contains__, __len__, __call__, __enter__, __exit__, etc.\n",
    "#6. in class, the function with \"_\" prefix is called private function, which is used to hide the function from outside of the class\n",
    "#7. in class, the function with \"__\" prefix is called protected function, which is used to hide the function from outside of the class, but can be accessed by the subclass\n"
   ]
  },
  {
   "cell_type": "code",
   "execution_count": 2,
   "metadata": {},
   "outputs": [
    {
     "name": "stdout",
     "output_type": "stream",
     "text": [
      "__main__\n"
     ]
    }
   ],
   "source": [
    "#some protected functions for every class\n",
    "#1. __init__: initialize the class\n",
    "#2. __str__: print the class\n",
    "#3. __repr__: print the class\n",
    "#4. __add__: add two classes\n",
    "#5. __sub__: subtract two classes\n",
    "#6. __mul__: multiply two classes\n",
    "#7. __div__: divide two classes\n",
    "#8. __eq__: compare two classes\n",
    "#9. __lt__: compare two classes\n",
    "#10. __gt__: compare two classes\n",
    "#11. __le__: compare two classes\n",
    "#12. __ge__: compare two classes\n",
    "#13. __ne__: compare two classes\n",
    "#14. __getitem__: get the item from the class\n",
    "#15. __setitem__: set the item for the class\n",
    "#16. __delitem__: delete the item from the class\n",
    "#17. __iter__: iterate the class\n",
    "#18. __next__: iterate the class\n",
    "#19. __contains__: check if the class contains the item\n",
    "#20. __len__: get the length of the class\n",
    "\n",
    "#what is __name__ and __main__?\n",
    "#1. __name__ is a special variable in python, which is used to store the name of the module\n",
    "#2. __main__ is a special variable in python, which is used to store the name of the main module\n",
    "#more like these: \n",
    "#3. __all__: a list of public objects of that module, as interpreted by import *\n",
    "\n"
   ]
  },
  {
   "cell_type": "code",
   "execution_count": null,
   "metadata": {},
   "outputs": [],
   "source": []
  }
 ],
 "metadata": {
  "kernelspec": {
   "display_name": "Python 3",
   "language": "python",
   "name": "python3"
  },
  "language_info": {
   "codemirror_mode": {
    "name": "ipython",
    "version": 3
   },
   "file_extension": ".py",
   "mimetype": "text/x-python",
   "name": "python",
   "nbconvert_exporter": "python",
   "pygments_lexer": "ipython3",
   "version": "3.9.6"
  }
 },
 "nbformat": 4,
 "nbformat_minor": 2
}
