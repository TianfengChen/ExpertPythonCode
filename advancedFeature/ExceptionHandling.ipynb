{
 "cells": [
  {
   "cell_type": "code",
   "execution_count": 7,
   "metadata": {},
   "outputs": [
    {
     "name": "stdout",
     "output_type": "stream",
     "text": [
      "ZeroDivisionError\n",
      "NameError\n",
      "TypeError\n",
      "ValueError\n",
      "IndexError\n"
     ]
    },
    {
     "ename": "KeyError",
     "evalue": "'KeyError'",
     "output_type": "error",
     "traceback": [
      "\u001b[0;31m---------------------------------------------------------------------------\u001b[0m",
      "\u001b[0;31mKeyError\u001b[0m                                  Traceback (most recent call last)",
      "Cell \u001b[0;32mIn [7], line 34\u001b[0m\n\u001b[1;32m     33\u001b[0m     a\u001b[38;5;241m=\u001b[39m{\u001b[38;5;124m\"\u001b[39m\u001b[38;5;124mb\u001b[39m\u001b[38;5;124m\"\u001b[39m:\u001b[38;5;241m1\u001b[39m}\n\u001b[0;32m---> 34\u001b[0m     \u001b[38;5;28mprint\u001b[39m(a[\u001b[38;5;124m\"\u001b[39m\u001b[38;5;124ma\u001b[39m\u001b[38;5;124m\"\u001b[39m])\n\u001b[1;32m     35\u001b[0m \u001b[38;5;28;01mexcept\u001b[39;00m \u001b[38;5;167;01mKeyError\u001b[39;00m:\n",
      "\u001b[0;31mKeyError\u001b[0m: 'a'",
      "\nDuring handling of the above exception, another exception occurred:\n",
      "\u001b[0;31mKeyError\u001b[0m                                  Traceback (most recent call last)",
      "Cell \u001b[0;32mIn [7], line 36\u001b[0m\n\u001b[1;32m     34\u001b[0m     \u001b[38;5;28mprint\u001b[39m(a[\u001b[38;5;124m\"\u001b[39m\u001b[38;5;124ma\u001b[39m\u001b[38;5;124m\"\u001b[39m])\n\u001b[1;32m     35\u001b[0m \u001b[38;5;28;01mexcept\u001b[39;00m \u001b[38;5;167;01mKeyError\u001b[39;00m:\n\u001b[0;32m---> 36\u001b[0m     \u001b[38;5;28;01mraise\u001b[39;00m \u001b[38;5;167;01mKeyError\u001b[39;00m(\u001b[38;5;124m\"\u001b[39m\u001b[38;5;124mKeyError\u001b[39m\u001b[38;5;124m\"\u001b[39m)\n\u001b[1;32m     38\u001b[0m \u001b[38;5;66;03m#7. FileNotFoundError: [Errno 2] No such file or directory: 'a.txt'\u001b[39;00m\n\u001b[1;32m     39\u001b[0m \u001b[38;5;28;01mtry\u001b[39;00m:\n",
      "\u001b[0;31mKeyError\u001b[0m: 'KeyError'"
     ]
    }
   ],
   "source": [
    "#there are so many exceptions to raise:\n",
    "#1. ZeroDivisionError\n",
    "try:\n",
    "    print(1/0)\n",
    "except ZeroDivisionError:\n",
    "    print(\"ZeroDivisionError\")\n",
    "\n",
    "#2. NameError: name 'a' is not defined\n",
    "try:\n",
    "    print(a)\n",
    "except NameError:\n",
    "    print(\"NameError\")\n",
    "#3. TypeError: can only concatenate str (not \"int\") to str\n",
    "try:\n",
    "    print(\"5\"+5)\n",
    "except TypeError:\n",
    "    print(\"TypeError\")\n",
    "#4. ValueError: invalid literal for int() with base 10: 'a'\n",
    "try:\n",
    "    print(int(\"a\"))\n",
    "except ValueError:\n",
    "    print(\"ValueError\")\n",
    "    \n",
    "#5. IndexError: list index out of range\n",
    "try:\n",
    "    a=[1,2,3]\n",
    "    print(a[3])\n",
    "except IndexError:\n",
    "    print(\"IndexError\")\n",
    "\n",
    "#6. KeyError: 'a'\n",
    "try:\n",
    "    a={\"b\":1}\n",
    "    print(a[\"a\"])\n",
    "except KeyError:\n",
    "    raise KeyError(\"KeyError\")\n",
    "\n",
    "#7. FileNotFoundError: [Errno 2] No such file or directory: 'a.txt'\n",
    "try:\n",
    "    with open(\"a.txt\",\"r\") as f:\n",
    "        print(f.read())\n",
    "except FileNotFoundError:\n",
    "    raise FileNotFoundError(\"FileNotFoundError\")\n",
    "\n",
    "#8. ImportError: No module named 'a'\n",
    "try:\n",
    "    import a\n",
    "except ImportError:\n",
    "    raise ImportError(\"ImportError\")\n",
    "\n",
    "#9. KeyboardInterrupt\n",
    "try:\n",
    "    while True:\n",
    "        pass\n",
    "except KeyboardInterrupt:\n",
    "    raise KeyboardInterrupt(\"KeyboardInterrupt\")\n",
    "\n",
    "#10. MemoryError\n",
    "try:\n",
    "    a=[1]*100\n",
    "except MemoryError:\n",
    "    raise MemoryError(\"MemoryError\")\n",
    "\n",
    "#11. RecursionError: maximum recursion depth exceeded in comparison\n",
    "def f():\n",
    "    return f()\n",
    "try:\n",
    "    f()\n",
    "except RecursionError:\n",
    "    raise RecursionError(\"RecursionError\")\n",
    "\n",
    "#12. IndentationError: expected an indented block\n",
    "try:\n",
    "    if True:\n",
    "        print(\"a\")\n",
    "except IndentationError:\n",
    "    raise IndentationError(\"IndentationError\")\n",
    "\n",
    "#13. TabError: inconsistent use of tabs and spaces in indentation\n",
    "try:\n",
    "    if True:\n",
    "        print(\"a\")\n",
    "    else:\n",
    "        print(\"b\")\n",
    "except TabError:\n",
    "    raise TabError(\"TabError\")\n",
    "\n"
   ]
  },
  {
   "cell_type": "code",
   "execution_count": 7,
   "metadata": {},
   "outputs": [
    {
     "name": "stdout",
     "output_type": "stream",
     "text": [
      "An exception flew by!\n",
      "ZeroDivisionError\n"
     ]
    },
    {
     "ename": "AssertionError",
     "evalue": "a is not 2",
     "output_type": "error",
     "traceback": [
      "\u001b[0;31m---------------------------------------------------------------------------\u001b[0m",
      "\u001b[0;31mAssertionError\u001b[0m                            Traceback (most recent call last)",
      "Cell \u001b[0;32mIn [7], line 17\u001b[0m\n\u001b[1;32m     15\u001b[0m a\u001b[38;5;241m=\u001b[39m\u001b[38;5;241m1\u001b[39m\n\u001b[1;32m     16\u001b[0m \u001b[38;5;28;01massert\u001b[39;00m a\u001b[38;5;241m==\u001b[39m\u001b[38;5;241m1\u001b[39m\n\u001b[0;32m---> 17\u001b[0m \u001b[38;5;28;01massert\u001b[39;00m a\u001b[38;5;241m==\u001b[39m\u001b[38;5;241m2\u001b[39m,\u001b[38;5;124m\"\u001b[39m\u001b[38;5;124ma is not 2\u001b[39m\u001b[38;5;124m\"\u001b[39m\n",
      "\u001b[0;31mAssertionError\u001b[0m: a is not 2"
     ]
    }
   ],
   "source": [
    "#raise exceptions vs assert vs try...except\n",
    "#1. raise exceptions\n",
    "try:\n",
    "    raise NameError(\"HiThere\")\n",
    "except NameError:\n",
    "    print(\"An exception flew by!\")\n",
    "    \n",
    "#2. try...except\n",
    "try:\n",
    "    a=1/0\n",
    "except ZeroDivisionError:\n",
    "    print(\"ZeroDivisionError\")\n",
    "    \n",
    "#3. assert\n",
    "a=1\n",
    "assert a==1\n",
    "assert a==2,\"a is not 2\"\n",
    "#assert a==2 #AssertionError: a is not 2\n"
   ]
  },
  {
   "cell_type": "code",
   "execution_count": 6,
   "metadata": {},
   "outputs": [
    {
     "name": "stdout",
     "output_type": "stream",
     "text": [
      "B\n",
      "C\n",
      "D\n"
     ]
    }
   ],
   "source": [
    "#self-defined exceptions\n",
    "class B(Exception):\n",
    "    pass\n",
    "class C(B):\n",
    "    pass\n",
    "class D(C):\n",
    "    pass\n",
    "\n",
    "for cls in [B,C,D]:\n",
    "    try:\n",
    "        raise cls()\n",
    "    except D:\n",
    "        print(\"D\")\n",
    "    except C:\n",
    "        print(\"C\")\n",
    "    except B:\n",
    "        print(\"B\")"
   ]
  },
  {
   "cell_type": "code",
   "execution_count": 10,
   "metadata": {},
   "outputs": [
    {
     "name": "stdout",
     "output_type": "stream",
     "text": [
      "An exception flew by!\n",
      "try\n",
      "else\n",
      "try\n",
      "finally\n",
      "1.0\n"
     ]
    }
   ],
   "source": [
    "#1. try...except\n",
    "try:\n",
    "    raise NameError(\"HiThere\")\n",
    "except NameError:\n",
    "    print(\"An exception flew by!\")\n",
    "#it means that if NameError is raised, then print \"An exception flew by!\"\n",
    "    \n",
    "#2. try...except...else\n",
    "#the else block is executed if no exception is raised\n",
    "try:\n",
    "    print(\"try\")\n",
    "except:\n",
    "    print(\"except\")\n",
    "else:\n",
    "    print(\"else\")\n",
    "    \n",
    "#3. try...except...finally\n",
    "#the finally block is always executed\n",
    "try:\n",
    "    print(\"try\")\n",
    "except:\n",
    "    print(\"except\")\n",
    "finally:\n",
    "    print(\"finally\")\n",
    "    \n",
    "#4. raise: sometimes, we don't want to handle the exception, we just want to raise it and let the caller handle it\n",
    "#example:\n",
    "class MyError(Exception):\n",
    "    def __init__(self):\n",
    "        pass\n",
    "    def __str__(self):\n",
    "        #__str__ is a special method that is called by the str() built-in function and by the print statement to compute the “informal” or nicely printable string representation of an object.\n",
    "        return \"MyError\"\n",
    "    \n",
    "def divide(x,y):\n",
    "    if y==0:\n",
    "        raise MyError()\n",
    "    #    raise ZeroDivisionError(\"division by zero\")\n",
    "    return x/y\n",
    "try:\n",
    "    a = divide(1,1)\n",
    "    print(a)\n",
    "except MyError:\n",
    "    print(MyError())\n",
    "    \n",
    "    \n",
    "    \n",
    "\n"
   ]
  },
  {
   "cell_type": "code",
   "execution_count": 12,
   "metadata": {},
   "outputs": [
    {
     "name": "stdout",
     "output_type": "stream",
     "text": [
      "ZeroDivisionError\n"
     ]
    },
    {
     "name": "stderr",
     "output_type": "stream",
     "text": [
      "Traceback (most recent call last):\n",
      "  File \"/var/folders/gh/tvb2tx1j6ws_4lk959js7zn00000gn/T/ipykernel_22776/3522378085.py\", line 10, in <module>\n",
      "    a=1/0\n",
      "ZeroDivisionError: division by zero\n"
     ]
    }
   ],
   "source": [
    "#show the traceback and execute except block\n",
    "try:\n",
    "    a=1/0\n",
    "except ZeroDivisionError:\n",
    "    print(\"ZeroDivisionError\")\n",
    "# I cannot find the traceback, so I cannot know the error message\n",
    "#try again:\n",
    "import traceback\n",
    "try:\n",
    "    a=1/0\n",
    "except ZeroDivisionError:\n",
    "    traceback.print_exc()\n"
   ]
  },
  {
   "cell_type": "code",
   "execution_count": 13,
   "metadata": {},
   "outputs": [
    {
     "name": "stdout",
     "output_type": "stream",
     "text": [
      "['False', 'None', 'True', 'and', 'as', 'assert', 'async', 'await', 'break', 'class', 'continue', 'def', 'del', 'elif', 'else', 'except', 'finally', 'for', 'from', 'global', 'if', 'import', 'in', 'is', 'lambda', 'nonlocal', 'not', 'or', 'pass', 'raise', 'return', 'try', 'while', 'with', 'yield']\n"
     ]
    }
   ],
   "source": [
    "import keyword\n",
    "\n",
    "print(keyword.kwlist)"
   ]
  },
  {
   "cell_type": "code",
   "execution_count": 14,
   "metadata": {},
   "outputs": [
    {
     "ename": "ModuleNotFoundError",
     "evalue": "No module named 'keywords'",
     "output_type": "error",
     "traceback": [
      "\u001b[0;31m---------------------------------------------------------------------------\u001b[0m",
      "\u001b[0;31mModuleNotFoundError\u001b[0m                       Traceback (most recent call last)",
      "Cell \u001b[0;32mIn [14], line 1\u001b[0m\n\u001b[0;32m----> 1\u001b[0m \u001b[38;5;28;01mimport\u001b[39;00m \u001b[38;5;21;01mkeywords\u001b[39;00m\n",
      "\u001b[0;31mModuleNotFoundError\u001b[0m: No module named 'keywords'"
     ]
    }
   ],
   "source": [
    "import keywords"
   ]
  },
  {
   "cell_type": "code",
   "execution_count": 16,
   "metadata": {},
   "outputs": [],
   "source": [
    "a = (1,2,1)"
   ]
  },
  {
   "cell_type": "code",
   "execution_count": null,
   "metadata": {},
   "outputs": [],
   "source": [
    "#who is the author of python?\n",
    "#"
   ]
  }
 ],
 "metadata": {
  "kernelspec": {
   "display_name": "python38",
   "language": "python",
   "name": "python3"
  },
  "language_info": {
   "codemirror_mode": {
    "name": "ipython",
    "version": 3
   },
   "file_extension": ".py",
   "mimetype": "text/x-python",
   "name": "python",
   "nbconvert_exporter": "python",
   "pygments_lexer": "ipython3",
   "version": "3.8.13"
  }
 },
 "nbformat": 4,
 "nbformat_minor": 2
}
