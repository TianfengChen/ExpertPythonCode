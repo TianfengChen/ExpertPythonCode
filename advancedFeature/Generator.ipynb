{
 "cells": [
  {
   "cell_type": "code",
   "execution_count": 1,
   "metadata": {},
   "outputs": [
    {
     "name": "stdout",
     "output_type": "stream",
     "text": [
      "[0, 1, 4, 9, 16, 25, 36, 49, 64, 81]\n",
      "<generator object fib at 0x104e676d0>\n",
      "1\n",
      "1\n",
      "2\n",
      "3\n",
      "5\n",
      "8\n"
     ]
    }
   ],
   "source": [
    "#generator and yield\n",
    "#generator:一边循环一边计算的机制，称为生成器：generator\n",
    "#创建generator方法一：把一个列表生成式的[]改成()\n",
    "L = [x*x for x in range(10)]\n",
    "print(L)\n",
    "#创建generator方法二：如果一个函数定义中包含yield关键字，那么这个函数就不再是一个普通函数，而是一个generator\n",
    "#generator和函数执行流程不一样，函数是顺序执行，遇到return语句或者最后一行函数语句就返回\n",
    "#而generator函数，在每次调用next()的时候执行，遇到yield语句返回，再次执行时从上次返回的yield语句处继续执行\n",
    "\n",
    "def fib(max):\n",
    "    n,a,b = 0,0,1\n",
    "    while n < max:\n",
    "        yield b\n",
    "        a,b = b,a+b\n",
    "        n +=1\n",
    "    return 'done'\n",
    "\n",
    "f = fib(6)\n",
    "#total execution flow\n",
    "#1.执行yield b时，返回b的值，且暂停\n",
    "#2.执行a,b = b,a+b\n",
    "#3.执行n+=1\n",
    "#4.执行yield b,返回b的值，且暂停\n",
    "#...\n",
    "#make it a list\n",
    "\n",
    "print(fib(6))\n",
    "for n in fib(6):\n",
    "    print(n)\n"
   ]
  },
  {
   "cell_type": "code",
   "execution_count": 3,
   "metadata": {},
   "outputs": [
    {
     "name": "stdout",
     "output_type": "stream",
     "text": [
      "[1]\n",
      "[1, 1]\n",
      "[1, 2, 1]\n",
      "[1, 3, 3, 1]\n",
      "[1, 4, 6, 4, 1]\n",
      "[1]\n",
      "[1, 1]\n",
      "[1, 2, 1]\n",
      "[1, 3, 3, 1]\n",
      "[1, 4, 6, 4, 1]\n"
     ]
    }
   ],
   "source": [
    "#yeild generator\n",
    "#generator函数的“调用”实际返回一个generator对象\n",
    "#在for循环中，generator对象是可迭代对象\n",
    "#generator对象不仅可以用于for循环，还可以不断调用next()函数获取下一个返回值\n",
    "#直到遇到StopIteration错误\n",
    "#generator对象表示一个自定义迭代器\n",
    "#generator对象是可迭代对象\n",
    "#generator对象是迭代器\n",
    "\n",
    "#exercise\n",
    "#杨辉三角\n",
    "def triangles():\n",
    "    L = [1]\n",
    "    while True:\n",
    "        yield L\n",
    "        L = [1] + [L[i] + L[i+1] for i in range(len(L)-1)] + [1]\n",
    "\n",
    "cnt = 0\n",
    "for t in triangles():\n",
    "    print(t)\n",
    "    cnt += 1\n",
    "    if cnt == 5:\n",
    "        break\n",
    "    \n",
    "#if there is no yield, how to do it?\n",
    "def triangles_def(n):\n",
    "    L = [1]\n",
    "    for k in range(n):\n",
    "        print(L)\n",
    "        L = [1] + [L[i] + L[i+1] for i in range(len(L)-1)] + [1]\n",
    "\n",
    "triangles_def(5)\n"
   ]
  },
  {
   "cell_type": "code",
   "execution_count": null,
   "metadata": {},
   "outputs": [],
   "source": []
  }
 ],
 "metadata": {
  "kernelspec": {
   "display_name": "python38",
   "language": "python",
   "name": "python3"
  },
  "language_info": {
   "codemirror_mode": {
    "name": "ipython",
    "version": 3
   },
   "file_extension": ".py",
   "mimetype": "text/x-python",
   "name": "python",
   "nbconvert_exporter": "python",
   "pygments_lexer": "ipython3",
   "version": "3.9.6"
  }
 },
 "nbformat": 4,
 "nbformat_minor": 2
}
