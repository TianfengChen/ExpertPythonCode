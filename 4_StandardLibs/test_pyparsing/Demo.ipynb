{
 "cells": [
  {
   "cell_type": "code",
   "execution_count": null,
   "metadata": {},
   "outputs": [],
   "source": [
    "import pyparsing as pp\n",
    "#pyparsing is a library for parsing text using Python\n",
    "\n",
    "from pyparsing import Word, alphas, Suppress, Combine, nums, string, Optional, Regex, Literal, Forward, Group, oneOf, ZeroOrMore, OneOrMore\n",
    "\n",
    "# Define the grammar for the language\n",
    "#example:\n",
    "\n",
    "#<expr> ::= <term> + <expr> | <term> - <expr> | <term>\n",
    "\n",
    "\n"
   ]
  }
 ],
 "metadata": {
  "language_info": {
   "name": "python"
  }
 },
 "nbformat": 4,
 "nbformat_minor": 2
}
