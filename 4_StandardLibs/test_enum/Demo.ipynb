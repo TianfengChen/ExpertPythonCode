{
 "cells": [
  {
   "cell_type": "code",
   "execution_count": 1,
   "metadata": {},
   "outputs": [],
   "source": [
    "import enum\n",
    "#enum is a module that provides a way to create enumerations in Python. \n",
    "# An enumeration is a set of symbolic names (members) bound to unique, constant values. \n",
    "# Within an enumeration, the members can be compared by identity, and the enumeration itself can be iterated over."
   ]
  },
  {
   "cell_type": "code",
   "execution_count": 8,
   "metadata": {},
   "outputs": [
    {
     "name": "stdout",
     "output_type": "stream",
     "text": [
      "False\n"
     ]
    },
    {
     "data": {
      "text/plain": [
       "False"
      ]
     },
     "execution_count": 8,
     "metadata": {},
     "output_type": "execute_result"
    }
   ],
   "source": [
    "from enum import Enum\n",
    "\n",
    "class Color(Enum):\n",
    "    RED = 1\n",
    "    GREEN = 2\n",
    "    BLUE = 3\n",
    "    \n",
    "# Enum members are hashable and can be used in dictionaries.\n",
    "d = {}\n",
    "d[Color.RED] = 'red'\n",
    "print(Color.RED == 1) # False\n",
    "\n",
    "#add auto() function to automatically assign values to enum members\n",
    "from enum import auto\n",
    "\n",
    "class Color(Enum):\n",
    "    RED = auto()\n",
    "    GREEN = auto()\n",
    "    BLUE = auto()\n",
    "    \n",
    "# Enum members with the same value are distinct, they are not equal.\n",
    "Color.RED == Color.RED # True\n",
    "Color.RED == Color.GREEN # False\n",
    "Color.RED == 1 # False\n"
   ]
  },
  {
   "cell_type": "code",
   "execution_count": null,
   "metadata": {},
   "outputs": [],
   "source": [
    "# Enum members are compared by identity, not by value.\n",
    "Color.RED is Color.RED # True\n",
    "Color.RED is Color(1) # True"
   ]
  },
  {
   "cell_type": "code",
   "execution_count": 9,
   "metadata": {},
   "outputs": [
    {
     "name": "stdout",
     "output_type": "stream",
     "text": [
      "The phone is currently State.OFF_HOOK\n",
      "Select a trigger:\n",
      "0. Trigger.CALL_DIALED\n"
     ]
    },
    {
     "ename": "IndexError",
     "evalue": "list index out of range",
     "output_type": "error",
     "traceback": [
      "\u001b[0;31m---------------------------------------------------------------------------\u001b[0m",
      "\u001b[0;31mIndexError\u001b[0m                                Traceback (most recent call last)",
      "Cell \u001b[0;32mIn [9], line 39\u001b[0m\n\u001b[1;32m     36\u001b[0m         \u001b[38;5;28mprint\u001b[39m(\u001b[38;5;124mf\u001b[39m\u001b[38;5;124m'\u001b[39m\u001b[38;5;132;01m{\u001b[39;00mi\u001b[38;5;132;01m}\u001b[39;00m\u001b[38;5;124m. \u001b[39m\u001b[38;5;132;01m{\u001b[39;00mt\u001b[38;5;132;01m}\u001b[39;00m\u001b[38;5;124m'\u001b[39m)\n\u001b[1;32m     38\u001b[0m     idx \u001b[38;5;241m=\u001b[39m \u001b[38;5;28mint\u001b[39m(\u001b[38;5;28minput\u001b[39m())\n\u001b[0;32m---> 39\u001b[0m     s \u001b[38;5;241m=\u001b[39m \u001b[43mrules\u001b[49m\u001b[43m[\u001b[49m\u001b[43mstate\u001b[49m\u001b[43m]\u001b[49m\u001b[43m[\u001b[49m\u001b[43midx\u001b[49m\u001b[43m]\u001b[49m[\u001b[38;5;241m1\u001b[39m]\n\u001b[1;32m     40\u001b[0m     state \u001b[38;5;241m=\u001b[39m s\n\u001b[1;32m     42\u001b[0m \u001b[38;5;28mprint\u001b[39m(\u001b[38;5;124m'\u001b[39m\u001b[38;5;124mWe are done using the phone\u001b[39m\u001b[38;5;124m'\u001b[39m)\n",
      "\u001b[0;31mIndexError\u001b[0m: list index out of range"
     ]
    }
   ],
   "source": [
    "#state machine\n",
    "class State(Enum):\n",
    "    OFF_HOOK = 0\n",
    "    CONNECTING = 1\n",
    "    CONNECTED = 2\n",
    "    ON_HOLD = 3\n",
    "    ON_HOOK = 4\n",
    "    \n",
    "class Trigger(Enum):\n",
    "    CALL_DIALED = 0\n",
    "    HUNG_UP = 1\n",
    "    CALL_CONNECTED = 2\n",
    "    PLACED_ON_HOLD = 3\n",
    "    TAKEN_OFF_HOLD = 4\n",
    "    LEFT_MESSAGE = 5\n",
    "    \n",
    "if __name__ == '__main__':\n",
    "    rules = {\n",
    "        State.OFF_HOOK: [(Trigger.CALL_DIALED, State.CONNECTING)],\n",
    "        State.CONNECTING: [(Trigger.HUNG_UP, State.ON_HOOK),\n",
    "                           (Trigger.CALL_CONNECTED, State.CONNECTED)],\n",
    "        State.CONNECTED: [(Trigger.LEFT_MESSAGE, State.ON_HOOK),\n",
    "                          (Trigger.HUNG_UP, State.ON_HOOK),\n",
    "                          (Trigger.PLACED_ON_HOLD, State.ON_HOLD)],\n",
    "        State.ON_HOLD: [(Trigger.TAKEN_OFF_HOLD, State.CONNECTED),\n",
    "                        (Trigger.HUNG_UP, State.ON_HOOK)]\n",
    "    }\n",
    "    \n",
    "    state = State.OFF_HOOK\n",
    "    while True:\n",
    "        print(f'The phone is currently {state}')\n",
    "        print('Select a trigger:')\n",
    "        \n",
    "        for i in range(len(rules[state])):\n",
    "            t = rules[state][i][0]\n",
    "            print(f'{i}. {t}')\n",
    "            \n",
    "        idx = int(input())\n",
    "        s = rules[state][idx][1]\n",
    "        state = s\n",
    "        \n",
    "    print('We are done using the phone')\n",
    "    "
   ]
  },
  {
   "cell_type": "code",
   "execution_count": null,
   "metadata": {},
   "outputs": [],
   "source": []
  }
 ],
 "metadata": {
  "kernelspec": {
   "display_name": "Python 3",
   "language": "python",
   "name": "python3"
  },
  "language_info": {
   "codemirror_mode": {
    "name": "ipython",
    "version": 3
   },
   "file_extension": ".py",
   "mimetype": "text/x-python",
   "name": "python",
   "nbconvert_exporter": "python",
   "pygments_lexer": "ipython3",
   "version": "3.9.6"
  }
 },
 "nbformat": 4,
 "nbformat_minor": 2
}
