{
 "cells": [
  {
   "cell_type": "code",
   "execution_count": 3,
   "metadata": {},
   "outputs": [
    {
     "name": "stdout",
     "output_type": "stream",
     "text": [
      "King of Hearts\n",
      "Queen of Hearts\n"
     ]
    }
   ],
   "source": [
    "from dataclasses import dataclass, field\n",
    "\n",
    "#dataclass decorator is used to create a class with attributes and methods, essentially a blueprint for objects\n",
    "#field() is used to set default values for the attributes\n",
    "\n",
    "@dataclass\n",
    "class DataClassCard:\n",
    "    rank: str\n",
    "    suit: str\n",
    "    \n",
    "    def __str__(self):\n",
    "        return f'{self.rank} of {self.suit}'\n",
    "    \n",
    "#creating an object of the class\n",
    "queen_of_hearts = DataClassCard('Queen', 'Hearts')\n",
    "queen_of_hearts.rank = 'King'\n",
    "print(queen_of_hearts)\n",
    "\n",
    "\n",
    "#without using dataclass decorator\n",
    "class RegularCard:\n",
    "    def __init__(self, rank, suit):\n",
    "        self.rank = rank\n",
    "        self.suit = suit\n",
    "        \n",
    "    def __str__(self):\n",
    "        return f'{self.rank} of {self.suit}'\n",
    "    \n",
    "queen_of_hearts = RegularCard('Queen', 'Hearts')\n",
    "print(queen_of_hearts)"
   ]
  },
  {
   "cell_type": "code",
   "execution_count": 9,
   "metadata": {},
   "outputs": [
    {
     "name": "stdout",
     "output_type": "stream",
     "text": [
      "Eiffel Tower is located at 0.0 lat and 0.0 lon\n",
      "Eiffel Tower is located at 0.0 lat and 0.0 lon\n"
     ]
    }
   ],
   "source": [
    "#field() is used to set default values for the attributes\n",
    "@dataclass\n",
    "class Position:\n",
    "    name: str\n",
    "    lon: float = 0.0\n",
    "    lat: float = 0.0\n",
    "        \n",
    "    def __str__(self):\n",
    "        return f'{self.name} is located at {self.lat} lat and {self.lon} lon'\n",
    "    \n",
    "#creating an object of the class\n",
    "eiffel_tower = Position('Eiffel Tower')\n",
    "print(eiffel_tower)\n",
    "\n",
    "#field() is used to set default values for the attributes\n",
    "@dataclass\n",
    "class Position:\n",
    "    name: str\n",
    "    lon: float = field(default=0.0)\n",
    "    lat: float = field(default=0.0)\n",
    "        \n",
    "    def __str__(self):\n",
    "        return f'{self.name} is located at {self.lat} lat and {self.lon} lon'\n",
    "\n",
    "#creating an object of the class\n",
    "eiffel_tower = Position('Eiffel Tower')\n",
    "print(eiffel_tower)\n",
    "\n",
    "#field set init=False to prevent the attribute from being set in the __init__ method\n",
    "@dataclass\n",
    "class Position:\n",
    "    name: str\n",
    "    lon: float = field(init=False)\n",
    "    lat: float = field(init=False)\n",
    "        \n",
    "    def __str__(self):\n",
    "        return f'{self.name} is located at {self.lat} lat and {self.lon} lon'\n",
    "    \n",
    "#creating an object of the class\n",
    "eiffel_tower = Position('Eiffel Tower')\n",
    "eiffel_tower.lat = 48.8584"
   ]
  },
  {
   "cell_type": "code",
   "execution_count": null,
   "metadata": {},
   "outputs": [],
   "source": []
  }
 ],
 "metadata": {
  "kernelspec": {
   "display_name": "Python 3",
   "language": "python",
   "name": "python3"
  },
  "language_info": {
   "codemirror_mode": {
    "name": "ipython",
    "version": 3
   },
   "file_extension": ".py",
   "mimetype": "text/x-python",
   "name": "python",
   "nbconvert_exporter": "python",
   "pygments_lexer": "ipython3",
   "version": "3.9.6"
  }
 },
 "nbformat": 4,
 "nbformat_minor": 2
}
