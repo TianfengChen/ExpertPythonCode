{
 "cells": [
  {
   "cell_type": "code",
   "execution_count": null,
   "metadata": {},
   "outputs": [],
   "source": [
    "import functools\n",
    "#functools is a module for higher order functions and operations on callable objects\n",
    "from functools import reduce\n",
    "from functools import partial\n",
    "from functools import wraps\n"
   ]
  }
 ],
 "metadata": {
  "language_info": {
   "name": "python"
  }
 },
 "nbformat": 4,
 "nbformat_minor": 2
}
