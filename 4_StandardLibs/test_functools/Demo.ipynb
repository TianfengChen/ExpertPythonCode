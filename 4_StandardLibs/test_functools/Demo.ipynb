{
 "cells": [
  {
   "cell_type": "code",
   "execution_count": 1,
   "metadata": {},
   "outputs": [],
   "source": [
    "import functools\n",
    "#functools is a module for higher order functions and operations on callable objects"
   ]
  },
  {
   "cell_type": "code",
   "execution_count": 8,
   "metadata": {},
   "outputs": [
    {
     "data": {
      "text/plain": [
       "[1, 2, 3, 4, 5, 6]"
      ]
     },
     "execution_count": 8,
     "metadata": {},
     "output_type": "execute_result"
    }
   ],
   "source": [
    "from functools import reduce\n",
    "# reduce is a function that applies a function of two arguments cumulatively to the items of an iterable, \n",
    "# in succession from left to right, so as to reduce the iterable to a single value\n",
    "\n",
    "#example of reduce\n",
    "reduce(lambda x, y: x+y, [1, 2, 3, 4, 5])#calculates ((((1+2)+3)+4)+5)\n",
    "\n",
    "func = lambda x,y: x if x > y else y\n",
    "reduce(func, [47,11,42,102,13])\n",
    "\n",
    "addList = lambda x,y: x+y\n",
    "reduce(addList,[[1,2],[3,4],[5,6]])\n"
   ]
  },
  {
   "cell_type": "code",
   "execution_count": 3,
   "metadata": {},
   "outputs": [
    {
     "name": "stdout",
     "output_type": "stream",
     "text": [
      "8\n"
     ]
    }
   ],
   "source": [
    "from functools import partial\n",
    "#partial is a function that takes a function and some arguments and returns a new function that behaves like the original function\n",
    "#but with some of the arguments already set\n",
    "\n",
    "def multiply(x, y):\n",
    "    return x * y\n",
    "\n",
    "# create a new function that multiplies by 2\n",
    "dbl = partial(multiply,2)#2 replaces x\n",
    "print(dbl(4))\n",
    "\n",
    "from functools import partialmethod\n",
    "#partialmethod is a function that behaves like partial, but it works with methods\n",
    "\n",
    "class Cell:\n",
    "    def __init__(self):\n",
    "        self._alive = False\n",
    "    def set_state(self, state):\n",
    "        self._alive = bool(state)\n",
    "    def get_state(self):\n",
    "        return self._alive\n",
    "    set_alive = partialmethod(set_state, True)\n",
    "    set_dead = partialmethod(set_state, False)\n",
    "    \n",
    "c = Cell()\n",
    "print(c.get_state())\n",
    "c.set_alive()\n",
    "print(c.get_state())"
   ]
  },
  {
   "cell_type": "code",
   "execution_count": 11,
   "metadata": {},
   "outputs": [
    {
     "name": "stdout",
     "output_type": "stream",
     "text": [
      "832040\n",
      "Time taken with cache: 0.00047206878662109375\n",
      "832040\n",
      "Time taken without cache: 0.24500298500061035\n"
     ]
    }
   ],
   "source": [
    "from functools import lru_cache\n",
    "#lru_cache is a decorator that caches the results of the function it decorates\n",
    "#it can save time when an expensive function is periodically called with the same arguments\n",
    "\n",
    "@lru_cache(maxsize=32)\n",
    "def fib(n):\n",
    "    if n < 2:\n",
    "        return n\n",
    "    return fib(n-1) + fib(n-2)\n",
    "\n",
    "\n",
    "\n",
    "#compare with a version that does not use lru_cache\n",
    "def fib_no_cache(n):\n",
    "    if n < 2:\n",
    "        return n\n",
    "    return fib_no_cache(n-1) + fib_no_cache(n-2)\n",
    "\n",
    "import time\n",
    "start = time.time()\n",
    "print(fib(30))\n",
    "print(\"Time taken with cache:\", time.time()-start)\n",
    "\n",
    "start = time.time()\n",
    "print(fib_no_cache(30))#because of the lack of caching, this is much slower than the previous version\n",
    "print(\"Time taken without cache:\", time.time()-start)\n"
   ]
  },
  {
   "cell_type": "code",
   "execution_count": null,
   "metadata": {},
   "outputs": [],
   "source": [
    "from functools import wraps\n",
    "\n",
    "def my_decorator(f):\n",
    "    @wraps(f)#wraps is a decorator that copies the metadata of the original function to the decorated function\n",
    "    def wrapper(*args, **kwds):\n",
    "        print('Calling decorated function')\n",
    "        return f(*args, **kwds)\n",
    "    return wrapper\n",
    "\n",
    "@my_decorator\n",
    "def example():\n",
    "    \"\"\"Docstring\"\"\"\n",
    "    print('Called example function')\n",
    "    \n",
    "example()\n",
    "print(example.__name__)\n",
    "\n",
    "#another example comparing with and without wraps\n",
    "def my_decorator(f):\n",
    "    def wrapper(*args, **kwds):\n",
    "        print('Calling decorated function')\n",
    "        return f(*args, **kwds)\n",
    "    return wrapper\n",
    "\n",
    "@my_decorator\n",
    "def example():\n",
    "    \"\"\"Docstring\"\"\"\n",
    "    print('Called example function')\n",
    "\n",
    "example()\n",
    "print(example.__name__)\n",
    "\n",
    "#why __name__ is different?\n",
    "#because the metadata of the original function is not copied to the decorated function without wraps\n",
    "#the metadata is the information of the original function(function under @), \n",
    "# such as __name__, __doc__, __module__, __annotations__, __dict__, __qualname__\n",
    "# when do we think the metadata is important?\n",
    "# example: when we use the function in the interactive mode, we can use the metadata to get the information of the function\n",
    "#example:\n",
    "\n"
   ]
  },
  {
   "cell_type": "code",
   "execution_count": 17,
   "metadata": {},
   "outputs": [
    {
     "name": "stdout",
     "output_type": "stream",
     "text": [
      "say_hello\n",
      "This function says hello\n",
      "Calling decorated function\n",
      "Hello!\n",
      "\n",
      "wrapper\n",
      "None\n",
      "Calling decorated function\n",
      "Goodbye!\n"
     ]
    }
   ],
   "source": [
    "from functools import wraps\n",
    "\n",
    "def my_decorator(func):\n",
    "    @wraps(func)\n",
    "    def wrapper(*args, **kwargs):\n",
    "        print(\"Calling decorated function\")\n",
    "        return func(*args, **kwargs)\n",
    "    return wrapper\n",
    "\n",
    "@my_decorator\n",
    "def say_hello():\n",
    "    \"\"\"This function says hello\"\"\"\n",
    "    print(\"Hello!\")\n",
    "\n",
    "def my_decorator2(func):\n",
    "    def wrapper(*args, **kwargs):\n",
    "        print(\"Calling decorated function\")\n",
    "        return func(*args, **kwargs)\n",
    "    return wrapper\n",
    "\n",
    "@my_decorator2\n",
    "def say_goodbye():\n",
    "    \"\"\"This function says goodbye\"\"\"\n",
    "    print(\"Goodbye!\")\n",
    "\n",
    "\n",
    "# Without functools.wraps\n",
    "# say_hello.__name__ would be 'wrapper' instead of 'say_hello'\n",
    "# say_hello.__doc__ would be None instead of 'This function says hello'\n",
    "\n",
    "print(say_hello.__name__)  # Outputs: say_hello\n",
    "print(say_hello.__doc__)   # Outputs: This function says hello\n",
    "say_hello()\n",
    "print()\n",
    "print(say_goodbye.__name__)  # Outputs: wrapper\n",
    "print(say_goodbye.__doc__)   # Outputs: None\n",
    "say_goodbye()"
   ]
  },
  {
   "cell_type": "code",
   "execution_count": 5,
   "metadata": {},
   "outputs": [
    {
     "name": "stdout",
     "output_type": "stream",
     "text": [
      "Hello, world.\n",
      "Let me just say, test.\n",
      "42\n",
      "Strength in numbers, eh? 42\n",
      "0 1\n",
      "1 2\n",
      "2 3\n",
      "Enumerate this:\n",
      "0 1\n",
      "1 2\n",
      "2 3\n"
     ]
    }
   ],
   "source": [
    "from functools import singledispatch\n",
    "\n",
    "#it seems like overloading in C++\n",
    "\n",
    "@singledispatch\n",
    "def fun(arg, verbose=False):\n",
    "    if verbose:\n",
    "        print(\"Let me just say,\", end=\" \")\n",
    "    print(arg)\n",
    "\n",
    "@fun.register #register is a method of singledispatch\n",
    "def _(arg: int, verbose=False):\n",
    "    if verbose:\n",
    "        print(\"Strength in numbers, eh?\", end=\" \")\n",
    "    print(arg)\n",
    "    \n",
    "@fun.register\n",
    "def _(arg: list, verbose=False):\n",
    "    if verbose:\n",
    "        print(\"Enumerate this:\")\n",
    "    for i, elem in enumerate(arg):\n",
    "        print(i, elem)\n",
    "\n",
    "fun(\"Hello, world.\")\n",
    "fun(\"test.\", verbose=True)\n",
    "fun(42)\n",
    "fun(42, verbose=True)\n",
    "fun([1, 2, 3])\n",
    "fun([1, 2, 3], verbose=True)\n",
    "\n"
   ]
  },
  {
   "cell_type": "code",
   "execution_count": 7,
   "metadata": {},
   "outputs": [
    {
     "name": "stdout",
     "output_type": "stream",
     "text": [
      "False\n",
      "False\n",
      "True\n",
      "False\n"
     ]
    }
   ],
   "source": [
    "from functools import total_ordering\n",
    "\n",
    "#total_ordering is a class decorator that fills in missing ordering methods\n",
    "#it takes a class that provides some of the methods and adds the rest of them\n",
    "\n",
    "@total_ordering\n",
    "class Student:\n",
    "    def __eq__(self, other):\n",
    "        return ((self.lastname.lower(), self.firstname.lower()) ==\n",
    "                (other.lastname.lower(), other.firstname.lower()))\n",
    "    def __lt__(self, other):\n",
    "        return ((self.lastname.lower(), self.firstname.lower()) <\n",
    "                (other.lastname.lower(), other.firstname.lower()))\n",
    "        \n",
    "#example of using total_ordering\n",
    "#the class Student only provides __eq__ and __lt__ methods\n",
    "#total_ordering will provide the rest of the methods\n",
    "# __ne__ : not equal\n",
    "# __gt__ : greater than\n",
    "# __le__ : less than or equal\n",
    "# __ge__ : greater than or equal\n",
    "\n",
    "sdu = Student()\n",
    "sdu.lastname = \"Doe\"\n",
    "sdu.firstname = \"John\"\n",
    "\n",
    "sde = Student()\n",
    "sde.lastname = \"Doe\"\n",
    "sde.firstname = \"Jane\"\n",
    "\n",
    "print(sdu == sde)\n",
    "print(sdu < sde)\n",
    "print(sdu > sde)\n",
    "print(sdu <= sde)\n"
   ]
  },
  {
   "cell_type": "code",
   "execution_count": null,
   "metadata": {},
   "outputs": [],
   "source": []
  }
 ],
 "metadata": {
  "kernelspec": {
   "display_name": "Python 3",
   "language": "python",
   "name": "python3"
  },
  "language_info": {
   "codemirror_mode": {
    "name": "ipython",
    "version": 3
   },
   "file_extension": ".py",
   "mimetype": "text/x-python",
   "name": "python",
   "nbconvert_exporter": "python",
   "pygments_lexer": "ipython3",
   "version": "3.9.6"
  }
 },
 "nbformat": 4,
 "nbformat_minor": 2
}
