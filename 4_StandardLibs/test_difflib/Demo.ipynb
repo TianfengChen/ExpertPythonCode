{
 "cells": [
  {
   "cell_type": "code",
   "execution_count": 16,
   "metadata": {},
   "outputs": [
    {
     "name": "stdout",
     "output_type": "stream",
     "text": [
      "[('li1', '{layer}'), ('NCLL', '{device}'), ('(l1__drw)', '({layer}__{purp})')]\n"
     ]
    }
   ],
   "source": [
    "import difflib\n",
    "\n",
    "line1 = 'this is li1 NCLL and compare it with (l1__drw)'\n",
    "line2 = 'this is {layer} {device} and compare it with ({layer}__{purp})'\n",
    "\n",
    "# Generate the diff\n",
    "diff = difflib.ndiff(line1.split(), line2.split())\n",
    "\n",
    "\n",
    "# Extract and print the differences\n",
    "replace_the = []\n",
    "replace_with = []\n",
    "for word in diff:\n",
    "    if word.startswith('- '):\n",
    "        replace_the.append(word[2:])\n",
    "    elif word.startswith('+ '):\n",
    "        replace_with.append(word[2:])\n",
    "\n",
    "replace_pairs = list(zip(replace_the,replace_with))\n",
    "print(replace_pairs)"
   ]
  },
  {
   "cell_type": "code",
   "execution_count": 11,
   "metadata": {},
   "outputs": [
    {
     "name": "stdout",
     "output_type": "stream",
     "text": [
      "li1 -> None\n",
      "NCLL -> {layer}\n",
      "None -> {device}\n",
      "l1__drw -> {layer}__{purp}\n"
     ]
    }
   ],
   "source": [
    "import difflib\n",
    "\n",
    "line1 = 'this is li1 NCLL and compare it with l1__drw'\n",
    "line2 = 'this is {layer} {device} and compare it with {layer}__{purp}'\n",
    "\n",
    "# Split the lines into words\n",
    "words1 = line1.split()\n",
    "words2 = line2.split()\n",
    "\n",
    "# Generate the diff\n",
    "diff = list(difflib.ndiff(words1, words2))\n",
    "\n",
    "# Extract the corresponding different word pairs\n",
    "diff_pairs = []\n",
    "removed_word = None\n",
    "added_word = None\n",
    "\n",
    "for word in diff:\n",
    "    if word.startswith('- '):\n",
    "        # Word in line1 but not in line2\n",
    "        removed_word = word[2:]\n",
    "        diff_pairs.append((removed_word, None))\n",
    "    elif word.startswith('+ '):\n",
    "        # Word in line2 but not in line1\n",
    "        added_word = word[2:]\n",
    "        if removed_word is not None:\n",
    "            # Update the last pair with the added word\n",
    "            diff_pairs[-1] = (removed_word, added_word)\n",
    "            removed_word = None\n",
    "        else:\n",
    "            diff_pairs.append((None, added_word))\n",
    "\n",
    "# Print the corresponding different word pairs\n",
    "for pair in diff_pairs:\n",
    "    print(f\"{pair[0]} -> {pair[1]}\")\n"
   ]
  },
  {
   "cell_type": "code",
   "execution_count": 20,
   "metadata": {},
   "outputs": [
    {
     "name": "stdout",
     "output_type": "stream",
     "text": [
      "[('li1', '{layer}'), ('NCLL', '{device}'), ('con__', '{layer}'), ('l1__drw', '__')]\n"
     ]
    }
   ],
   "source": [
    "import difflib\n",
    "import re\n",
    "\n",
    "\n",
    "# Define a regex pattern to split the lines\n",
    "pattern = r'\\w+|\\{.*?\\}'\n",
    "\n",
    "# Split lines based on the pattern\n",
    "words1 = re.findall(pattern, line1)\n",
    "words2 = re.findall(pattern, line2)\n",
    "\n",
    "# Generate the diff\n",
    "diff = difflib.ndiff(words1, words2)\n",
    "\n",
    "# Extract and print the differences\n",
    "replace_the = []\n",
    "replace_with = []\n",
    "for word in diff:\n",
    "    if word.startswith('- '):\n",
    "        replace_the.append(word[2:])\n",
    "    elif word.startswith('+ '):\n",
    "        replace_with.append(word[2:])\n",
    "\n",
    "replace_pairs = list(zip(replace_the, replace_with))\n",
    "print(replace_pairs)\n"
   ]
  },
  {
   "cell_type": "code",
   "execution_count": 32,
   "metadata": {},
   "outputs": [
    {
     "data": {
      "text/plain": [
       "[]"
      ]
     },
     "execution_count": 32,
     "metadata": {},
     "output_type": "execute_result"
    }
   ],
   "source": [
    "import difflib\n",
    "import re\n",
    "\n",
    "line1 = 'this is li1 /NCLL con__ and compare it with (l1__drw)'\n",
    "line2 = 'this is {layer} layer/purpose /{device} {layer}__ and compare it with ({layer}__{purp})'\n",
    "\n",
    "pattern = re.compile(r'\\blayer/purpose\\b')\n",
    "pattern1 = re.compile(r'\\b\\\\{layer\\}\\b')\n",
    "pattern1.findall(line2)"
   ]
  },
  {
   "cell_type": "code",
   "execution_count": 34,
   "metadata": {},
   "outputs": [
    {
     "name": "stdout",
     "output_type": "stream",
     "text": [
      "  t  h  i  s     i  s   + {  l+ a+ y+ e+ r+ }+  + {+ d+ e+ v  i+ c+ e+ }- 1-  - N- C- L- L     a  n  d     c  o  m  p  a  r  e     i  t     w  i  t  h     (+ {  l- 1+ a+ y+ e+ r+ }  _  _- d+ {+ p+ u  r- w+ p+ }  )\n"
     ]
    }
   ],
   "source": [
    "import difflib\n",
    "line1 = 'this is li1 NCLL and compare it with (l1__drw)'\n",
    "line2 = 'this is {layer} {device} and compare it with ({layer}__{purp})'\n",
    "differ = difflib.Differ()\n",
    "diff = list(differ.compare(line1,line2))\n",
    "print(''.join(diff))\n"
   ]
  },
  {
   "cell_type": "code",
   "execution_count": null,
   "metadata": {},
   "outputs": [],
   "source": [
    "import difflib\n"
   ]
  },
  {
   "cell_type": "code",
   "execution_count": 35,
   "metadata": {},
   "outputs": [
    {
     "data": {
      "text/plain": [
       "['s', 't', 'r', 'i', 'n', 'g']"
      ]
     },
     "execution_count": 35,
     "metadata": {},
     "output_type": "execute_result"
    }
   ],
   "source": [
    "list('string')"
   ]
  },
  {
   "cell_type": "code",
   "execution_count": null,
   "metadata": {},
   "outputs": [],
   "source": []
  }
 ],
 "metadata": {
  "kernelspec": {
   "display_name": "Python 3",
   "language": "python",
   "name": "python3"
  },
  "language_info": {
   "codemirror_mode": {
    "name": "ipython",
    "version": 3
   },
   "file_extension": ".py",
   "mimetype": "text/x-python",
   "name": "python",
   "nbconvert_exporter": "python",
   "pygments_lexer": "ipython3",
   "version": "3.9.6"
  }
 },
 "nbformat": 4,
 "nbformat_minor": 2
}
