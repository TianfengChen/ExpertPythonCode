{
 "cells": [
  {
   "cell_type": "code",
   "execution_count": 1,
   "metadata": {},
   "outputs": [],
   "source": [
    "import typing\n",
    "#typing is a module that provides runtime support for type hints\n",
    "#Type hints are a way to specify the type of a variable in Python\n",
    "#Type hints are not enforced by the Python interpreter\n",
    "#Type hints are used by static type checkers like mypy"
   ]
  },
  {
   "cell_type": "code",
   "execution_count": 3,
   "metadata": {},
   "outputs": [],
   "source": [
    "from typing import List, Tuple, Dict, Any, Union\n",
    "\n",
    "def list_sum(lst: List[int]) -> int:\n",
    "    return sum(lst)\n",
    "\n",
    "#Union is used to specify that a variable can have multiple types\n",
    "def list_sum2(lst: List[Union[int, float]]) -> Union[int, float]:\n",
    "    return sum(lst)\n",
    "\n",
    "def tuple_sum(tpl: Tuple[int, int]) -> int:\n",
    "   return sum(tpl)\n",
    "\n",
    "#Dict is used to specify the type of a dictionary\n",
    "def dict_sum(d: Dict[str, int]) -> int:\n",
    "    return sum(d.values())"
   ]
  },
  {
   "cell_type": "code",
   "execution_count": 4,
   "metadata": {},
   "outputs": [],
   "source": [
    "from typing import Optional\n",
    "\n",
    "# Optional is a type hint that indicates that a variable can be None\n",
    "def greeting(name: Optional[str] = None) -> str:\n",
    "    if name is None:\n",
    "        return 'Hello, world!'\n",
    "    else:\n",
    "        return f'Hello, {name}!'\n"
   ]
  },
  {
   "cell_type": "code",
   "execution_count": 5,
   "metadata": {},
   "outputs": [],
   "source": [
    "from typing import Iterator\n",
    "\n",
    "#Iterator is a generic type that takes a single type argument\n",
    "def squares(n: int) -> Iterator[int]:\n",
    "    for i in range(n):\n",
    "        yield i**2"
   ]
  },
  {
   "cell_type": "code",
   "execution_count": 7,
   "metadata": {},
   "outputs": [
    {
     "name": "stdout",
     "output_type": "stream",
     "text": [
      "9\n"
     ]
    }
   ],
   "source": [
    "from typing import Callable\n",
    "\n",
    "#Callable is a generic type that takes two type arguments\n",
    "def apply(f: Callable[[int], int], x: int) -> int:\n",
    "    return f(x)\n",
    "\n",
    "#call apply with a lambda function\n",
    "func = lambda x: x**2\n",
    "print(apply(func, 3))\n"
   ]
  },
  {
   "cell_type": "code",
   "execution_count": null,
   "metadata": {},
   "outputs": [],
   "source": [
    "from typing import AnyStr\n",
    "\n",
    "#AnyStr is a type hint that indicates a string type\n",
    "def is_palindrome(s: AnyStr) -> bool:\n",
    "    return s == s[::-1]\n",
    "\n"
   ]
  },
  {
   "cell_type": "code",
   "execution_count": null,
   "metadata": {},
   "outputs": [],
   "source": [
    "#if there are multiple return varibles:\n",
    "def f(x: int) -> Tuple[int, int]:\n",
    "    return x + 1, x + 2"
   ]
  }
 ],
 "metadata": {
  "kernelspec": {
   "display_name": "Python 3",
   "language": "python",
   "name": "python3"
  },
  "language_info": {
   "codemirror_mode": {
    "name": "ipython",
    "version": 3
   },
   "file_extension": ".py",
   "mimetype": "text/x-python",
   "name": "python",
   "nbconvert_exporter": "python",
   "pygments_lexer": "ipython3",
   "version": "3.9.6"
  }
 },
 "nbformat": 4,
 "nbformat_minor": 2
}
