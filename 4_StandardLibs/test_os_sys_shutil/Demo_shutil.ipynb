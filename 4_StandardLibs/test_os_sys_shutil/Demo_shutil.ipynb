{
 "cells": [
  {
   "cell_type": "code",
   "execution_count": null,
   "metadata": {},
   "outputs": [],
   "source": [
    "import shutil\n",
    "#shutil is a module that provides a higher level interface for file operations\n",
    "#for example, copying, moving, and removing files"
   ]
  }
 ],
 "metadata": {
  "language_info": {
   "name": "python"
  }
 },
 "nbformat": 4,
 "nbformat_minor": 2
}
