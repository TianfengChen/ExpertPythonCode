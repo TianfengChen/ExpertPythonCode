{
 "cells": [
  {
   "cell_type": "code",
   "execution_count": 24,
   "metadata": {},
   "outputs": [],
   "source": [
    "import collections\n",
    "#collections module provides specialized container datatypes providing alternatives to Python’s general purpose built-in containers, dict, list, set, and tuple.\n",
    "from collections import Counter\n",
    "from collections import defaultdict\n",
    "from collections import OrderedDict\n",
    "from collections import namedtuple\n",
    "from collections import deque\n",
    "from collections import ChainMap\n",
    "from collections import UserDict\n",
    "from collections import UserList\n",
    "from collections import UserString\n",
    "\n"
   ]
  },
  {
   "cell_type": "code",
   "execution_count": 6,
   "metadata": {},
   "outputs": [
    {
     "name": "stdout",
     "output_type": "stream",
     "text": [
      "dict_items([('a', 5), ('b', 5), ('c', 4)])\n",
      "dict_keys(['a', 'b', 'c'])\n",
      "dict_items([(1, 2), (2, 2), (3, 2), (4, 2), (5, 2), (6, 1), (7, 1), (8, 1)])\n",
      "dict_items([('a', [1, 2, 4, 5]), ('b', [14, 5, 6]), ('c', [1, 2])])\n"
     ]
    }
   ],
   "source": [
    "#Counter, str, list, tuple, dict, set\n",
    "a = \"aaaaabbbbbcccc\"\n",
    "my_counter = Counter(a)\n",
    "print(my_counter.items())\n",
    "print(my_counter.keys())\n",
    "\n",
    "b = [1,2,3,4,5,6,7,8,1,2,3,4,5]\n",
    "my_counter = Counter(b)\n",
    "print(my_counter.items())\n",
    "\n",
    "c = {'a':[1,2,4,5], 'b':[14,5,6], 'c':[1,2]}\n",
    "my_counter = Counter(c)\n",
    "print(my_counter.items())"
   ]
  },
  {
   "cell_type": "code",
   "execution_count": 4,
   "metadata": {},
   "outputs": [
    {
     "name": "stdout",
     "output_type": "stream",
     "text": [
      "defaultdict(<class 'int'>, {'a': 1})\n",
      "defaultdict(<class 'list'>, {'a': [1], 'b': [2]})\n",
      "defaultdict(<class 'list'>, {'a': [], 'b': [], 'c': [], 'd': [], 'e': []})\n"
     ]
    }
   ],
   "source": [
    "#defaultdict\n",
    "from collections import defaultdict\n",
    "d = defaultdict(int)\n",
    "d['a'] = 1\n",
    "print(d)\n",
    "\n",
    "e = defaultdict(list)\n",
    "e['a'].append(1)\n",
    "e['b'].append(2)\n",
    "print(e)\n",
    "\n",
    "\n",
    "f = defaultdict(list)\n",
    "#set a list as keys for f,empty list for values\n",
    "keys = ['a', 'b', 'c', 'd', 'e']\n",
    "for i in keys:\n",
    "    f[i]\n",
    "print(f)"
   ]
  },
  {
   "cell_type": "code",
   "execution_count": 17,
   "metadata": {},
   "outputs": [
    {
     "data": {
      "text/plain": [
       "['c', 'a', 'b']"
      ]
     },
     "execution_count": 17,
     "metadata": {},
     "output_type": "execute_result"
    }
   ],
   "source": [
    "#OrderedDict, no need, from python 3.7 onwards, dict maintains order of insertion\n",
    "#ordered dictionary is a dictionary subclass that remembers the order in which its contents are added.\n",
    "\n",
    "a = OrderedDict()\n",
    "a['c'] = 3\n",
    "a['a'] = 1\n",
    "a['b'] = 2\n",
    "\n",
    "print(list(a.keys()))\n",
    "\n",
    "b = {}\n",
    "b['c'] = 3\n",
    "b['a'] = 1\n",
    "b['b'] = 2\n",
    "\n",
    "print(list(b.keys()))"
   ]
  },
  {
   "cell_type": "code",
   "execution_count": 21,
   "metadata": {},
   "outputs": [
    {
     "name": "stdout",
     "output_type": "stream",
     "text": [
      "<class '__main__.Node'>\n",
      "root\n",
      "<class '__main__.Node'>\n"
     ]
    }
   ],
   "source": [
    "#namedtuple\n",
    "#namedtuple is a factory function for creating tuple subclasses with named fields.\n",
    "Point = namedtuple('Node', 'name,subNode')\n",
    "pt = Point('root', 'subNode1')\n",
    "print(type(pt))\n",
    "print(pt.name)\n",
    "\n",
    "class Node():\n",
    "    def __init__(self, name, subNode):\n",
    "        self.name = name\n",
    "        self.subNode = subNode\n",
    "        \n",
    "pt = Node('root', 'subNode1')\n",
    "print(type(pt))\n"
   ]
  },
  {
   "cell_type": "code",
   "execution_count": 22,
   "metadata": {},
   "outputs": [
    {
     "name": "stdout",
     "output_type": "stream",
     "text": [
      "deque([1, 2, 3])\n",
      "deque([4, 1, 2, 3])\n",
      "deque([4, 1, 2])\n",
      "deque([1, 2])\n"
     ]
    }
   ],
   "source": [
    "#deque 双向队列\n",
    "#deque is a list-like container with fast appends and pops on either end.\n",
    "d = deque()\n",
    "d.append(1)\n",
    "d.append(2)\n",
    "d.append(3)\n",
    "print(d)\n",
    "\n",
    "d.appendleft(4)\n",
    "print(d)\n",
    "\n",
    "d.pop()\n",
    "print(d)\n",
    "\n",
    "d.popleft()\n",
    "print(d)\n"
   ]
  },
  {
   "cell_type": "code",
   "execution_count": 29,
   "metadata": {},
   "outputs": [
    {
     "name": "stdout",
     "output_type": "stream",
     "text": [
      "ChainMap({'a': 1, 'b': 2}, {'c': 3, 'd': 4})\n",
      "1\n",
      "{'a': 1, 'b': 2, 'c': 3, 'd': 4}\n",
      "ChainMap({'a': 1, 'b': 2}, {'a': 3, 'd': 4})\n",
      "1\n"
     ]
    }
   ],
   "source": [
    "#ChainMap\n",
    "#ChainMap is a dictionary-like class for creating a single view of multiple mappings.\n",
    "dict1 = {'a':1, 'b':2}\n",
    "dict2 = {'c':3, 'd':4}\n",
    "chain = ChainMap(dict1, dict2)\n",
    "print(chain)\n",
    "#where to use? \n",
    "#compare with [dict1, dict2]\n",
    "print(chain['a'])\n",
    "\n",
    "#comapre with .update()?\n",
    "dict1.update(dict2)\n",
    "print(dict1)\n",
    "\n",
    "dict1 = {'a':1, 'b':2}\n",
    "dict2 = {'a':3, 'd':4}\n",
    "chain = ChainMap(dict1, dict2)\n",
    "print(chain)\n",
    "print(chain['a'])#only return the first value of 'a'"
   ]
  },
  {
   "cell_type": "code",
   "execution_count": 33,
   "metadata": {},
   "outputs": [
    {
     "name": "stdout",
     "output_type": "stream",
     "text": [
      "{'c': 3, 'a': 1, 'b': 2}\n"
     ]
    }
   ],
   "source": [
    "# UserDict, UserList, UserString\n",
    "# UserDict, UserList, UserString are wrapper classes around dictionary, list, and string respectively. \n",
    "# They are used when someone wants to create a custom container data type.\n",
    "\n",
    "#UserDict\n",
    "class MyDict(UserDict):\n",
    "    def add(self, key, value):\n",
    "        self.data[key] = value\n",
    "\n",
    "d = MyDict({'c':3})\n",
    "d['a'] = 1\n",
    "d.add('b', 2)\n",
    "print(d)\n",
    "\n",
    "#UserString, make it able to modify the string\n",
    "#operator overloading, make string[i] = 'a' allowed\n",
    "\n"
   ]
  },
  {
   "cell_type": "code",
   "execution_count": 37,
   "metadata": {},
   "outputs": [
    {
     "data": {
      "text/plain": [
       "['t', 'h', 'i', 's']"
      ]
     },
     "execution_count": 37,
     "metadata": {},
     "output_type": "execute_result"
    }
   ],
   "source": [
    "a = 'this'\n",
    "a = [s for s in a]\n",
    "a\n"
   ]
  },
  {
   "cell_type": "code",
   "execution_count": 41,
   "metadata": {},
   "outputs": [
    {
     "name": "stdout",
     "output_type": "stream",
     "text": [
      "hello\n",
      "hallo\n",
      "Index out of range\n"
     ]
    }
   ],
   "source": [
    "from collections import UserString\n",
    "\n",
    "class MutableString(UserString):\n",
    "    def __setitem__(self, index, value):\n",
    "        if not isinstance(index, int):\n",
    "            raise TypeError(\"Index must be an integer\")\n",
    "        if index < 0 or index >= len(self.data):\n",
    "            raise IndexError(\"Index out of range\")\n",
    "        if not isinstance(value, str) or len(value) != 1:\n",
    "            raise ValueError(\"Value must be a single character string\")\n",
    "        \n",
    "        # Convert the string to a list of characters\n",
    "        temp_list = list(self.data)\n",
    "        # Modify the character at the specified index\n",
    "        temp_list[index] = value\n",
    "        # Join the list back into a string and update the data\n",
    "        self.data = ''.join(temp_list)\n",
    "\n",
    "# Example usage\n",
    "s = MutableString(\"hello\")\n",
    "print(s)  # Output: hello\n",
    "\n",
    "s[1] = 'a'\n",
    "print(s)  # Output: hallo\n",
    "\n",
    "try:\n",
    "    s[10] = 'b'\n",
    "    s[1] = 'ab'\n",
    "except IndexError as e:\n",
    "    print(e)  # Output: Index out of range\n",
    "except ValueError as e:\n",
    "    print(e)\n"
   ]
  },
  {
   "cell_type": "code",
   "execution_count": null,
   "metadata": {},
   "outputs": [],
   "source": []
  }
 ],
 "metadata": {
  "kernelspec": {
   "display_name": "Python 3",
   "language": "python",
   "name": "python3"
  },
  "language_info": {
   "codemirror_mode": {
    "name": "ipython",
    "version": 3
   },
   "file_extension": ".py",
   "mimetype": "text/x-python",
   "name": "python",
   "nbconvert_exporter": "python",
   "pygments_lexer": "ipython3",
   "version": "3.9.6"
  }
 },
 "nbformat": 4,
 "nbformat_minor": 2
}
