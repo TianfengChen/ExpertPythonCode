{
 "cells": [
  {
   "cell_type": "code",
   "execution_count": 3,
   "metadata": {},
   "outputs": [],
   "source": [
    "#private member\n",
    "class Car:\n",
    "    def __init__(self, private_id):\n",
    "        self.__updateSoftware()\n",
    "        self.__id = private_id\n",
    "    def drive(self):\n",
    "        print('driving')\n",
    "    def __updateSoftware(self):\n",
    "        print('updating software')\n",
    "    def print_id(self):\n",
    "        print(self.__id)"
   ]
  },
  {
   "cell_type": "code",
   "execution_count": 4,
   "metadata": {},
   "outputs": [
    {
     "name": "stdout",
     "output_type": "stream",
     "text": [
      "updating software\n",
      "driving\n",
      "123\n"
     ]
    }
   ],
   "source": [
    "car = Car(123)\n",
    "car.drive()\n",
    "#car.__updateSoftware() #error\n",
    "print(car._Car__id) #access private member"
   ]
  },
  {
   "cell_type": "code",
   "execution_count": null,
   "metadata": {},
   "outputs": [],
   "source": [
    "#polymorphism\n",
    "class Animal:\n",
    "    def __init__(self, name):\n",
    "        self.name = name\n",
    "    def talk(self):\n",
    "        pass\n",
    "class Cat(Animal):\n",
    "    def talk(self):\n",
    "        print('Meow!')\n",
    "class Dog(Animal):\n",
    "    def talk(self):\n",
    "        print('Woof!')\n",
    "animals = [ \n",
    "        Cat('Missy'),\n",
    "        Cat('Mr. Mistoffelees'),\n",
    "        Dog('Lassie')\n",
    "        ]\n",
    "for animal in animals:\n",
    "    animal.talk()\n",
    "    "
   ]
  }
 ],
 "metadata": {
  "kernelspec": {
   "display_name": "python38",
   "language": "python",
   "name": "python3"
  },
  "language_info": {
   "codemirror_mode": {
    "name": "ipython",
    "version": 3
   },
   "file_extension": ".py",
   "mimetype": "text/x-python",
   "name": "python",
   "nbconvert_exporter": "python",
   "pygments_lexer": "ipython3",
   "version": "3.8.13"
  },
  "orig_nbformat": 4
 },
 "nbformat": 4,
 "nbformat_minor": 2
}
