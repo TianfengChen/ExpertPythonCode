{
 "cells": [
  {
   "cell_type": "code",
   "execution_count": 6,
   "metadata": {},
   "outputs": [
    {
     "name": "stdout",
     "output_type": "stream",
     "text": [
      "['__repr__', '__hash__', '__str__', '__getattribute__', '__setattr__', '__delattr__', '__lt__', '__le__', '__eq__', '__ne__', '__gt__', '__ge__', '__init__', '__new__', '__reduce_ex__', '__reduce__', '__subclasshook__', '__init_subclass__', '__format__', '__sizeof__', '__dir__', '__class__', '__doc__']\n"
     ]
    }
   ],
   "source": [
    "#object class is a class that is used to create an object\n",
    "#it has several methods that are used to manipulate the object\n",
    "# see the private members of the object class\n",
    "obj = object()\n",
    "print(obj.__dir__())\n",
    "#__class__ is used to get the class of the object\n",
    "#__subclasshook__ is used to check if the object is subclass\n",
    "#__init_subclass__ is used to initialize the subclass\n",
    "#__new__ is used to create a new instance of the class\n",
    "\n",
    "#__dir__ is used to return the list of attributes\n",
    "#__getattribute__ is used to return the value of the attribute\n",
    "#__setattr__ is used to set the value of the attribute\n",
    "#__delattr__ is used to delete an attribute\n",
    "\n",
    "#__doc__ is used to return the documentation of the object\n",
    "#__hash__ is used to return the hash value of the object\n",
    "#__sizeof__ is used to return the size of the object\n",
    "#__init__ is used to initialize the object\n",
    "#__reduce__ is used to return the state of the object\n",
    "#__reduce_ex__ is used to return the state of the object\n",
    "#__format__ is used to return the formatted representation of the object\n",
    "#__repr__   is used to return the representation of the object\n",
    "#__str__    is used to return the string representation of the object\n",
    "\n",
    "#__gt__ is used to compare two objects, >\n",
    "#__ge__ is used to compare two objects, >=\n",
    "#__eq__ is used to compare two objects, ==\n",
    "#__le__ is used to compare two objects, <=\n",
    "#__lt__ is used to compare two objects, <\n",
    "#__ne__ is used to compare two objects, !=\n",
    "#above are all operator overloading methods"
   ]
  },
  {
   "cell_type": "code",
   "execution_count": null,
   "metadata": {},
   "outputs": [],
   "source": [
    "#let us see the example of these methods\n",
    "class Student:\n",
    "    def __init__(self, name, age):\n",
    "        self.name = name\n",
    "        self.age = age\n",
    "    def __repr__(self):\n",
    "        return f\"Student({self.name}, {self.age})\"\n",
    "    def __str__(self):\n",
    "        return f\"Name: {self.name}, Age: {self.age}\"\n",
    "    def __eq__(self, other):\n",
    "        return self.name == other.name and self.age == other.age\n",
    "    def __gt__(self, other):\n",
    "        return self.age > other.age\n",
    "    def __ge__(self, other):\n",
    "        return self.age >= other.age\n",
    "    def __lt__(self, other):\n",
    "        return self.age < other.age\n",
    "    def __le__(self, other):\n",
    "        return self.age <= other.age\n",
    "    def __ne__(self, other):\n",
    "        return self.age != other.age\n",
    "    def __hash__(self):\n",
    "        return hash((self.name, self.age))\n",
    "    def __sizeof__(self):\n",
    "        return object.__sizeof__(self)\n",
    "    def __dir__(self):\n",
    "        return dir(Student)\n",
    "    def __getattribute__(self, name):\n",
    "        return object.__getattribute__(self, name)\n",
    "    def __setattr__(self, name, value):\n",
    "        object.__setattr__(self, name, value)\n",
    "    def __delattr__(self, name):\n",
    "        object.__delattr__(self, name)\n",
    "    def __doc__(self):\n",
    "        return object.__doc__\n",
    "    def __reduce__(self):\n",
    "        return object.__reduce__(self)\n",
    "    def __reduce_ex__(self, protocol):\n",
    "        return object.__reduce_ex__(self, protocol)\n",
    "    def __format__(self, format_spec):\n",
    "        return object.__format__(self, format_spec)\n",
    "\n",
    "s1 = Student(\"John\", 20)\n",
    "s2 = Student(\"John\", 20)\n",
    "print(s1 == s2)\n",
    "print(s1 > s2)\n"
   ]
  },
  {
   "cell_type": "code",
   "execution_count": 3,
   "metadata": {},
   "outputs": [
    {
     "name": "stdout",
     "output_type": "stream",
     "text": [
      "This is public method\n",
      "Public member: 10\n",
      "Private member: 20\n",
      "10\n",
      "20\n"
     ]
    }
   ],
   "source": [
    "#define private members in class\n",
    "\n",
    "class ThisClass:\n",
    "    num1 : int = 10 #public member\n",
    "    __num2 : int = 20 #private member\n",
    "    \n",
    "    def __init__(self):\n",
    "        self._num3 = 30 #protected member\n",
    "    \n",
    "    def __privateMethod(self):\n",
    "        print(\"This is private method\")\n",
    "        print(f\"Public member: {self.num1}\")\n",
    "        print(f\"Private member: {self.__num2}\")\n",
    "    \n",
    "    def publicMethod(self):\n",
    "        print(\"This is public method\")\n",
    "        print(f\"Public member: {self.num1}\")\n",
    "        print(f\"Private member: {self.__num2}\")#private member can be accessed within the class, but not outside the class\n",
    "        \n",
    "obj = ThisClass()\n",
    "obj.publicMethod()\n",
    "#obj.__privateMethod() #this will give error, because private method can not be accessed outside the class\n",
    "print(obj.num1)\n",
    "#print(obj.__num2) #this will give error, because private member can not be accessed outside the class\n",
    "print(obj._ThisClass__num2) #this is the way to access the private member of the class\n"
   ]
  },
  {
   "cell_type": "code",
   "execution_count": 11,
   "metadata": {},
   "outputs": [
    {
     "name": "stdout",
     "output_type": "stream",
     "text": [
      "This is static method\n",
      "This is class method\n",
      "<class '__main__.ThisClass'>\n",
      "This is static method\n"
     ]
    }
   ],
   "source": [
    "#staticmethod and classmethod\n",
    "#staticmethod is used to create a static method in the class\n",
    "#classmethod is used to create a class method in the class\n",
    "\n",
    "class ThisClass:\n",
    "    def __init__(self, name, age):\n",
    "        self.name = name\n",
    "        self.age = age\n",
    "    \n",
    "    def printName(self):\n",
    "        print(f\"Name: {self.name}\")\n",
    "        \n",
    "    @staticmethod\n",
    "    def staticMethod():\n",
    "        print(\"This is static method\")\n",
    "        #static method can not access the class members\n",
    "        \n",
    "    @classmethod\n",
    "    def classMethod(cls):\n",
    "        print(\"This is class method\")\n",
    "        print(cls)\n",
    "        cls.staticMethod()#class method can access the stastic class members\n",
    "        #cls.printName() #this will give error, because class method can not access the instance members\n",
    "        \n",
    "\n",
    "obj = ThisClass(\"John\", 25)        \n",
    "obj.staticMethod()\n",
    "obj.classMethod()\n"
   ]
  },
  {
   "cell_type": "code",
   "execution_count": 12,
   "metadata": {},
   "outputs": [
    {
     "name": "stdout",
     "output_type": "stream",
     "text": [
      "Getting name...\n",
      "Alice\n",
      "Setting name...\n",
      "Getting name...\n",
      "Bob\n"
     ]
    }
   ],
   "source": [
    "#property\n",
    "#property is a attribute decorator that is used to get and set the value of the attribute\n",
    "\n",
    "class Person:\n",
    "    def __init__(self, name):\n",
    "        self._name = name\n",
    "     \n",
    "    @property\n",
    "    def name(self):\n",
    "        print(\"Getting name...\")\n",
    "        return self._name\n",
    "     \n",
    "    @name.setter #overriding the name property\n",
    "    def name(self, value):\n",
    "        print(\"Setting name...\")\n",
    "        self._name = value\n",
    " \n",
    "p = Person(\"Alice\")\n",
    "print(p.name)   # Getting name... Alice\n",
    "p.name = \"Bob\"  # Setting name...\n",
    "print(p.name)   # Getting name... Bob"
   ]
  },
  {
   "cell_type": "code",
   "execution_count": 13,
   "metadata": {},
   "outputs": [
    {
     "name": "stdout",
     "output_type": "stream",
     "text": [
      "Entering the context\n",
      "Inside the context\n",
      "Exiting the context\n"
     ]
    }
   ],
   "source": [
    "#context manager\n",
    "#context manager is used to manage the resources\n",
    "#context manager can be created using the with statement\n",
    "#context manager can be created using the contextlib module\n",
    "\n",
    "#using the with statement\n",
    "class MyContextManager:\n",
    "    def __enter__(self):\n",
    "        print(\"Entering the context\")\n",
    "        return self\n",
    "    def __exit__(self, exc_type, exc_value, traceback):\n",
    "        print(\"Exiting the context\")\n",
    "        return True\n",
    "    \n",
    "with MyContextManager() as obj:\n",
    "    print(\"Inside the context\")\n",
    "    \n",
    "    \n",
    "class OpenFile:\n",
    "    def __init__(self, filename, mode):\n",
    "        self.filename = filename\n",
    "        self.mode = mode\n",
    "         \n",
    "    def __enter__(self):\n",
    "        self.file = open(self.filename, self.mode)\n",
    "        return self.file\n",
    "     \n",
    "    def __exit__(self, exc_type, exc_value, traceback):\n",
    "        self.file.close()\n",
    " \n",
    "with OpenFile(\"test.txt\", \"w\") as f:\n",
    "    f.write(\"Hello, world!\")"
   ]
  },
  {
   "cell_type": "code",
   "execution_count": 18,
   "metadata": {},
   "outputs": [
    {
     "name": "stdout",
     "output_type": "stream",
     "text": [
      "100\n",
      "This is foo method\n"
     ]
    }
   ],
   "source": [
    "#meta class\n",
    "#meta class is to create a class\n",
    "#meta class is used to create a class dynamically\n",
    "#usage scenario:\n",
    "\n",
    "#1. change the class attributes\n",
    "class MyMeta(type):\n",
    "    def __new__(cls, name, bases, dct):\n",
    "        dct[\"x\"] = 100\n",
    "        return super().__new__(cls, name, bases, dct)\n",
    "        \n",
    "class MyClass(metaclass=MyMeta):\n",
    "    y = 200\n",
    "    \n",
    "print(MyClass.x)\n",
    "\n",
    "#2. change class methods to raise error if the method is not there\n",
    "class MyMeta(type):\n",
    "    def __new__(cls, name, bases, dct):\n",
    "        if \"foo\" not in dct:\n",
    "            raise TypeError(\"Method foo is not in the class\")\n",
    "        return super().__new__(cls, name, bases, dct)\n",
    "    \n",
    "class MyClass(metaclass=MyMeta):\n",
    "    def foo(self):# if it not there, it will give error\n",
    "        print(\"This is foo method\") \n",
    "    \n",
    "obj = MyClass()\n",
    "obj.foo()\n"
   ]
  },
  {
   "cell_type": "code",
   "execution_count": null,
   "metadata": {},
   "outputs": [],
   "source": []
  }
 ],
 "metadata": {
  "kernelspec": {
   "display_name": "python38",
   "language": "python",
   "name": "python3"
  },
  "language_info": {
   "codemirror_mode": {
    "name": "ipython",
    "version": 3
   },
   "file_extension": ".py",
   "mimetype": "text/x-python",
   "name": "python",
   "nbconvert_exporter": "python",
   "pygments_lexer": "ipython3",
   "version": "3.9.6"
  }
 },
 "nbformat": 4,
 "nbformat_minor": 2
}
