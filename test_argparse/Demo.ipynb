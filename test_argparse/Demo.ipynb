{
 "cells": [
  {
   "cell_type": "code",
   "execution_count": null,
   "metadata": {},
   "outputs": [],
   "source": [
    "import argparse\n",
    "\n",
    "#argparse is a module that allows you to parse command line arguments\n",
    "parser = argparse.ArgumentParser(description='This is a simple program to add two numbers')\n",
    "parser.add_argument('--num1', help='The first number to add')\n",
    "parser.add_argument('--num2', action='store', help='The second number to add')\n",
    "\n"
   ]
  }
 ],
 "metadata": {
  "language_info": {
   "name": "python"
  }
 },
 "nbformat": 4,
 "nbformat_minor": 2
}
