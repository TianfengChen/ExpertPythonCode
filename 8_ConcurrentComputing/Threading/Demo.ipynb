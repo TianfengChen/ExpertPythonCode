{
 "cells": [
  {
   "cell_type": "code",
   "execution_count": null,
   "metadata": {},
   "outputs": [],
   "source": [
    "#build threads\n",
    "\n",
    "import threading\n",
    "import time\n",
    "\n",
    "#将创建的函数传递进threading.Thread()对象\n",
    "def func():\n",
    "    print(threading.current_thread().getName())  \n",
    "t1 = threading.Thread(target=func,name='test_threading_1')\n",
    "t1.start()\n",
    "t1.join()\n",
    "\n",
    "#继承threading.Thread类，改写run()方法\n",
    "class TestThread(threading.Thread):\n",
    "    def __init__(self,name):\n",
    "        super(TestThread,self).__init__()\n",
    "        self.name = name\n",
    "        \n",
    "    def run(self):\n",
    "        print(f'thread {self.name} is running!')\n",
    "        n = 0\n",
    "        while n < 5:\n",
    "            n += 1\n",
    "            print(f'thread{self.name}>>>{n}')\n",
    "            time.sleep(1)\n",
    "        print(f'thread {self.name} end running')\n",
    "        \n",
    "t1 = TestThread('thread-1')\n",
    "t2 = TestThread('thread-2')\n",
    "t1.start()\n",
    "t2.start()\n",
    "\n"
   ]
  },
  {
   "cell_type": "markdown",
   "metadata": {},
   "source": [
    "![alt text](image.png)"
   ]
  },
  {
   "cell_type": "code",
   "execution_count": null,
   "metadata": {},
   "outputs": [],
   "source": [
    "from threading import Thread,Lock\n",
    "import time\n",
    "\n",
    "lock = Lock()\n",
    "\n",
    "def func():\n",
    "    global n\n",
    "    #加锁\n",
    "    lock.acquire()\n",
    "    team = n\n",
    "    time.sleep(1)\n",
    "    n = team-1\n",
    "    #释放锁\n",
    "    lock.release()\n",
    "    \n",
    "if __name__ == '__main__':\n",
    "    n = 100\n",
    "    l = []\n",
    "    for i in range(100):\n",
    "        t = Thread(target=func)\n",
    "        l.append(t)\n",
    "        t.start()\n",
    "        \n",
    "    for t in l:\n",
    "        #将t线程设置成阻塞状态，直到t线程执行完后才能进入下一线程\n",
    "        t.join()\n",
    "    print(n)\n"
   ]
  },
  {
   "cell_type": "markdown",
   "metadata": {},
   "source": []
  }
 ],
 "metadata": {
  "language_info": {
   "name": "python"
  }
 },
 "nbformat": 4,
 "nbformat_minor": 2
}
