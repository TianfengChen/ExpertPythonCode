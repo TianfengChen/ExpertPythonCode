{
 "cells": [
  {
   "cell_type": "code",
   "execution_count": 7,
   "metadata": {},
   "outputs": [
    {
     "name": "stdout",
     "output_type": "stream",
     "text": [
      "1 2.0 world [1, 2, 3, 4, 5] {'a': 1, 'b': 2, 'c': 3} (1, 2, 3) {1, 2, 3, 4}\n"
     ]
    }
   ],
   "source": [
    "#test the variable transfer in function variable list\n",
    "#int, float, string are deep copy\n",
    "#list, dict are reference\n",
    "# how about set, tuples?\n",
    "def tester(a,b,c,d=[],e={},f=(),g=set()):\n",
    "    a=10\n",
    "    b=20.0\n",
    "    c='hello'\n",
    "    d.append(4)\n",
    "    e['c']=3\n",
    "    f=(1,2,3,4)\n",
    "    g.add(4)\n",
    "    \n",
    "    h = d #still shallow copy\n",
    "    h.append(5)\n",
    "    \n",
    "    return\n",
    "a=1\n",
    "b=2.0\n",
    "c='world'\n",
    "d=[1,2,3]\n",
    "e={'a':1,'b':2}\n",
    "f=(1,2,3)\n",
    "g={1,2,3}\n",
    "\n",
    "tester(a,b,c,d,e,f,g)\n",
    "print(a,b,c,d,e,f,g)\n",
    "    "
   ]
  },
  {
   "cell_type": "code",
   "execution_count": 11,
   "metadata": {},
   "outputs": [
    {
     "name": "stdout",
     "output_type": "stream",
     "text": [
      "[[4, 2, 3], [4, 2, 3], [4, 2, 3]]\n",
      "[[4, 2, 3], [1, 2, 3], [1, 2, 3]]\n"
     ]
    }
   ],
   "source": [
    "#extend list\n",
    "a=[1,2,3]\n",
    "A = [a]*3\n",
    "A[0][0]=4\n",
    "print(A)\n",
    "#so do this\n",
    "A = [[1,2,3] for i in range(3)]\n",
    "A[0][0]=4\n",
    "print(A)"
   ]
  },
  {
   "cell_type": "code",
   "execution_count": 17,
   "metadata": {},
   "outputs": [
    {
     "name": "stdout",
     "output_type": "stream",
     "text": [
      "4379376144 4379376144\n",
      "True\n",
      "140631596441216 140631596449472\n",
      "False\n",
      "140631596435568 140631596435568\n",
      "True\n",
      "140631596437104 140631596629936\n",
      "False\n",
      "True\n",
      "True\n"
     ]
    }
   ],
   "source": [
    "a = 1\n",
    "b = 1\n",
    "print(id(a),id(b))\n",
    "print(a is b)\n",
    "\n",
    "a = [1,2,3]\n",
    "b = [1,2,3]\n",
    "print(id(a),id(b))\n",
    "print(a is b)\n",
    "\n",
    "a = 'gmail'\n",
    "b = 'gmail'\n",
    "print(id(a),id(b))\n",
    "print(a is b)\n",
    "\n",
    "a = 'gmail@'\n",
    "b = 'gmail@'\n",
    "print(id(a),id(b))\n",
    "print(a is b)\n",
    "\n",
    "a = 'gmail'\n",
    "b = ['gmail','com']\n",
    "print(a is b[0])\n",
    "print(a in b)"
   ]
  },
  {
   "cell_type": "code",
   "execution_count": null,
   "metadata": {},
   "outputs": [],
   "source": []
  }
 ],
 "metadata": {
  "kernelspec": {
   "display_name": "python38",
   "language": "python",
   "name": "python3"
  },
  "language_info": {
   "codemirror_mode": {
    "name": "ipython",
    "version": 3
   },
   "file_extension": ".py",
   "mimetype": "text/x-python",
   "name": "python",
   "nbconvert_exporter": "python",
   "pygments_lexer": "ipython3",
   "version": "3.8.13"
  }
 },
 "nbformat": 4,
 "nbformat_minor": 2
}
