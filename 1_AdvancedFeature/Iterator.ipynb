{
 "cells": [
  {
   "cell_type": "code",
   "execution_count": 1,
   "metadata": {},
   "outputs": [
    {
     "name": "stdout",
     "output_type": "stream",
     "text": [
      "a\n",
      "b\n",
      "c\n"
     ]
    }
   ],
   "source": [
    "i = iter(\"abc\")\n",
    "print(next(i))\n",
    "print(next(i))\n",
    "print(next(i))"
   ]
  },
  {
   "cell_type": "code",
   "execution_count": 6,
   "metadata": {},
   "outputs": [],
   "source": [
    "class MyIter(object):\n",
    "    def __init__(self, n):\n",
    "        self.i = 0\n",
    "        self.n = n\n",
    "    def __iter__(self):\n",
    "        #__iter__() is a private method\n",
    "        #it is called when the iterator is initialized\n",
    "        return self\n",
    "    def __next__(self):\n",
    "        if self.i < self.n:\n",
    "            i = self.i\n",
    "            self.i += 1\n",
    "            return i\n",
    "        else:\n",
    "            raise StopIteration()# StopIteration异常用于标识迭代的完成，防止出现无限循环的情况"
   ]
  },
  {
   "cell_type": "code",
   "execution_count": 7,
   "metadata": {},
   "outputs": [
    {
     "name": "stdout",
     "output_type": "stream",
     "text": [
      "0\n",
      "1\n",
      "2\n"
     ]
    }
   ],
   "source": [
    "# let us see how the functions are called, example:\n",
    "for i in MyIter(3):\n",
    "    print(i)"
   ]
  },
  {
   "cell_type": "code",
   "execution_count": 5,
   "metadata": {},
   "outputs": [
    {
     "name": "stdout",
     "output_type": "stream",
     "text": [
      "1\n",
      "28246016\n",
      "1\n",
      "28262400\n",
      "2\n",
      "28262400\n",
      "3\n",
      "28262400\n",
      "5\n",
      "28262400\n",
      "8\n",
      "28262400\n",
      "13\n",
      "28262400\n",
      "21\n",
      "28262400\n",
      "34\n",
      "28262400\n",
      "55\n",
      "28262400\n",
      "89\n",
      "28262400\n",
      "144\n",
      "28262400\n",
      "233\n",
      "28262400\n",
      "377\n",
      "28262400\n",
      "610\n",
      "28262400\n",
      "987\n",
      "28262400\n"
     ]
    }
   ],
   "source": [
    "#the benefit of using iterator is that it can save memory\n",
    "#and it is more efficient than list\n",
    "#a complex example showing this feature:\n",
    "\n",
    "#monitor the memory usage\n",
    "import os\n",
    "import psutil\n",
    "\n",
    "\n",
    "class Fib(object):\n",
    "    def __init__(self, max):\n",
    "        self.max = max\n",
    "        self.a, self.b = 0, 1\n",
    "    def __iter__(self):\n",
    "        return self\n",
    "    def __next__(self):\n",
    "        self.a, self.b = self.b, self.a + self.b\n",
    "        if self.a > self.max:\n",
    "            raise StopIteration\n",
    "        return self.a\n",
    "    \n",
    "\n",
    "for n in Fib(1000):\n",
    "    print(n)\n",
    "    process = psutil.Process(os.getpid())\n",
    "    print(process.memory_info().rss)\n"
   ]
  },
  {
   "cell_type": "code",
   "execution_count": 6,
   "metadata": {},
   "outputs": [
    {
     "name": "stdout",
     "output_type": "stream",
     "text": [
      "1\n",
      "29720576\n",
      "1\n",
      "29720576\n",
      "2\n",
      "29720576\n",
      "3\n",
      "29720576\n",
      "5\n",
      "29720576\n",
      "8\n",
      "29720576\n",
      "13\n",
      "29720576\n",
      "21\n",
      "29720576\n",
      "34\n",
      "29720576\n",
      "55\n",
      "29720576\n",
      "89\n",
      "29720576\n",
      "144\n",
      "29720576\n",
      "233\n",
      "29720576\n",
      "377\n",
      "29720576\n",
      "610\n",
      "29720576\n",
      "987\n",
      "29720576\n"
     ]
    }
   ],
   "source": [
    "#compare with the following code:\n",
    "a, b = 0, 1\n",
    "while b < 1000:\n",
    "    print(b)\n",
    "    a, b = b, a + b\n",
    "    process = psutil.Process(os.getpid())\n",
    "    print(process.memory_info().rss)"
   ]
  },
  {
   "cell_type": "code",
   "execution_count": null,
   "metadata": {},
   "outputs": [],
   "source": []
  }
 ],
 "metadata": {
  "kernelspec": {
   "display_name": "python38",
   "language": "python",
   "name": "python3"
  },
  "language_info": {
   "codemirror_mode": {
    "name": "ipython",
    "version": 3
   },
   "file_extension": ".py",
   "mimetype": "text/x-python",
   "name": "python",
   "nbconvert_exporter": "python",
   "pygments_lexer": "ipython3",
   "version": "3.9.6"
  }
 },
 "nbformat": 4,
 "nbformat_minor": 2
}
