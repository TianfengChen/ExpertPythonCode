{
 "cells": [
  {
   "cell_type": "code",
   "execution_count": 2,
   "metadata": {},
   "outputs": [
    {
     "data": {
      "text/plain": [
       "['Hello, world', 'Hello, python']"
      ]
     },
     "execution_count": 2,
     "metadata": {},
     "output_type": "execute_result"
    }
   ],
   "source": [
    "#python3 special syntax\n",
    "# -*- coding: utf-8 -*-\n",
    "#coding:utf-8\n",
    "# Filename: helloworld.py\n",
    "# Last modified: 2013-06-23 15:00\n",
    "\n",
    "#define input variable and output variable type\n",
    "def hello(name:str)->str:\n",
    "    return 'Hello, ' + name\n",
    "\n",
    "def helloList(names:list[str])->list[str]:\n",
    "    return ['Hello, ' + name for name in names]\n",
    "\n",
    "hello('world')\n",
    "helloList(['world', 'python'])"
   ]
  },
  {
   "cell_type": "code",
   "execution_count": null,
   "metadata": {},
   "outputs": [],
   "source": []
  }
 ],
 "metadata": {
  "kernelspec": {
   "display_name": "Python 3",
   "language": "python",
   "name": "python3"
  },
  "language_info": {
   "codemirror_mode": {
    "name": "ipython",
    "version": 3
   },
   "file_extension": ".py",
   "mimetype": "text/x-python",
   "name": "python",
   "nbconvert_exporter": "python",
   "pygments_lexer": "ipython3",
   "version": "3.9.6"
  }
 },
 "nbformat": 4,
 "nbformat_minor": 2
}
