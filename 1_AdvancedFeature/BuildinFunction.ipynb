{
 "cells": [
  {
   "cell_type": "code",
   "execution_count": 8,
   "metadata": {},
   "outputs": [
    {
     "name": "stdout",
     "output_type": "stream",
     "text": [
      "True\n",
      "True\n",
      "False\n"
     ]
    }
   ],
   "source": [
    "#any\n",
    "print(any([True, False, False]))\n",
    "\n",
    "#all\n",
    "print(all([True, True, True]))\n",
    "print(all([True, False, True]))\n"
   ]
  },
  {
   "cell_type": "code",
   "execution_count": 13,
   "metadata": {},
   "outputs": [
    {
     "name": "stdout",
     "output_type": "stream",
     "text": [
      "0b11\n"
     ]
    }
   ],
   "source": [
    "#bin oct hex\n",
    "print(bin(3))"
   ]
  },
  {
   "cell_type": "code",
   "execution_count": 14,
   "metadata": {},
   "outputs": [
    {
     "data": {
      "text/plain": [
       "['area', 'location', 'perimeter']"
      ]
     },
     "execution_count": 14,
     "metadata": {},
     "output_type": "execute_result"
    }
   ],
   "source": [
    "#dir\n",
    "#dir is a powerful inbuilt function in Python3, which returns list of the attributes and methods of any object (say functions , modules, strings, lists, dictionaries etc.)\n",
    "class Shape:\n",
    "    def __dir__(self):\n",
    "        return ['area', 'perimeter', 'location']\n",
    "s = Shape()\n",
    "dir(s)"
   ]
  },
  {
   "cell_type": "code",
   "execution_count": 15,
   "metadata": {},
   "outputs": [
    {
     "name": "stdout",
     "output_type": "stream",
     "text": [
      "[(0, 'Spring'), (1, 'Summer'), (2, 'Fall'), (3, 'Winter')]\n"
     ]
    }
   ],
   "source": [
    "#enumerate\n",
    "seasons = ['Spring', 'Summer', 'Fall', 'Winter']\n",
    "print(list(enumerate(seasons)))"
   ]
  },
  {
   "cell_type": "code",
   "execution_count": 16,
   "metadata": {},
   "outputs": [
    {
     "name": "stdout",
     "output_type": "stream",
     "text": [
      "Hello World\n"
     ]
    }
   ],
   "source": [
    "#exec\n",
    "exec('print(\"Hello World\")')"
   ]
  },
  {
   "cell_type": "code",
   "execution_count": 18,
   "metadata": {},
   "outputs": [
    {
     "name": "stdout",
     "output_type": "stream",
     "text": [
      "[5, 7, 11, 13, 17, 19, 23]\n",
      "[5, 7, 11, 13, 17, 19, 23]\n"
     ]
    }
   ],
   "source": [
    "#filter\n",
    "def f(x):\n",
    "    return x % 2 != 0 and x % 3 != 0\n",
    "print(list(filter(f, range(2, 25))))\n",
    "#filter with lambda\n",
    "print(list(filter(lambda x: x % 2 != 0 and x % 3 != 0, range(2, 25))))"
   ]
  },
  {
   "cell_type": "code",
   "execution_count": 23,
   "metadata": {},
   "outputs": [
    {
     "name": "stdout",
     "output_type": "stream",
     "text": [
      "<str_iterator object at 0x7fbf01212b80>\n",
      "a\n",
      "b\n"
     ]
    }
   ],
   "source": [
    "#iter, next\n",
    "s = 'abc'\n",
    "it = iter(s)\n",
    "print(it)\n",
    "print(next(it))\n",
    "print(next(it))"
   ]
  },
  {
   "cell_type": "code",
   "execution_count": 25,
   "metadata": {},
   "outputs": [
    {
     "name": "stdout",
     "output_type": "stream",
     "text": [
      "8\n",
      "1\n",
      "3\n",
      "6\n"
     ]
    }
   ],
   "source": [
    "#pow, min, max, sum\n",
    "print(pow(2, 3))\n",
    "print(min(1, 2, 3))\n",
    "print(max(1, 2, 3))\n",
    "print(sum([1, 2, 3]))"
   ]
  },
  {
   "cell_type": "code",
   "execution_count": 29,
   "metadata": {},
   "outputs": [
    {
     "name": "stdout",
     "output_type": "stream",
     "text": [
      "[1 3 5 7 9]\n",
      "[3, 2, 1]\n",
      "['c', 'b', 'a']\n"
     ]
    }
   ],
   "source": [
    "#slice, split, reversed\n",
    "#class slice(start, stop, step=None)\n",
    "s = slice(1, 10, 2)\n",
    "a = np.arange(10)\n",
    "print(a[s])\n",
    "\n",
    "print(list(reversed([1, 2, 3])))\n",
    "print(list(reversed('abc')))"
   ]
  },
  {
   "cell_type": "code",
   "execution_count": 2,
   "metadata": {},
   "outputs": [
    {
     "name": "stdout",
     "output_type": "stream",
     "text": [
      "[1, 8, 27, 64, 125, 216, 343, 512, 729, 1000]\n",
      "[1, 8, 27, 64, 125, 216, 343, 512, 729, 1000]\n",
      "[(1, 4), (2, 5), (3, 6)]\n",
      "[(1, 4, 7), (2, 5, 8), (3, 6, 9)]\n",
      "[('a', 'd'), ('b', 'e'), ('c', 'f')]\n",
      "{'a': 'd', 'b': 'e', 'c': 'f'}\n"
     ]
    }
   ],
   "source": [
    "#map\n",
    "def cube(x):    \n",
    "    return x**3\n",
    "print(list(map(cube, range(1, 11))))\n",
    "#map with lambda\n",
    "print(list(map(lambda x: x**3, range(1, 11))))\n",
    "\n",
    "#zip\n",
    "print(list(zip([1, 2, 3], [4, 5, 6])))\n",
    "print(list(zip([1, 2, 3], [4, 5, 6], [7, 8, 9])))\n",
    "print(list(zip('abc', 'def')))\n",
    "print(dict(zip('abc', 'def')))\n"
   ]
  },
  {
   "cell_type": "code",
   "execution_count": 5,
   "metadata": {},
   "outputs": [
    {
     "name": "stdout",
     "output_type": "stream",
     "text": [
      "[(1, 'a'), (2, 'd'), (3, 'b'), (4, 'c')]\n"
     ]
    }
   ],
   "source": [
    "#list sort\n",
    "a = [1, 3, 2]\n",
    "a.sort()\n",
    "\n",
    "a = [[1,4,3,2],['a','c','b','d']]\n",
    "a = list(zip(a[0], a[1]))\n",
    "a = sorted(a, key=lambda x: x[0])\n",
    "print(a)"
   ]
  },
  {
   "cell_type": "code",
   "execution_count": 6,
   "metadata": {},
   "outputs": [
    {
     "name": "stdout",
     "output_type": "stream",
     "text": [
      "15\n"
     ]
    }
   ],
   "source": [
    "#reduce\n",
    "#The reduce(fun,seq) function is used to apply a particular function passed in its argument to all of the list elements mentioned in the sequence passed along.This function is defined in “functools” module.\n",
    "from functools import reduce\n",
    "print(reduce(lambda x, y: x+y, [1, 2, 3, 4, 5]))"
   ]
  },
  {
   "cell_type": "code",
   "execution_count": 6,
   "metadata": {},
   "outputs": [
    {
     "name": "stdout",
     "output_type": "stream",
     "text": [
      "[1, 3, 5, 7, 9]\n",
      "[1, 3, 5, 7, 9]\n"
     ]
    }
   ],
   "source": [
    "#slice\n",
    "A = list(range(1,10,2))\n",
    "B = list(range(0,10))[slice(1,10,2)]\n",
    "print(A)\n",
    "print(B)"
   ]
  },
  {
   "cell_type": "code",
   "execution_count": 3,
   "metadata": {},
   "outputs": [
    {
     "name": "stdout",
     "output_type": "stream",
     "text": [
      "Hello, world.\n",
      "'Hello, world.'\n",
      "[1, 2, 3, 4]\n",
      "[1, 2, 3, 4]\n"
     ]
    }
   ],
   "source": [
    "#repr\n",
    "#The repr() function returns a printable representation of the given object.\n",
    "s = 'Hello, world.'\n",
    "print(s)\n",
    "print(repr(s))\n",
    "\n",
    "l = [1, 2, 3, 4]\n",
    "print(l)\n",
    "print(repr(l))\n",
    "\n"
   ]
  },
  {
   "cell_type": "code",
   "execution_count": null,
   "metadata": {},
   "outputs": [],
   "source": []
  }
 ],
 "metadata": {
  "kernelspec": {
   "display_name": "python38",
   "language": "python",
   "name": "python3"
  },
  "language_info": {
   "codemirror_mode": {
    "name": "ipython",
    "version": 3
   },
   "file_extension": ".py",
   "mimetype": "text/x-python",
   "name": "python",
   "nbconvert_exporter": "python",
   "pygments_lexer": "ipython3",
   "version": "3.9.6"
  },
  "orig_nbformat": 4
 },
 "nbformat": 4,
 "nbformat_minor": 2
}
