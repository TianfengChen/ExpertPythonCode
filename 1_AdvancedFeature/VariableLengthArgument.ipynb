{
 "cells": [
  {
   "cell_type": "code",
   "execution_count": 1,
   "metadata": {},
   "outputs": [
    {
     "name": "stdout",
     "output_type": "stream",
     "text": [
      "Positional tuple: ()\n",
      "Positional tuple: (3, 2, 1, 'wait!', 'uh...')\n",
      "Positional tuple: ('Hey!', 'you', 'guys!')\n"
     ]
    }
   ],
   "source": [
    "#how to use variable length argument list?\n",
    "def print_args(*args):\n",
    "    print('Positional tuple:', args)\n",
    "    \n",
    "print_args()\n",
    "print_args(3, 2, 1, 'wait!', 'uh...')\n",
    "print_args('Hey!', 'you', 'guys!')"
   ]
  },
  {
   "cell_type": "code",
   "execution_count": 2,
   "metadata": {},
   "outputs": [],
   "source": [
    "def print_more(required1, required2, *args):\n",
    "    print('Need this one:', required1)\n",
    "    print('Need this one too:', required2)\n",
    "    print('All the rest:', args)"
   ]
  },
  {
   "cell_type": "code",
   "execution_count": 3,
   "metadata": {},
   "outputs": [
    {
     "name": "stdout",
     "output_type": "stream",
     "text": [
      "Positional tuple: (1, 2, 3)\n",
      "Keyword dict: {'a': 'apple', 'b': 'banana'}\n"
     ]
    }
   ],
   "source": [
    "def test_args(*args, **kwargs):\n",
    "    print('Positional tuple:', args)\n",
    "    print('Keyword dict:', kwargs)\n",
    "\n",
    "#kwargs is a dictionary, args is a tuple\n",
    "test_args(1, 2, 3, a='apple', b='banana')\n"
   ]
  },
  {
   "cell_type": "code",
   "execution_count": null,
   "metadata": {},
   "outputs": [],
   "source": []
  }
 ],
 "metadata": {
  "kernelspec": {
   "display_name": "python38",
   "language": "python",
   "name": "python3"
  },
  "language_info": {
   "codemirror_mode": {
    "name": "ipython",
    "version": 3
   },
   "file_extension": ".py",
   "mimetype": "text/x-python",
   "name": "python",
   "nbconvert_exporter": "python",
   "pygments_lexer": "ipython3",
   "version": "3.8.13"
  }
 },
 "nbformat": 4,
 "nbformat_minor": 2
}
