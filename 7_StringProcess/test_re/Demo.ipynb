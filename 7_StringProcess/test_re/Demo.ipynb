{
 "cells": [
  {
   "cell_type": "code",
   "execution_count": 2,
   "metadata": {},
   "outputs": [
    {
     "name": "stdout",
     "output_type": "stream",
     "text": [
      "['this is what i want', 'also this']\n"
     ]
    }
   ],
   "source": [
    "import re\n",
    "\n",
    "pattern = re.compile(r'\\((.*?)\\)')\n",
    "s = '(this is what i want) but not this (also this)'\n",
    "\n",
    "print(pattern.findall(s))"
   ]
  },
  {
   "cell_type": "code",
   "execution_count": null,
   "metadata": {},
   "outputs": [],
   "source": [
    "#test if a string satisfies a pattern\n",
    "if pattern.match(s):\n",
    "    print('match')"
   ]
  },
  {
   "cell_type": "code",
   "execution_count": 6,
   "metadata": {},
   "outputs": [
    {
     "name": "stdout",
     "output_type": "stream",
     "text": [
      "['Be233e_scd', 'Bee']\n"
     ]
    }
   ],
   "source": [
    "#find all word start with B\n",
    "import re\n",
    "pattern = re.compile(r'\\bB\\w+')\n",
    "s = 'Be233e_scd is a Bee'\n",
    "print(pattern.findall(s))"
   ]
  },
  {
   "cell_type": "code",
   "execution_count": 20,
   "metadata": {},
   "outputs": [
    {
     "name": "stdout",
     "output_type": "stream",
     "text": [
      "\\bB\\w+\n",
      "\\bB\\w+\n",
      "\\bB\\w+\n"
     ]
    }
   ],
   "source": [
    "#design a function make s = '\\bB\\w+' display as r'\\bB\\w+'\n",
    "def raw(text):\n",
    "    return r'{}'.format(text)\n",
    "#testcase\n",
    "s = '\\\\bB\\w+'\n",
    "print(s)\n",
    "print(raw(s))\n",
    "print(r'\\bB\\w+')"
   ]
  },
  {
   "cell_type": "code",
   "execution_count": 22,
   "metadata": {},
   "outputs": [
    {
     "data": {
      "text/plain": [
       "['Be233e_scd', 'Bee']"
      ]
     },
     "execution_count": 22,
     "metadata": {},
     "output_type": "execute_result"
    }
   ],
   "source": [
    "a = \"\\\\bB\\w+\"\n",
    "a = re.compile(a)\n",
    "a.findall('Be233e_scd is a Bee')"
   ]
  },
  {
   "cell_type": "code",
   "execution_count": 13,
   "metadata": {},
   "outputs": [
    {
     "data": {
      "text/plain": [
       "'\\x08B\\\\w+'"
      ]
     },
     "execution_count": 13,
     "metadata": {},
     "output_type": "execute_result"
    }
   ],
   "source": [
    "a"
   ]
  },
  {
   "cell_type": "code",
   "execution_count": 18,
   "metadata": {},
   "outputs": [
    {
     "data": {
      "text/plain": [
       "[\"r'\\x08B\\\\w+'\", \"r'\\x08B\\\\w+'\", \"r'\\x08B\\\\w+'\"]"
      ]
     },
     "execution_count": 18,
     "metadata": {},
     "output_type": "execute_result"
    }
   ],
   "source": [
    "a = \"r'\\bB\\w+' r'\\bB\\w+' r'\\bB\\w+'\" \n",
    "a.split(' ')"
   ]
  },
  {
   "cell_type": "code",
   "execution_count": 5,
   "metadata": {},
   "outputs": [
    {
     "name": "stdout",
     "output_type": "stream",
     "text": [
      "[]\n"
     ]
    }
   ],
   "source": [
    "#find item inside '' or \"\", not including '' or \"\"\n",
    "import re\n",
    "\n",
    "pattern\n"
   ]
  },
  {
   "cell_type": "code",
   "execution_count": 7,
   "metadata": {},
   "outputs": [
    {
     "name": "stdout",
     "output_type": "stream",
     "text": [
      "['Be233e_scd', 'is', 'a', 'Bee']\n"
     ]
    }
   ],
   "source": [
    "#get the word or number but not other symbol\n",
    "import re\n",
    "pattern = re.compile(r'\\w+')\n",
    "s = 'Be233e_scd is a Bee'\n",
    "print(pattern.findall(s))"
   ]
  },
  {
   "cell_type": "code",
   "execution_count": null,
   "metadata": {},
   "outputs": [],
   "source": [
    "#search word start with B ignore case \n",
    "import re\n",
    "pattern = re.compile(r'\\bB\\w+', re.IGNORECASE)\n"
   ]
  },
  {
   "cell_type": "code",
   "execution_count": 8,
   "metadata": {},
   "outputs": [
    {
     "ename": "SyntaxError",
     "evalue": "positional argument follows keyword argument unpacking (2939293212.py, line 18)",
     "output_type": "error",
     "traceback": [
      "\u001b[0;36m  Cell \u001b[0;32mIn [8], line 18\u001b[0;36m\u001b[0m\n\u001b[0;31m    return func(*args,**kwargs,re.IGNORECASE)\u001b[0m\n\u001b[0m                               ^\u001b[0m\n\u001b[0;31mSyntaxError\u001b[0m\u001b[0;31m:\u001b[0m positional argument follows keyword argument unpacking\n"
     ]
    }
   ],
   "source": [
    "def getIfInside(sentence,item,if_regex):\n",
    "    if if_regex:\n",
    "        pattern = re.compile(item)\n",
    "        if pattern.match(sentence):\n",
    "            return True\n",
    "        else:\n",
    "            return False\n",
    "    else:\n",
    "        if item in sentence:\n",
    "            return True\n",
    "        else:\n",
    "            return False\n",
    "\n",
    "#rewrite with decorator, add ignore case function to a function\n",
    "\n",
    "def ignoreCase(func):\n",
    "    def wrapper(*args,**kwargs):\n",
    "        return func(*args,**kwargs,re.IGNORECASE)\n",
    "    return wrapper\n",
    "\n",
    "@ignoreCase\n",
    "def getIfInside(sentence,item,if_regex):\n",
    "    if if_regex:\n",
    "        pattern = re.compile(item)\n",
    "        if pattern.match(sentence):\n",
    "            return True\n",
    "        else:\n",
    "            return False\n",
    "    else:\n",
    "        if item in sentence:\n",
    "            return True\n",
    "        else:\n",
    "            return False\n",
    "        \n",
    "getIfInside('Be233e_scd is a Bee','b',False)\n"
   ]
  },
  {
   "cell_type": "code",
   "execution_count": 12,
   "metadata": {},
   "outputs": [],
   "source": [
    "pattern = re.compile(r'\\w+')\n",
    "test = 'S/D'\n",
    "if len(pattern.findall(test)) == 1:\n",
    "    print('match')\n",
    "    \n",
    "#or use this\n",
    "pattern = re.compile(r'\\w+')\n",
    "test = 'S/D'\n"
   ]
  },
  {
   "cell_type": "code",
   "execution_count": 10,
   "metadata": {},
   "outputs": [],
   "source": [
    "s = 'this is the S/D'\n",
    "if test in pattern.findall(s):\n",
    "    print('match')"
   ]
  },
  {
   "cell_type": "code",
   "execution_count": 11,
   "metadata": {},
   "outputs": [
    {
     "name": "stdout",
     "output_type": "stream",
     "text": [
      "['this', 'is', 'the', 'S', 'D']\n"
     ]
    }
   ],
   "source": [
    "print(pattern.findall(s))"
   ]
  },
  {
   "cell_type": "code",
   "execution_count": 12,
   "metadata": {},
   "outputs": [
    {
     "name": "stdout",
     "output_type": "stream",
     "text": [
      "[('func1', 'argu1,   argu2')]\n",
      "[('func1', 'argu1,argu2')]\n"
     ]
    },
    {
     "data": {
      "text/plain": [
       "['argu1', 'argu2']"
      ]
     },
     "execution_count": 12,
     "metadata": {},
     "output_type": "execute_result"
    }
   ],
   "source": [
    "import re\n",
    "s = \"\\\\_func1(argu1,   argu2)\\\\\"\n",
    "#get the func1 and argu1,argu2\n",
    "s2 = \"#\\\\_func1(argu1,argu2)\\\\\"\n",
    "#ignore s2 because of #\n",
    "pattern = re.compile(r'\\\\_(.*?)\\((.*?)\\)\\\\')\n",
    "print(pattern.findall(s))\n",
    "print(pattern.findall(s2))\n",
    "#get the argu1,argu2 into a list\n",
    "pattern2 = re.compile(r'\\w+')\n",
    "pattern2.findall(pattern.findall(s)[0][1])\n"
   ]
  },
  {
   "cell_type": "code",
   "execution_count": 14,
   "metadata": {},
   "outputs": [
    {
     "name": "stdout",
     "output_type": "stream",
     "text": [
      "match\n"
     ]
    }
   ],
   "source": [
    "#test a word is a all upper case word\n",
    "import re\n",
    "pattern = re.compile(r'[A-Z]+')\n",
    "s = 'THIS'\n",
    "if len(pattern.findall(s)) == 1:\n",
    "    print('match')"
   ]
  },
  {
   "cell_type": "code",
   "execution_count": null,
   "metadata": {},
   "outputs": [],
   "source": [
    "import os\n",
    "#get all folder in a path\n",
    "path = './'\n",
    "for dir in os.listdir(path):\n",
    "    if os.path.isdir(dir):\n",
    "        print(dir)\n"
   ]
  },
  {
   "cell_type": "code",
   "execution_count": 1,
   "metadata": {},
   "outputs": [
    {
     "name": "stdout",
     "output_type": "stream",
     "text": [
      "['123', '435', '3', '6']\n"
     ]
    }
   ],
   "source": [
    "#get all number\n",
    "import re\n",
    "pattern = re.compile(r'\\d+')\n",
    "s = '123_ xtt,435/de/3e6'\n",
    "print(pattern.findall(s))\n"
   ]
  },
  {
   "cell_type": "code",
   "execution_count": 10,
   "metadata": {},
   "outputs": [
    {
     "name": "stdout",
     "output_type": "stream",
     "text": [
      "['A_B1', 's_B ', 'c_Bthis', 'this__Bcannot']\n"
     ]
    }
   ],
   "source": [
    "import re\n",
    "line = \"A_B1=  s_B c_Bthis this__Bcannot\"\n",
    "#get A_B1, s_B, c_Bthis\n",
    "pattern = re.compile(r'(\\w+_B.+?\\b)')\n",
    "\n",
    "print(pattern.findall(line))"
   ]
  },
  {
   "cell_type": "code",
   "execution_count": 28,
   "metadata": {},
   "outputs": [
    {
     "name": "stdout",
     "output_type": "stream",
     "text": [
      "[('Flag_all_block', 'this  is [description]')]\n"
     ]
    }
   ],
   "source": [
    "import re\n",
    "testcase = \\\n",
    "'''\n",
    "Flag_all_block { @ \"this  is [description]\"\n",
    "    do something\n",
    "    do other thing\n",
    "}\n",
    "'''\n",
    "#find the sentence inside \"\" and the rule id\n",
    "pattern = re.compile(r'(\\w+)\\s*{.*?@.*?\"(.*?)\"',re.DOTALL)\n",
    "print(pattern.findall(testcase))\n"
   ]
  },
  {
   "cell_type": "code",
   "execution_count": 26,
   "metadata": {},
   "outputs": [
    {
     "name": "stdout",
     "output_type": "stream",
     "text": [
      "This_is_rule_id {do \n",
      " something do other thing}\n",
      "['do \\n something do other thing']\n"
     ]
    }
   ],
   "source": [
    "#get all content inside {}\n",
    "import re\n",
    "pattern = re.compile(r'{(.+?)}',re.DOTALL)\n",
    "s = 'This_is_rule_id {do \\n something do other thing}'\n",
    "print(s)\n",
    "print(pattern.findall(s))"
   ]
  },
  {
   "cell_type": "code",
   "execution_count": 33,
   "metadata": {},
   "outputs": [
    {
     "data": {
      "text/plain": [
       "['']"
      ]
     },
     "execution_count": 33,
     "metadata": {},
     "output_type": "execute_result"
    }
   ],
   "source": [
    "sen = 'Flag_id { @ \" Flag all block {1.9'\n",
    "#get all content after \"\n",
    "pattern = re.compile(r'@ \"(.*?)\"')"
   ]
  },
  {
   "cell_type": "code",
   "execution_count": 34,
   "metadata": {},
   "outputs": [
    {
     "data": {
      "text/plain": [
       "[('452', '50', '865')]"
      ]
     },
     "execution_count": 34,
     "metadata": {},
     "output_type": "execute_result"
    }
   ],
   "source": [
    "import re\n",
    "sen = \"LAYER MAP 452 DATATYPE == 50 865\"\n",
    "pattern = re.compile(r'LAYER MAP (\\d+) DATATYPE == (\\d+) (\\d+)')\n",
    "pattern.findall(sen)\n"
   ]
  },
  {
   "cell_type": "code",
   "execution_count": null,
   "metadata": {},
   "outputs": [],
   "source": [
    "import json\n",
    "#export a dict to json file\n",
    "dict = {'a':1,'b':2}\n",
    "with open('test.json','w') as f:\n",
    "    #want the json file to be pretty\n",
    "    json.dump(dict,f,indent=4)\n",
    "    "
   ]
  },
  {
   "cell_type": "code",
   "execution_count": 44,
   "metadata": {},
   "outputs": [
    {
     "name": "stdout",
     "output_type": "stream",
     "text": [
      "['b']\n",
      "['a', ' c']\n"
     ]
    }
   ],
   "source": [
    "import re\n",
    "# I want the all content in biggest {}\n",
    "s1 = 'this is {a {b} c} d'\n",
    "#get a {b} c for s1\n",
    "s2 = 'this is {a}b  { c} d'\n",
    "#get a  c for s2\n",
    "pattern = re.compile(r'\\{([^{}]+)\\}')\n",
    "print(pattern.findall(s1))\n",
    "print(pattern.findall(s2))\n"
   ]
  },
  {
   "cell_type": "code",
   "execution_count": 37,
   "metadata": {},
   "outputs": [
    {
     "data": {
      "text/plain": [
       "['123']"
      ]
     },
     "execution_count": 37,
     "metadata": {},
     "output_type": "execute_result"
    }
   ],
   "source": [
    "#I want the first word after \"MERGE\"\n",
    "sen = 'MERGE 123   MERGE    456'\n",
    "pattern = re.compile(r'MERGE\\s*(\\w+)')\n",
    "pattern.findall(sen)"
   ]
  },
  {
   "cell_type": "code",
   "execution_count": 50,
   "metadata": {},
   "outputs": [
    {
     "name": "stdout",
     "output_type": "stream",
     "text": [
      "['a {b']\n",
      "['a', ' c']\n"
     ]
    }
   ],
   "source": [
    "import re\n",
    "\n",
    "s1 = 'this is {a {b} c} d'\n",
    "s2 = 'this is {a}b  { c} d'\n",
    "\n",
    "pattern = re.compile(r'\\{([^{}]+)\\}') #error\n",
    "pattern = re.compile(r'\\{([^{}]+?)\\}') #error\n",
    "pattern = re.compile(r'\\{(.+?)\\}') #error\n",
    "#the correct pattern is\n",
    "pattern = re.compile(r'\\{(.+?)\\}')\n",
    "\n",
    "matches_s1 = pattern.findall(s1)\n",
    "matches_s2 = pattern.findall(s2)\n",
    "\n",
    "print(matches_s1)  # Output: ['a {b} c']\n",
    "print(matches_s2)  # Output: ['a', ' c']\n"
   ]
  },
  {
   "cell_type": "code",
   "execution_count": 69,
   "metadata": {},
   "outputs": [
    {
     "name": "stdout",
     "output_type": "stream",
     "text": [
      "{a}\n",
      "s is\n"
     ]
    }
   ],
   "source": [
    "#use stack to find the biggest {}\n",
    "s0 = \"there is no bracket\"\n",
    "s1 = 'this is {a {b} c} d'\n",
    "#Only Output: ['{a {b} c}']\n",
    "s2 = 'this is {a}b  { c} d'\n",
    "#Only Output: ['{a}', '{ c}']\n",
    "\n",
    "def find_biggest_bracket(s,head):\n",
    "    stack = []\n",
    "    new_s = s[head:]\n",
    "    for i, c in enumerate(new_s):\n",
    "        if c == '{':\n",
    "            stack.append(i)\n",
    "        elif c == '}':\n",
    "            start = stack.pop()\n",
    "            if not stack:\n",
    "                return s[start:i+1],head+i+1\n",
    "    return False, head+i+1\n",
    "\n",
    "head = 0\n",
    "Lbracket, head= find_biggest_bracket(s2,head)\n",
    "while Lbracket:\n",
    "    print(Lbracket)\n",
    "    Lbracket, head = find_biggest_bracket(s2,head)\n",
    "    \n"
   ]
  },
  {
   "cell_type": "code",
   "execution_count": null,
   "metadata": {},
   "outputs": [],
   "source": [
    "#re ignore case\n",
    "import re\n",
    "pattern = re.compile(r'abc',re.IGNORECASE)"
   ]
  },
  {
   "cell_type": "code",
   "execution_count": 77,
   "metadata": {},
   "outputs": [
    {
     "name": "stdout",
     "output_type": "stream",
     "text": [
      "this is a TEST testbook test_OK\n"
     ]
    }
   ],
   "source": [
    "#re find and replace\n",
    "import re\n",
    "s = 'this is a test testbook test_OK'\n",
    "replace = \"test\"\n",
    "replaceWith = \"TEST\"\n",
    "#replace test with exam but not testbook\n",
    "pattern = re.compile(r'\\b{}\\b'.format(replace))\n",
    "s = pattern.sub(replaceWith,s)\n",
    "print(s)"
   ]
  },
  {
   "cell_type": "code",
   "execution_count": 81,
   "metadata": {},
   "outputs": [
    {
     "name": "stdout",
     "output_type": "stream",
     "text": [
      "Longest common substring: LiconChk\n"
     ]
    }
   ],
   "source": [
    "def longest_common_substring(stringList):\n",
    "    if not stringList:\n",
    "        return \"\"\n",
    "\n",
    "    # Find the shortest string in the list\n",
    "    shortest = min(stringList, key=len)\n",
    "\n",
    "    def is_common_substring(substring):\n",
    "        return all(substring in string for string in stringList)\n",
    "\n",
    "    max_length = 0\n",
    "    longest_substring = \"\"\n",
    "    for i in range(len(shortest)):\n",
    "        for j in range(i + max_length + 1, len(shortest) + 1):\n",
    "            if is_common_substring(shortest[i:j]):\n",
    "                if len(shortest[i:j]) > max_length:\n",
    "                    max_length = len(shortest[i:j])\n",
    "                    longest_substring = shortest[i:j]\n",
    "\n",
    "    return longest_substring\n",
    "\n",
    "stringList = ['LiconChk', 'LiconChkShortlen', 'LiconChkShortlen', 'LiconChk_center', 'LiconChk_centerline']\n",
    "result = longest_common_substring(stringList)\n",
    "print(\"Longest common substring:\", result)\n"
   ]
  },
  {
   "cell_type": "code",
   "execution_count": 93,
   "metadata": {},
   "outputs": [
    {
     "name": "stdout",
     "output_type": "stream",
     "text": [
      "['123.45', '123', '123.45', '67']\n",
      "0 6\n",
      "7 10\n",
      "14 20\n",
      "21 23\n",
      "23\n"
     ]
    }
   ],
   "source": [
    "import re\n",
    "#get all number including float\n",
    "pattern = re.compile(r'\\d+\\.?\\d*')\n",
    "s = '123.45 123 crv123.45.67'\n",
    "print(pattern.findall(s))\n",
    "match = pattern.search(s)\n",
    "#find the head and tail index of all match in s, not only the first one\n",
    "while match:\n",
    "    print(match.start(),match.end())\n",
    "    match = pattern.search(s,match.end())\n",
    "    \n",
    "print(len(s))"
   ]
  },
  {
   "cell_type": "code",
   "execution_count": 86,
   "metadata": {},
   "outputs": [
    {
     "name": "stdout",
     "output_type": "stream",
     "text": [
      "['1+3 =4']\n"
     ]
    }
   ],
   "source": [
    "import re\n",
    "#get all expression\n",
    "s = ' 1+3 =4 and 1+3=4thisis a test1 +3=  4'\n",
    "pattern = re.compile(r'\\b\\d+\\s*[\\+\\-\\*\\/]\\s*\\d+\\s*=\\s*\\d+\\b')\n",
    "print(pattern.findall(s))"
   ]
  },
  {
   "cell_type": "code",
   "execution_count": 87,
   "metadata": {},
   "outputs": [
    {
     "name": "stdout",
     "output_type": "stream",
     "text": [
      "5 7\n"
     ]
    }
   ],
   "source": [
    "#find the head and tail index of a word in a sentence\n",
    "\n",
    "import re\n",
    "s = 'this is a test'\n",
    "word = 'is'\n",
    "pattern = re.compile(r'\\b{}\\b'.format(word))\n",
    "match = pattern.search(s)\n",
    "if match:\n",
    "    print(match.start(),match.end())\n",
    "    "
   ]
  },
  {
   "cell_type": "code",
   "execution_count": 94,
   "metadata": {},
   "outputs": [
    {
     "name": "stdout",
     "output_type": "stream",
     "text": [
      "[True, True, True]\n"
     ]
    }
   ],
   "source": [
    "#give me a lambda function example with for if\n",
    "\n",
    "#func = lambda x: True for i in x if i > 0 else False #error\n",
    "func = lambda x: [True for i in x if i > 0] \n",
    "#any number > 0 will return True\n",
    "func = lambda x: any([True for i in x if i > 0])\n",
    "\n",
    "\n"
   ]
  },
  {
   "cell_type": "code",
   "execution_count": 95,
   "metadata": {},
   "outputs": [
    {
     "name": "stdout",
     "output_type": "stream",
     "text": [
      "[[1, 2], [5, 10], [13, 13], [15, 15]]\n"
     ]
    }
   ],
   "source": [
    "#make a num list to a range list\n",
    "numList = [1,2,5,6,7,8,9,10,13,15]\n",
    "#make it to [[1,2],[5,10],[13,13],[15,15]]\n",
    "def numListToRangeList(numList):\n",
    "    rangeList = []\n",
    "    start = numList[0]\n",
    "    for i in range(1,len(numList)):\n",
    "        if numList[i] - numList[i-1] != 1:\n",
    "            rangeList.append([start,numList[i-1]])\n",
    "            start = numList[i]\n",
    "    rangeList.append([start,numList[-1]])\n",
    "    return rangeList\n",
    "\n",
    "print(numListToRangeList(numList))\n"
   ]
  },
  {
   "cell_type": "code",
   "execution_count": 104,
   "metadata": {},
   "outputs": [
    {
     "name": "stdout",
     "output_type": "stream",
     "text": [
      "[[1, 3], [5, 13], [15, 19], [21, 21]]\n",
      "[[1, 3], [5, 13], [15, 19]]\n",
      "[[4, 4], [14, 14]]\n"
     ]
    }
   ],
   "source": [
    "A = [[3,3],[11,12],[16,19]]\n",
    "B = [[1, 2], [5, 10], [13, 13], [15, 15],[21,21]]\n",
    "#if A and B has overlap or include, merge them\n",
    "def mergeRangeList(A,B):\n",
    "    \n",
    "    \n",
    "\n",
    "#only get the range in C which include the range in A\n",
    "#A = [[3,3],[11,12],[16,19]]\n",
    "#C = [[1, 3], [5, 13], [15, 19], [21, 21]]\n",
    "#D = [[1,3],[5,13],[15,19]]\n",
    "def getIncludeRangeList(A,C):\n",
    "    D = []\n",
    "    for a in A:\n",
    "        for c in C:\n",
    "            if a[0] >= c[0] and a[1] <= c[1]:\n",
    "                D.append(c)\n",
    "                break\n",
    "    return D\n",
    "print(getIncludeRangeList(A,C))\n",
    "D = getIncludeRangeList(A,C)\n",
    "ALL_range = [1,20]\n",
    "#get the range list in ALL_range which is not in D\n",
    "def getNotIncludeRangeList(ALL_range,D):\n",
    "    E = []\n",
    "    start = ALL_range[0]\n",
    "    for d in D:\n",
    "        if d[0] - start > 0:\n",
    "            E.append([start,d[0]-1])\n",
    "        start = d[1] + 1\n",
    "    if ALL_range[1] - start > 0:\n",
    "        E.append([start,ALL_range[1]])\n",
    "    return E\n",
    "print(getNotIncludeRangeList(ALL_range,D))"
   ]
  },
  {
   "cell_type": "code",
   "execution_count": null,
   "metadata": {},
   "outputs": [],
   "source": [
    "A = [1,2,3]\n",
    "B = [4,5,6]\n",
    "#C = [A[int(i/2)] for i in range(len(A)+len(B)) if i%2 == 0 else B[int(i/2)]]#error\n",
    "C = [A[int(i/2)] if i%2 == 0 else B[int(i/2)] for i in range(len(A)+len(B))]\n"
   ]
  },
  {
   "cell_type": "code",
   "execution_count": null,
   "metadata": {},
   "outputs": [],
   "source": [
    "#print a 2D list beautifully\n",
    "def print2DList(L):\n",
    "    for l in L:\n",
    "        print(l)\n",
    "    print()\n"
   ]
  },
  {
   "cell_type": "code",
   "execution_count": 8,
   "metadata": {},
   "outputs": [
    {
     "name": "stdout",
     "output_type": "stream",
     "text": [
      "['this', 'is', 'a', 't_?est?yes?_th??is', 'is?is']\n"
     ]
    }
   ],
   "source": [
    "import re\n",
    "#I want something like \\w+ but ? is included\n",
    "test = 'this is a t_?est?yes?_th??is is?is'\n",
    "#I want test?yes?_this\n",
    "\n",
    "pattern = r'\\w+[\\??]*[\\w?]*'\n",
    "print(re.findall(pattern,test))\n",
    "\n"
   ]
  },
  {
   "cell_type": "code",
   "execution_count": 111,
   "metadata": {},
   "outputs": [],
   "source": [
    "#test if a file exist\n",
    "import os\n",
    "if os.path.exists('test.txt'):\n",
    "    print('exist')\n",
    "\n",
    "#if a folder not exist, create it\n",
    "import os\n",
    "\n",
    "\n"
   ]
  },
  {
   "cell_type": "code",
   "execution_count": null,
   "metadata": {},
   "outputs": [],
   "source": [
    "import json\n",
    "#export a dict to json file\n",
    "dict = {'a':1,'b':2}\n",
    "with open('test.json','w') as f:\n",
    "    #want the json file to be pretty\n",
    "    json.dump(dict,f,indent=4)"
   ]
  },
  {
   "cell_type": "code",
   "execution_count": 1,
   "metadata": {},
   "outputs": [
    {
     "name": "stdout",
     "output_type": "stream",
     "text": [
      "[('merge', 'AAA}')]\n",
      "[('merge', 'BBB')]\n",
      "[('merge', '(CCCC or DDD) }')]\n"
     ]
    }
   ],
   "source": [
    "import re\n",
    "\n",
    "lines = [\n",
    "    \" merge AAA}\",\n",
    "    'merge BBB',\n",
    "    'merge (CCCC or DDD) }'\n",
    "]\n",
    "\n",
    "#I want to match all no matter if } is included\n",
    "pattern = re.compile(r'\\s*(\\w+)\\s+(.*)\\s*}')\n",
    "pattern = re.compile(r'\\s*(\\w+)\\s+(.*)')\n",
    "pattern = re.compile(r'\\s*(\\w+)\\s+(.*)(?:\\s*}|$)')\n",
    "\n",
    "for line in lines:\n",
    "    match = pattern.match(line)\n",
    "    if match:\n",
    "        print(pattern.findall(line))"
   ]
  },
  {
   "cell_type": "code",
   "execution_count": 24,
   "metadata": {},
   "outputs": [
    {
     "data": {
      "text/plain": [
       "[]"
      ]
     },
     "execution_count": 24,
     "metadata": {},
     "output_type": "execute_result"
    }
   ],
   "source": [
    "a = [1,2,3]\n",
    "a[:0]"
   ]
  },
  {
   "cell_type": "code",
   "execution_count": 5,
   "metadata": {},
   "outputs": [
    {
     "ename": "RecursionError",
     "evalue": "maximum recursion depth exceeded",
     "output_type": "error",
     "traceback": [
      "\u001b[0;31m---------------------------------------------------------------------------\u001b[0m",
      "\u001b[0;31mRecursionError\u001b[0m                            Traceback (most recent call last)",
      "Cell \u001b[0;32mIn [5], line 6\u001b[0m\n\u001b[1;32m      4\u001b[0m     func(x)\n\u001b[1;32m      5\u001b[0m     \u001b[38;5;28mprint\u001b[39m(\u001b[38;5;241m2\u001b[39m)\n\u001b[0;32m----> 6\u001b[0m \u001b[43mfunc\u001b[49m\u001b[43m(\u001b[49m\u001b[38;5;241;43m1\u001b[39;49m\u001b[43m)\u001b[49m\n",
      "Cell \u001b[0;32mIn [5], line 4\u001b[0m, in \u001b[0;36mfunc\u001b[0;34m(x)\u001b[0m\n\u001b[1;32m      3\u001b[0m \u001b[38;5;28;01mdef\u001b[39;00m \u001b[38;5;21mfunc\u001b[39m(x):\n\u001b[0;32m----> 4\u001b[0m     \u001b[43mfunc\u001b[49m\u001b[43m(\u001b[49m\u001b[43mx\u001b[49m\u001b[43m)\u001b[49m\n\u001b[1;32m      5\u001b[0m     \u001b[38;5;28mprint\u001b[39m(\u001b[38;5;241m2\u001b[39m)\n",
      "Cell \u001b[0;32mIn [5], line 4\u001b[0m, in \u001b[0;36mfunc\u001b[0;34m(x)\u001b[0m\n\u001b[1;32m      3\u001b[0m \u001b[38;5;28;01mdef\u001b[39;00m \u001b[38;5;21mfunc\u001b[39m(x):\n\u001b[0;32m----> 4\u001b[0m     \u001b[43mfunc\u001b[49m\u001b[43m(\u001b[49m\u001b[43mx\u001b[49m\u001b[43m)\u001b[49m\n\u001b[1;32m      5\u001b[0m     \u001b[38;5;28mprint\u001b[39m(\u001b[38;5;241m2\u001b[39m)\n",
      "    \u001b[0;31m[... skipping similar frames: func at line 4 (2970 times)]\u001b[0m\n",
      "Cell \u001b[0;32mIn [5], line 4\u001b[0m, in \u001b[0;36mfunc\u001b[0;34m(x)\u001b[0m\n\u001b[1;32m      3\u001b[0m \u001b[38;5;28;01mdef\u001b[39;00m \u001b[38;5;21mfunc\u001b[39m(x):\n\u001b[0;32m----> 4\u001b[0m     \u001b[43mfunc\u001b[49m\u001b[43m(\u001b[49m\u001b[43mx\u001b[49m\u001b[43m)\u001b[49m\n\u001b[1;32m      5\u001b[0m     \u001b[38;5;28mprint\u001b[39m(\u001b[38;5;241m2\u001b[39m)\n",
      "\u001b[0;31mRecursionError\u001b[0m: maximum recursion depth exceeded"
     ]
    }
   ],
   "source": [
    "def func(x):\n",
    "    print(1)\n",
    "def func(x):\n",
    "    func(x)\n",
    "    print(2)\n",
    "func(1)"
   ]
  },
  {
   "cell_type": "code",
   "execution_count": 6,
   "metadata": {},
   "outputs": [
    {
     "ename": "RecursionError",
     "evalue": "maximum recursion depth exceeded",
     "output_type": "error",
     "traceback": [
      "\u001b[0;31m---------------------------------------------------------------------------\u001b[0m",
      "\u001b[0;31mRecursionError\u001b[0m                            Traceback (most recent call last)",
      "Cell \u001b[0;32mIn [6], line 3\u001b[0m\n\u001b[1;32m      1\u001b[0m func \u001b[38;5;241m=\u001b[39m \u001b[38;5;28;01mlambda\u001b[39;00m x: \u001b[38;5;28;01mTrue\u001b[39;00m\n\u001b[1;32m      2\u001b[0m func \u001b[38;5;241m=\u001b[39m \u001b[38;5;28;01mlambda\u001b[39;00m x: \u001b[38;5;28;01mTrue\u001b[39;00m \u001b[38;5;28;01mif\u001b[39;00m func(x) \u001b[38;5;28;01melse\u001b[39;00m \u001b[38;5;28;01mFalse\u001b[39;00m\n\u001b[0;32m----> 3\u001b[0m \u001b[43mfunc\u001b[49m\u001b[43m(\u001b[49m\u001b[38;5;241;43m1\u001b[39;49m\u001b[43m)\u001b[49m\n",
      "Cell \u001b[0;32mIn [6], line 2\u001b[0m, in \u001b[0;36m<lambda>\u001b[0;34m(x)\u001b[0m\n\u001b[1;32m      1\u001b[0m func \u001b[38;5;241m=\u001b[39m \u001b[38;5;28;01mlambda\u001b[39;00m x: \u001b[38;5;28;01mTrue\u001b[39;00m\n\u001b[0;32m----> 2\u001b[0m func \u001b[38;5;241m=\u001b[39m \u001b[38;5;28;01mlambda\u001b[39;00m x: \u001b[38;5;28;01mTrue\u001b[39;00m \u001b[38;5;28;01mif\u001b[39;00m \u001b[43mfunc\u001b[49m\u001b[43m(\u001b[49m\u001b[43mx\u001b[49m\u001b[43m)\u001b[49m \u001b[38;5;28;01melse\u001b[39;00m \u001b[38;5;28;01mFalse\u001b[39;00m\n\u001b[1;32m      3\u001b[0m func(\u001b[38;5;241m1\u001b[39m)\n",
      "Cell \u001b[0;32mIn [6], line 2\u001b[0m, in \u001b[0;36m<lambda>\u001b[0;34m(x)\u001b[0m\n\u001b[1;32m      1\u001b[0m func \u001b[38;5;241m=\u001b[39m \u001b[38;5;28;01mlambda\u001b[39;00m x: \u001b[38;5;28;01mTrue\u001b[39;00m\n\u001b[0;32m----> 2\u001b[0m func \u001b[38;5;241m=\u001b[39m \u001b[38;5;28;01mlambda\u001b[39;00m x: \u001b[38;5;28;01mTrue\u001b[39;00m \u001b[38;5;28;01mif\u001b[39;00m \u001b[43mfunc\u001b[49m\u001b[43m(\u001b[49m\u001b[43mx\u001b[49m\u001b[43m)\u001b[49m \u001b[38;5;28;01melse\u001b[39;00m \u001b[38;5;28;01mFalse\u001b[39;00m\n\u001b[1;32m      3\u001b[0m func(\u001b[38;5;241m1\u001b[39m)\n",
      "    \u001b[0;31m[... skipping similar frames: <lambda> at line 2 (2970 times)]\u001b[0m\n",
      "Cell \u001b[0;32mIn [6], line 2\u001b[0m, in \u001b[0;36m<lambda>\u001b[0;34m(x)\u001b[0m\n\u001b[1;32m      1\u001b[0m func \u001b[38;5;241m=\u001b[39m \u001b[38;5;28;01mlambda\u001b[39;00m x: \u001b[38;5;28;01mTrue\u001b[39;00m\n\u001b[0;32m----> 2\u001b[0m func \u001b[38;5;241m=\u001b[39m \u001b[38;5;28;01mlambda\u001b[39;00m x: \u001b[38;5;28;01mTrue\u001b[39;00m \u001b[38;5;28;01mif\u001b[39;00m \u001b[43mfunc\u001b[49m\u001b[43m(\u001b[49m\u001b[43mx\u001b[49m\u001b[43m)\u001b[49m \u001b[38;5;28;01melse\u001b[39;00m \u001b[38;5;28;01mFalse\u001b[39;00m\n\u001b[1;32m      3\u001b[0m func(\u001b[38;5;241m1\u001b[39m)\n",
      "\u001b[0;31mRecursionError\u001b[0m: maximum recursion depth exceeded"
     ]
    }
   ],
   "source": [
    "func = lambda x: True\n",
    "func = lambda x: True if func(x) else False\n",
    "func(1)\n"
   ]
  },
  {
   "cell_type": "code",
   "execution_count": 8,
   "metadata": {},
   "outputs": [
    {
     "data": {
      "text/plain": [
       "[]"
      ]
     },
     "execution_count": 8,
     "metadata": {},
     "output_type": "execute_result"
    }
   ],
   "source": [
    "a  = [1,2,3]\n",
    "a[2:1]"
   ]
  },
  {
   "cell_type": "code",
   "execution_count": null,
   "metadata": {},
   "outputs": [],
   "source": [
    "import pathlib\n",
    "#if there is no folder, create it, if exist, remove it and create it\n",
    "def createFolder(folder):\n",
    "    folder = pathlib.Path(folder)\n",
    "    if folder.exists():\n",
    "        folder.rmdir()\n",
    "    folder.mkdir()"
   ]
  },
  {
   "cell_type": "code",
   "execution_count": 9,
   "metadata": {},
   "outputs": [
    {
     "data": {
      "text/plain": [
       "[]"
      ]
     },
     "execution_count": 9,
     "metadata": {},
     "output_type": "execute_result"
    }
   ],
   "source": [
    "a = [1,2,3]\n",
    "a[4:]"
   ]
  },
  {
   "cell_type": "code",
   "execution_count": null,
   "metadata": {},
   "outputs": [],
   "source": [
    "#give me a decorator example\n",
    "def decorator(func):\n",
    "    def wrapper(*args,**kwargs):\n",
    "        print('before')\n",
    "        func(*args,**kwargs)\n",
    "        print('after')\n",
    "    return wrapper\n",
    "\n",
    "@decorator\n",
    "def func(a):\n",
    "    print(a)\n",
    "\n"
   ]
  },
  {
   "cell_type": "code",
   "execution_count": 12,
   "metadata": {},
   "outputs": [
    {
     "ename": "TypeError",
     "evalue": "'NoneType' object is not callable",
     "output_type": "error",
     "traceback": [
      "\u001b[0;31m---------------------------------------------------------------------------\u001b[0m",
      "\u001b[0;31mTypeError\u001b[0m                                 Traceback (most recent call last)",
      "Cell \u001b[0;32mIn [12], line 27\u001b[0m\n\u001b[1;32m     23\u001b[0m \u001b[38;5;129m@DFS\u001b[39m\n\u001b[1;32m     24\u001b[0m \u001b[38;5;28;01mdef\u001b[39;00m \u001b[38;5;21mAddInList\u001b[39m(Node):\n\u001b[1;32m     25\u001b[0m     AllList\u001b[38;5;241m.\u001b[39mappend(Node)\n\u001b[0;32m---> 27\u001b[0m \u001b[43mAddInList\u001b[49m\u001b[43m(\u001b[49m\u001b[38;5;124;43m'\u001b[39;49m\u001b[38;5;124;43mA\u001b[39;49m\u001b[38;5;124;43m'\u001b[39;49m\u001b[43m)\u001b[49m\n",
      "\u001b[0;31mTypeError\u001b[0m: 'NoneType' object is not callable"
     ]
    }
   ],
   "source": [
    "CorrectNode = ['A','B','C','D']\n",
    "class Node():\n",
    "    def __init__(self,name,subNodes):\n",
    "        self.name = name\n",
    "        self.subNodes = subNodes\n",
    "\n",
    "NodeDict = {\n",
    "    'A':Node('A',['B','C']),\n",
    "    'B':Node('B',['C']),\n",
    "    'C':Node('C',[]),\n",
    "    'D':Node('D',['E','F']),\n",
    "}\n",
    "\n",
    "def DFS(DFS_op):\n",
    "    if Node not in CorrectNode:\n",
    "        return\n",
    "    DFS_op(Node)\n",
    "    for subNode in NodeDict[Node].subNodes:\n",
    "        DFS(subNode,ID)\n",
    "    return DFS\n",
    "\n",
    "AllList = []\n",
    "\n",
    "@DFS\n",
    "def AddInList(Node):\n",
    "    AllList.append(Node)\n",
    "\n",
    "AddInList('A')"
   ]
  },
  {
   "cell_type": "code",
   "execution_count": 4,
   "metadata": {},
   "outputs": [
    {
     "name": "stdout",
     "output_type": "stream",
     "text": [
      "apple       banana  cherry  date\n",
      "elderberry  fig     grape   honeydew\n",
      "kiwi        lemon   mango   nectarine\n",
      "orange      papaya  quince  raspberry\n"
     ]
    }
   ],
   "source": [
    "def print_4_column_matrix(strings):\n",
    "    # Determine the maximum width of the strings for each column\n",
    "    max_lengths = [0] * 4\n",
    "    for i, string in enumerate(strings):\n",
    "        column = i % 4\n",
    "        max_lengths[column] = max(max_lengths[column], len(string))\n",
    "\n",
    "    # Print the strings in a 4-column matrix\n",
    "    for i in range(0, len(strings), 4):\n",
    "        row = strings[i:i+4]\n",
    "        row_str = ''\n",
    "        for j, string in enumerate(row):\n",
    "            row_str += string.ljust(max_lengths[j]) + '  '\n",
    "        print(row_str.strip())\n",
    "\n",
    "# Example usage\n",
    "strings = [\n",
    "    \"apple\", \"banana\", \"cherry\", \"date\",\n",
    "    \"elderberry\", \"fig\", \"grape\", \"honeydew\",\n",
    "    \"kiwi\", \"lemon\", \"mango\", \"nectarine\",\n",
    "    \"orange\", \"papaya\", \"quince\", \"raspberry\"\n",
    "]\n",
    "\n",
    "print_4_column_matrix(strings)\n"
   ]
  },
  {
   "cell_type": "code",
   "execution_count": 6,
   "metadata": {},
   "outputs": [
    {
     "name": "stdout",
     "output_type": "stream",
     "text": [
      "False\n"
     ]
    }
   ],
   "source": [
    "import re\n",
    "\n",
    "pattern = re.compile(r'\\w+')\n",
    "A= ['chd','>','cdcd']\n",
    "B = ['chd','cdcdf','cdcd']\n",
    "\n",
    "print(all([pattern.match(a)for a in A]))"
   ]
  },
  {
   "cell_type": "code",
   "execution_count": 9,
   "metadata": {},
   "outputs": [
    {
     "data": {
      "text/plain": [
       "['>']"
      ]
     },
     "execution_count": 9,
     "metadata": {},
     "output_type": "execute_result"
    }
   ],
   "source": [
    "b,e = 1,2\n",
    "A[b:e]"
   ]
  },
  {
   "cell_type": "code",
   "execution_count": 11,
   "metadata": {},
   "outputs": [
    {
     "name": "stdout",
     "output_type": "stream",
     "text": [
      "this is a test\n"
     ]
    }
   ],
   "source": [
    "string = 'this is a test'\n",
    "\n",
    "def func(string):\n",
    "    string+='!'\n",
    "    \n",
    "func(string)\n",
    "print(string)"
   ]
  },
  {
   "cell_type": "code",
   "execution_count": 14,
   "metadata": {},
   "outputs": [
    {
     "data": {
      "text/plain": [
       "['Dmacro', 'thisis', 'a', 'long']"
      ]
     },
     "execution_count": 14,
     "metadata": {},
     "output_type": "execute_result"
    }
   ],
   "source": [
    "import re\n",
    "\n",
    "testcase = 'Dmacro thisi1s a long 200*78'\n",
    "#I only want the word but not the number\n",
    "pattern = re.compile(r'\\b\\w+\\b')\n"
   ]
  },
  {
   "cell_type": "code",
   "execution_count": 3,
   "metadata": {},
   "outputs": [
    {
     "name": "stdout",
     "output_type": "stream",
     "text": [
      "CASE is this -CASE) yes (case)\n"
     ]
    }
   ],
   "source": [
    "import re\n",
    "\n",
    "test_case = 'case is this -case) yes (case)'\n",
    "#I only want to replace the second case\n",
    "pattern = re.compile(r'\\bcase\\b')\n",
    "test_case = pattern.sub('CASE',test_case,1)\n",
    "test_case = pattern.sub('CASE',test_case,1)\n",
    "print(test_case)"
   ]
  },
  {
   "cell_type": "code",
   "execution_count": 13,
   "metadata": {},
   "outputs": [
    {
     "name": "stdout",
     "output_type": "stream",
     "text": [
      "['Cmacro thisi1s a long  200*78  cr?v 0.6']\n"
     ]
    }
   ],
   "source": [
    "import re\n",
    "\n",
    "testcase = \"this Cmacro thisi1s a long  200*78  cr?v 0.6     0.6 Don't What this\"\n",
    "#I want every thing except space\n",
    "pattern = re.compile(r'Cmacro'+6*r'\\s+\\S+')\n",
    "print(pattern.findall(testcase))\n"
   ]
  },
  {
   "cell_type": "code",
   "execution_count": 15,
   "metadata": {},
   "outputs": [],
   "source": [
    "import re\n",
    "\n",
    "EmptyPattern = re.compile(r'^\\s*$')\n",
    "testcase = '  '\n",
    "testcase = ' 1'\n",
    "\n",
    "if EmptyPattern.match(testcase):\n",
    "    print('empty')\n",
    "    \n"
   ]
  },
  {
   "cell_type": "code",
   "execution_count": 17,
   "metadata": {},
   "outputs": [
    {
     "name": "stdout",
     "output_type": "stream",
     "text": [
      "['this is A test']\n",
      "['this is B test}']\n"
     ]
    }
   ],
   "source": [
    "import re\n",
    "test1 = 'this is A test'\n",
    "test2 = 'this is B test}'\n",
    "#no matter if } is included, pattern should match\n",
    "pattern = re.compile(r'this is\\s+\\S+(?:\\}|$)')\n",
    "print(pattern.findall(test1))\n",
    "print(pattern.findall(test2))"
   ]
  },
  {
   "cell_type": "code",
   "execution_count": null,
   "metadata": {},
   "outputs": [],
   "source": [
    "testcase1 = 'CMACRO word word_4 word?6word 0.843 <'"
   ]
  },
  {
   "cell_type": "code",
   "execution_count": null,
   "metadata": {},
   "outputs": [],
   "source": [
    "#re use re.IGNORECASE and re.DOTALL\n",
    "pattern = re.compile(r'(\\w+)',re.IGNORECASE|re.DOTALL)"
   ]
  },
  {
   "cell_type": "code",
   "execution_count": null,
   "metadata": {},
   "outputs": [],
   "source": [
    "#flags = re.M is to match the start and end of each line\n",
    "pattern = re.compile(r'(\\w+)',re.M)\n",
    "line = 'a\\nb\\nc'\n",
    "pattern.findall(line)\n",
    "\n",
    "#another example to use re.M\n",
    "pattern = re.compile(r'^\\w+',re.M) \n",
    "line = 'a\\nb\\nc'\n",
    "pattern.findall(line)\n",
    "\n"
   ]
  },
  {
   "cell_type": "code",
   "execution_count": 8,
   "metadata": {},
   "outputs": [
    {
     "data": {
      "text/plain": [
       "['this is {layer} {device} and compare it with {layer}__{purp})']"
      ]
     },
     "execution_count": 8,
     "metadata": {},
     "output_type": "execute_result"
    }
   ],
   "source": [
    "import re\n",
    "line1 = 'this is li1 NCLL and compare it with l1__drw)'\n",
    "line2 = 'this is {layer} {device} and compare it with {layer}__{purp})'\n",
    "split_pattern = re.compile(r'\\b\\w+\\b')\n",
    "split_pattern.split(line2)"
   ]
  },
  {
   "cell_type": "code",
   "execution_count": null,
   "metadata": {},
   "outputs": [],
   "source": []
  }
 ],
 "metadata": {
  "kernelspec": {
   "display_name": "python38",
   "language": "python",
   "name": "python3"
  },
  "language_info": {
   "codemirror_mode": {
    "name": "ipython",
    "version": 3
   },
   "file_extension": ".py",
   "mimetype": "text/x-python",
   "name": "python",
   "nbconvert_exporter": "python",
   "pygments_lexer": "ipython3",
   "version": "3.9.6"
  }
 },
 "nbformat": 4,
 "nbformat_minor": 2
}
