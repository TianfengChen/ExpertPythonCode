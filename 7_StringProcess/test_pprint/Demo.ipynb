{
 "cells": [
  {
   "cell_type": "code",
   "execution_count": 1,
   "metadata": {},
   "outputs": [
    {
     "name": "stdout",
     "output_type": "stream",
     "text": [
      "{' ': 13,\n",
      " ',': 1,\n",
      " '.': 1,\n",
      " 'A': 1,\n",
      " 'I': 1,\n",
      " 'a': 4,\n",
      " 'b': 1,\n",
      " 'c': 3,\n",
      " 'd': 3,\n",
      " 'e': 5,\n",
      " 'g': 2,\n",
      " 'h': 3,\n",
      " 'i': 6,\n",
      " 'k': 2,\n",
      " 'l': 3,\n",
      " 'n': 4,\n",
      " 'o': 2,\n",
      " 'p': 1,\n",
      " 'r': 5,\n",
      " 's': 3,\n",
      " 't': 6,\n",
      " 'w': 2,\n",
      " 'y': 1}\n"
     ]
    }
   ],
   "source": [
    "import pprint\n",
    "#pprint is a module that provides a capability to \"pretty-print\" arbitrary Python data structures in a format that can be used as input to the interpreter.\n",
    "\n",
    "message = 'It was a bright cold day in April, and the clocks were striking thirteen.'\n",
    "count = {}\n",
    "\n",
    "for character in message:\n",
    "    count.setdefault(character, 0)\n",
    "    count[character] = count[character] + 1\n",
    "    \n",
    "pprint.pprint(count)\n",
    "#pprint.pprint() function will \"pretty print\" the dictionary's values in a more readable format."
   ]
  },
  {
   "cell_type": "code",
   "execution_count": 5,
   "metadata": {},
   "outputs": [
    {
     "name": "stdout",
     "output_type": "stream",
     "text": [
      "[    'cat1',\n",
      "     'cat2',\n",
      "     'cat3',\n",
      "     'cat4',\n",
      "     'cat5',\n",
      "     'cat6',\n",
      "     'cat7',\n",
      "     'cat8',\n",
      "     'cat9',\n",
      "     'cat10',\n",
      "     'cat11',\n",
      "     'cat12']\n"
     ]
    }
   ],
   "source": [
    "#other example\n",
    "#print list in 4 columns\n",
    "cats =['cat1', 'cat2', 'cat3', 'cat4', 'cat5', 'cat6', 'cat7', 'cat8', 'cat9', 'cat10', 'cat11', 'cat12']\n",
    "pprint.pprint(cats, indent=5)\n"
   ]
  },
  {
   "cell_type": "code",
   "execution_count": 7,
   "metadata": {},
   "outputs": [
    {
     "name": "stdout",
     "output_type": "stream",
     "text": [
      "{'Fat-tail': {'age': 5, 'color': 'gray', 'name': 'Fat-tail'},\n",
      " 'Pooka': {'age': 5, 'color': 'black', 'name': 'Pooka'},\n",
      " 'Zophie': {'age': 7,\n",
      "            'color': 'gray',\n",
      "            'name': {'new': 'Zophie2', 'original': 'Zophie'}}}\n"
     ]
    }
   ],
   "source": [
    "#print herirachy dictionary\n",
    "nameDict = {'original': 'Zophie', 'new': 'Zophie2'}\n",
    "stuff1 = {'name': nameDict, 'age': 7, 'color': 'gray'}\n",
    "stuff2 = {'name': 'Pooka', 'age': 5, 'color': 'black'}\n",
    "stuff3 = {'name': 'Fat-tail', 'age': 5, 'color': 'gray'}\n",
    "\n",
    "allCats = {}\n",
    "allCats['Zophie'] = stuff1\n",
    "allCats['Pooka'] = stuff2\n",
    "allCats['Fat-tail'] = stuff3\n",
    "\n",
    "pprint.pprint(allCats)\n"
   ]
  },
  {
   "cell_type": "code",
   "execution_count": null,
   "metadata": {},
   "outputs": [],
   "source": []
  }
 ],
 "metadata": {
  "kernelspec": {
   "display_name": "python38",
   "language": "python",
   "name": "python3"
  },
  "language_info": {
   "codemirror_mode": {
    "name": "ipython",
    "version": 3
   },
   "file_extension": ".py",
   "mimetype": "text/x-python",
   "name": "python",
   "nbconvert_exporter": "python",
   "pygments_lexer": "ipython3",
   "version": "3.8.13"
  }
 },
 "nbformat": 4,
 "nbformat_minor": 2
}
