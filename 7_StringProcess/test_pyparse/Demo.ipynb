{
 "cells": [
  {
   "cell_type": "code",
   "execution_count": 1,
   "metadata": {},
   "outputs": [
    {
     "ename": "ParseException",
     "evalue": "Expected W:(A-Za-z, 0-9A-Z_a-z), found '#'  (at char 1), (line:2, col:1)",
     "output_type": "error",
     "traceback": [
      "\u001b[0;31m---------------------------------------------------------------------------\u001b[0m",
      "\u001b[0;31mParseException\u001b[0m                            Traceback (most recent call last)",
      "Cell \u001b[0;32mIn [1], line 25\u001b[0m\n\u001b[1;32m     16\u001b[0m config_text \u001b[38;5;241m=\u001b[39m \u001b[38;5;124m\"\"\"\u001b[39m\n\u001b[1;32m     17\u001b[0m \u001b[38;5;124m# This is a comment\u001b[39m\n\u001b[1;32m     18\u001b[0m \u001b[38;5;124musername = alice\u001b[39m\n\u001b[0;32m   (...)\u001b[0m\n\u001b[1;32m     21\u001b[0m \u001b[38;5;124mport = 5432\u001b[39m\n\u001b[1;32m     22\u001b[0m \u001b[38;5;124m\"\"\"\u001b[39m\n\u001b[1;32m     24\u001b[0m \u001b[38;5;66;03m# Parse the configuration text\u001b[39;00m\n\u001b[0;32m---> 25\u001b[0m config \u001b[38;5;241m=\u001b[39m config_grammar\u001b[38;5;241m.\u001b[39mparseString(config_text)\n\u001b[1;32m     27\u001b[0m \u001b[38;5;66;03m# Convert to dictionary\u001b[39;00m\n\u001b[1;32m     28\u001b[0m config_dict \u001b[38;5;241m=\u001b[39m \u001b[38;5;28mdict\u001b[39m(config\u001b[38;5;241m.\u001b[39masList())\n",
      "File \u001b[0;32m/opt/anaconda3/envs/python38/lib/python3.8/site-packages/pyparsing/core.py:1141\u001b[0m, in \u001b[0;36mParserElement.parse_string\u001b[0;34m(self, instring, parse_all, parseAll)\u001b[0m\n\u001b[1;32m   1138\u001b[0m         \u001b[38;5;28;01mraise\u001b[39;00m\n\u001b[1;32m   1139\u001b[0m     \u001b[38;5;28;01melse\u001b[39;00m:\n\u001b[1;32m   1140\u001b[0m         \u001b[38;5;66;03m# catch and re-raise exception from here, clearing out pyparsing internal stack trace\u001b[39;00m\n\u001b[0;32m-> 1141\u001b[0m         \u001b[38;5;28;01mraise\u001b[39;00m exc\u001b[38;5;241m.\u001b[39mwith_traceback(\u001b[38;5;28;01mNone\u001b[39;00m)\n\u001b[1;32m   1142\u001b[0m \u001b[38;5;28;01melse\u001b[39;00m:\n\u001b[1;32m   1143\u001b[0m     \u001b[38;5;28;01mreturn\u001b[39;00m tokens\n",
      "\u001b[0;31mParseException\u001b[0m: Expected W:(A-Za-z, 0-9A-Z_a-z), found '#'  (at char 1), (line:2, col:1)"
     ]
    }
   ],
   "source": [
    "from pyparsing import Word, alphas, nums, alphanums, Literal, Group, Dict, OneOrMore, pythonStyleComment\n",
    "\n",
    "# Define the grammar\n",
    "identifier = Word(alphas, alphanums + \"_\")\n",
    "equals = Literal(\"=\")\n",
    "value = Word(alphanums + \"_-.\")\n",
    "comment = pythonStyleComment\n",
    "\n",
    "# Key-value pair\n",
    "key_value_pair = Group(identifier + equals + value)\n",
    "\n",
    "# Configuration file grammar\n",
    "config_grammar = Dict(OneOrMore(key_value_pair) + comment)\n",
    "\n",
    "# Sample configuration text\n",
    "config_text = \"\"\"\n",
    "# This is a comment\n",
    "username = alice\n",
    "password = secret\n",
    "host = localhost\n",
    "port = 5432\n",
    "\"\"\"\n",
    "\n",
    "# Parse the configuration text\n",
    "config = config_grammar.parseString(config_text)\n",
    "\n",
    "# Convert to dictionary\n",
    "config_dict = dict(config.asList())\n",
    "\n",
    "# Print the resulting dictionary\n",
    "print(config_dict)\n"
   ]
  },
  {
   "cell_type": "code",
   "execution_count": null,
   "metadata": {},
   "outputs": [],
   "source": []
  }
 ],
 "metadata": {
  "kernelspec": {
   "display_name": "python38",
   "language": "python",
   "name": "python3"
  },
  "language_info": {
   "codemirror_mode": {
    "name": "ipython",
    "version": 3
   },
   "file_extension": ".py",
   "mimetype": "text/x-python",
   "name": "python",
   "nbconvert_exporter": "python",
   "pygments_lexer": "ipython3",
   "version": "3.8.13"
  }
 },
 "nbformat": 4,
 "nbformat_minor": 2
}
