{
 "cells": [
  {
   "cell_type": "code",
   "execution_count": 4,
   "metadata": {},
   "outputs": [
    {
     "name": "stdout",
     "output_type": "stream",
     "text": [
      "['a1', 'a2', 'a3', 'a10', 'a20']\n",
      "['a1', 'a10', 'a2', 'a20', 'a3']\n"
     ]
    }
   ],
   "source": [
    "import natsort\n",
    "#natsort is a module that sorts a list of strings in a natural order\n",
    "\n",
    "#example 1\n",
    "list1 = ['a1', 'a10', 'a2', 'a20', 'a3']\n",
    "print(natsort.natsorted(list1))\n",
    "print(sorted(list1))\n"
   ]
  },
  {
   "cell_type": "code",
   "execution_count": null,
   "metadata": {},
   "outputs": [],
   "source": []
  }
 ],
 "metadata": {
  "kernelspec": {
   "display_name": "python38",
   "language": "python",
   "name": "python3"
  },
  "language_info": {
   "codemirror_mode": {
    "name": "ipython",
    "version": 3
   },
   "file_extension": ".py",
   "mimetype": "text/x-python",
   "name": "python",
   "nbconvert_exporter": "python",
   "pygments_lexer": "ipython3",
   "version": "3.8.13"
  }
 },
 "nbformat": 4,
 "nbformat_minor": 2
}
