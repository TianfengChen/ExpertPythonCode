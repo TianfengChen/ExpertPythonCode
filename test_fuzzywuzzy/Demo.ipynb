{
 "cells": [
  {
   "cell_type": "code",
   "execution_count": 3,
   "metadata": {},
   "outputs": [
    {
     "name": "stdout",
     "output_type": "stream",
     "text": [
      "97\n",
      "100\n",
      "100\n",
      "100\n",
      "[('New York Jets', 100), ('New York Giants', 79)]\n",
      "('Dallas Cowboys', 90)\n",
      "[('Dallas Cowboys', 90), ('Atlanta Falcons', 50), ('New York Jets', 20), ('New York Giants', 18)]\n",
      "[('Dallas Cowboys', 90)]\n",
      "[('Dallas Cowboys', 100), ('Atlanta Falcons', 55), ('New York Jets', 14), ('New York Giants', 14)]\n",
      "[('Dallas Cowboys', 67), ('Atlanta Falcons', 27), ('New York Jets', 10), ('New York Giants', 9)]\n"
     ]
    }
   ],
   "source": [
    "import fuzzywuzzy\n",
    "from fuzzywuzzy import fuzz\n",
    "from fuzzywuzzy import process\n",
    "\n",
    "#fuzzywuzzy is a library that uses Levenshtein distance to calculate the differences between two strings\n",
    "#it is useful for comparing strings that are similar but not exactly the same\n",
    "#can it understand the context of the strings?\n",
    "#answer: no, it can't\n",
    "#can it understand the meaning of the strings?\n",
    "#answer: no, it can't\n",
    "#NLP? no\n",
    "\n",
    "#simple ratio\n",
    "print(fuzz.ratio(\"this is a test\", \"this is a test!\"))\n",
    "#partial ratio\n",
    "print(fuzz.partial_ratio(\"this is a test\", \"this is a test!\"))\n",
    "#token sort ratio\n",
    "print(fuzz.token_sort_ratio(\"fuzzy wuzzy was a bear\", \"wuzzy fuzzy was a bear\"))\n",
    "#token set ratio\n",
    "print(fuzz.token_set_ratio(\"fuzzy was a bear\", \"fuzzy fuzzy was a bear\"))\n",
    "\n",
    "#process.extract\n",
    "choices = [\"Atlanta Falcons\", \"New York Jets\", \"New York Giants\", \"Dallas Cowboys\"]\n",
    "print(process.extract(\"new york jets\", choices, limit=2))\n",
    "print(process.extractOne(\"cowboys\", choices))\n",
    "\n",
    "#process.extractBests\n",
    "print(process.extractBests(\"cowboys\", choices))\n",
    "print(process.extractBests(\"cowboys\", choices, score_cutoff=70))\n",
    "print(process.extractBests(\"cowboys\", choices, scorer=fuzz.partial_ratio))\n",
    "print(process.extractBests(\"cowboys\", choices, scorer=fuzz.token_sort_ratio))\n"
   ]
  },
  {
   "cell_type": "code",
   "execution_count": null,
   "metadata": {},
   "outputs": [],
   "source": []
  }
 ],
 "metadata": {
  "kernelspec": {
   "display_name": "python38",
   "language": "python",
   "name": "python3"
  },
  "language_info": {
   "codemirror_mode": {
    "name": "ipython",
    "version": 3
   },
   "file_extension": ".py",
   "mimetype": "text/x-python",
   "name": "python",
   "nbconvert_exporter": "python",
   "pygments_lexer": "ipython3",
   "version": "3.8.13"
  }
 },
 "nbformat": 4,
 "nbformat_minor": 2
}
