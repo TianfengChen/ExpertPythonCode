{
 "cells": [
  {
   "cell_type": "code",
   "execution_count": 4,
   "metadata": {},
   "outputs": [
    {
     "name": "stdout",
     "output_type": "stream",
     "text": [
      "A\n",
      "B\n",
      "a\n",
      "this is a test\n",
      "b\n",
      "this is a test\n",
      "c\n",
      "this is a test\n",
      "d\n",
      "this is a test\n"
     ]
    }
   ],
   "source": [
    "#add color to a word in a sentence in xlsx file\n",
    "import openpyxl\n",
    "from openpyxl.styles import Font\n",
    "import sys\n",
    "import os\n",
    "import pandas as pd\n",
    "\n",
    "def color_word_in_sentence(file, sheet, word, color):\n",
    "    wb = openpyxl.load_workbook(file)\n",
    "    sheet = wb[sheet]\n",
    "    font = Font(color=color)\n",
    "    for row in range(1, sheet.max_row+1):\n",
    "        for col in range(1, sheet.max_column+1):\n",
    "            print(sheet.cell(row, col).value)\n",
    "\n",
    "def generateColor(n):\n",
    "    #generate n color for Font input\n",
    "    import random\n",
    "    color = []\n",
    "    for i in range(n):\n",
    "        color.append('%06X' % random.randint(0, 0xFFFFFF))\n",
    "    return color\n",
    "\n",
    "if __name__ == '__main__':\n",
    "    #build a new xlsx file\n",
    "    file = 'color_word.xlsx'\n",
    "    df = {'A':['a','b','c','d'],\n",
    "          'B':['this is a test','this is a test','this is a test','this is a test']}\n",
    "    df = pd.DataFrame(df)\n",
    "    df.to_excel(file, index=False)\n",
    "    #color the word 'test' in the sentence\n",
    "    color_word_in_sentence(file, 'Sheet1', 'test', 'FF0000')"
   ]
  },
  {
   "cell_type": "code",
   "execution_count": 3,
   "metadata": {},
   "outputs": [],
   "source": [
    "# I only want to color the word 'test' in the sentence, but the whole sentence is colored. How to fix it?\n",
    "\n",
    "def color_word_in_sentence(file, sheet, word, color):\n",
    "    wb = openpyxl.load_workbook(file)\n",
    "    sheet = wb[sheet]\n",
    "    font = Font(color=color)\n",
    "    for row in range(1, sheet.max_row+1):\n",
    "        for col in range(1, sheet.max_column+1):\n",
    "            if sheet.cell(row, col).value == None:\n",
    "                continue\n",
    "            if word in sheet.cell(row, col).value:\n",
    "                sentence = sheet.cell(row, col).value\n",
    "                sentence = sentence.split(' ')\n",
    "                for i in range(len(sentence)):\n",
    "                    if word in sentence[i]:\n",
    "                        #sheet.cell(row, col).font = font\n",
    "                        #colort the word\n",
    "                        \n",
    "    wb.save(file)\n",
    "\n",
    "if __name__ == '__main__':\n",
    "    #build a new xlsx file\n",
    "    file = 'color_word.xlsx'\n",
    "    df = {'A':['a','b','c','d'],\n",
    "          'B':['this is a test','this is a test','this is a test','this is a test']}\n",
    "    df = pd.DataFrame(df)\n",
    "    df.to_excel(file, index=False)\n",
    "    #color the word 'test' in the sentence\n",
    "    color_word_in_sentence(file, 'Sheet1', 'test', 'FF0000')"
   ]
  },
  {
   "cell_type": "code",
   "execution_count": null,
   "metadata": {},
   "outputs": [],
   "source": [
    "#change the background color of excel cell\n",
    "def color_word_in_sentence(file, sheet, word, color):\n",
    "    wb = openpyxl.load_workbook(file)\n",
    "    sheet = wb[sheet]\n",
    "    for row in range(1, sheet.max_row+1):\n",
    "        for col in range(1, sheet.max_column+1):\n",
    "            if sheet.cell(row, col).value == None:\n",
    "                continue\n",
    "            if word in sheet.cell(row, col).value:\n",
    "                sentence = sheet.cell(row, col).value\n",
    "                sentence = sentence.split(' ')\n",
    "                for i in range(len(sentence)):\n",
    "                    if word in sentence[i]:\n",
    "                        sheet.cell(row, col).fill = openpyxl.styles.PatternFill(start_color=color, end_color=color, fill_type='solid')\n",
    "    wb.save(file)"
   ]
  }
 ],
 "metadata": {
  "kernelspec": {
   "display_name": "python38",
   "language": "python",
   "name": "python3"
  },
  "language_info": {
   "codemirror_mode": {
    "name": "ipython",
    "version": 3
   },
   "file_extension": ".py",
   "mimetype": "text/x-python",
   "name": "python",
   "nbconvert_exporter": "python",
   "pygments_lexer": "ipython3",
   "version": "3.8.13"
  }
 },
 "nbformat": 4,
 "nbformat_minor": 2
}
