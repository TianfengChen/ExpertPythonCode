{
 "cells": [
  {
   "cell_type": "code",
   "execution_count": 4,
   "metadata": {},
   "outputs": [
    {
     "name": "stdout",
     "output_type": "stream",
     "text": [
      "[(1, 2, 3), (1, 3, 2), (2, 1, 3), (2, 3, 1), (3, 1, 2), (3, 2, 1)]\n",
      "[(1, 2), (1, 3), (1, 4), (2, 3), (2, 4), (3, 4)]\n"
     ]
    }
   ],
   "source": [
    "import itertools\n",
    "#itertools is a module that provides various functions that work on iterators to produce complex iterators.\n",
    "from itertools import permutations\n",
    "from itertools import combinations\n",
    "\n",
    "#1. Write a Python program to create all possible permutations/combinations from a given collection of distinct numbers.\n",
    "\n",
    "def permute(nums):\n",
    "    return list(permutations(nums))\n",
    "\n",
    "print(permute([1,2,3]))\n",
    "\n",
    "def comb(nums):\n",
    "    return list(combinations(nums, 2))\n",
    "\n",
    "print(comb([1,2,3,4]))"
   ]
  },
  {
   "cell_type": "code",
   "execution_count": null,
   "metadata": {},
   "outputs": [],
   "source": []
  }
 ],
 "metadata": {
  "kernelspec": {
   "display_name": "Python 3",
   "language": "python",
   "name": "python3"
  },
  "language_info": {
   "codemirror_mode": {
    "name": "ipython",
    "version": 3
   },
   "file_extension": ".py",
   "mimetype": "text/x-python",
   "name": "python",
   "nbconvert_exporter": "python",
   "pygments_lexer": "ipython3",
   "version": "3.9.6"
  }
 },
 "nbformat": 4,
 "nbformat_minor": 2
}
