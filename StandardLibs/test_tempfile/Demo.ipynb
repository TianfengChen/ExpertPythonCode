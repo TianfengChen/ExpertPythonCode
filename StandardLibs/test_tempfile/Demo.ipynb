{
 "cells": [
  {
   "cell_type": "code",
   "execution_count": 11,
   "metadata": {},
   "outputs": [
    {
     "name": "stdout",
     "output_type": "stream",
     "text": [
      "b'Hello, world'\n",
      "File: /var/folders/gh/tvb2tx1j6ws_4lk959js7zn00000gn/T/tmp88oxz2f4\n",
      "b'Hello, world'\n",
      "Dir: /var/folders/gh/tvb2tx1j6ws_4lk959js7zn00000gn/T/tmp5mlslsn7\n",
      "Contents: ['file']\n",
      "File: /var/folders/gh/tvb2tx1j6ws_4lk959js7zn00000gn/T/tmpklg5bb81\n",
      "Hello, world\n",
      "File: /tmp/temp9b91_mks.txt\n",
      "Dir: /tmp/tempgm3i2rkqdir\n"
     ]
    }
   ],
   "source": [
    "import tempfile\n",
    "\n",
    "# Create a temporary file and write some data to it\n",
    "with tempfile.TemporaryFile() as f:\n",
    "    f.write(b'Hello, world')\n",
    "    f.seek(0)\n",
    "    print(f.read())\n",
    "\n",
    "# Temporary files are removed as soon as they are closed\n",
    "with tempfile.NamedTemporaryFile() as f:\n",
    "    print('File:', f.name)\n",
    "    f.write(b'Hello, world')\n",
    "    f.seek(0)\n",
    "    print(f.read())\n",
    "    \n",
    "# Temporary directories are removed as soon as they are closed\n",
    "with tempfile.TemporaryDirectory() as dirname:\n",
    "    print('Dir:', dirname)\n",
    "    with open(dirname + '/file', 'w') as f:\n",
    "        f.write('file contents')\n",
    "    import os\n",
    "    print('Contents:', os.listdir(dirname))\n",
    "\n",
    "\n",
    "f = tempfile.NamedTemporaryFile()\n",
    "print('File:', f.name)\n",
    "#f.write(b'Hello, world')#I don't want to write binary data\n",
    "#instead I want to write text data\n",
    "f.write('Hello, world'.encode('utf-8'))\n",
    "with open(f.name, 'r') as f:\n",
    "    print(f.read())\n",
    "f.close()\n",
    "\n",
    "\n",
    "# You can control the location of temporary files and directories\n",
    "with tempfile.NamedTemporaryFile(prefix='temp', suffix='.txt', dir='/tmp') as f:\n",
    "    print('File:', f.name)\n",
    "    \n",
    "with tempfile.TemporaryDirectory(prefix='temp', suffix='dir', dir='/tmp') as dirname:\n",
    "    print('Dir:', dirname)\n",
    "\n"
   ]
  },
  {
   "cell_type": "code",
   "execution_count": 15,
   "metadata": {},
   "outputs": [
    {
     "name": "stdout",
     "output_type": "stream",
     "text": [
      "File: /var/folders/gh/tvb2tx1j6ws_4lk959js7zn00000gn/T/tmpe8lwgkig_JSON_file/dict1.json\n",
      "{'A': 'a', 'B': 'b', 'C': 'c'}\n"
     ]
    }
   ],
   "source": [
    "#I want to establish a directory and file name for the temporary file\n",
    "import os\n",
    "import json\n",
    "import tempfile\n",
    "import shutil\n",
    "\n",
    "# Create a temporary directory\n",
    "dirname = tempfile.mkdtemp('_JSON_file')\n",
    "#create a temporary file\n",
    "filename = os.path.join(dirname, 'dict1.json')\n",
    "# Write to the file\n",
    "dictABC = {'A':'a', 'B':'b', 'C':'c'}\n",
    "with open(filename, 'w') as f:\n",
    "    print('File:', filename)\n",
    "    json.dump(dictABC, f)\n",
    "# Read the\n",
    "with open(filename, 'r') as f:\n",
    "    print(json.load(f))\n",
    "# Clean up the directory yourself\n",
    "shutil.rmtree(dirname)"
   ]
  },
  {
   "cell_type": "code",
   "execution_count": null,
   "metadata": {},
   "outputs": [],
   "source": []
  }
 ],
 "metadata": {
  "kernelspec": {
   "display_name": "Python 3",
   "language": "python",
   "name": "python3"
  },
  "language_info": {
   "codemirror_mode": {
    "name": "ipython",
    "version": 3
   },
   "file_extension": ".py",
   "mimetype": "text/x-python",
   "name": "python",
   "nbconvert_exporter": "python",
   "pygments_lexer": "ipython3",
   "version": "3.8.13"
  }
 },
 "nbformat": 4,
 "nbformat_minor": 2
}
