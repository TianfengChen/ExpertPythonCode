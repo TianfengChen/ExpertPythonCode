{
 "cells": [
  {
   "cell_type": "code",
   "execution_count": 1,
   "metadata": {},
   "outputs": [],
   "source": [
    "#compare pandas with SQL code\n",
    "import pandas as pd\n",
    "import numpy as np\n",
    "import sqlite3\n",
    "\n",
    "# Create a DataFrame\n",
    "df = pd.DataFrame({'A': [1, 2, 3, 4],\n",
    "                     'B': ['a', 'b', 'c', 'd']})\n",
    "\n",
    "# Create a SQL connection to our SQLite database\n",
    "con = sqlite3.connect(\"mydata.db\")"
   ]
  },
  {
   "cell_type": "code",
   "execution_count": null,
   "metadata": {},
   "outputs": [],
   "source": [
    "#compare pandas with SQL code\n",
    "\n",
    "# Load the data into the database\n",
    "df.to_sql(\"mydata\", con)\n",
    "\n",
    "# Read from the database\n",
    "df_sql = pd.read_sql_query(\"SELECT * FROM mydata\", con)\n"
   ]
  },
  {
   "cell_type": "code",
   "execution_count": null,
   "metadata": {},
   "outputs": [],
   "source": [
    "#change the specific index/col data in the DataFrame and database\n",
    "#pd\n",
    "df.loc[0, 'A'] = 10\n",
    "#sql open the database and update the data and close the database\n",
    "command = '''\n",
    "SELECT * FROM mydata\n",
    "    UPDATE mydata\n",
    "        SET A = 10\n",
    "        WHERE index = 0\n",
    "'''\n",
    "con.execute(command)"
   ]
  },
  {
   "cell_type": "code",
   "execution_count": null,
   "metadata": {},
   "outputs": [],
   "source": [
    "#drop nan values\n",
    "df.dropna()\n",
    "command = '''\n",
    "SELECT * FROM mydata\n",
    "    WHERE A IS NOT NULL\n",
    "'''\n",
    "df_sql = pd.read_sql_query(command, con)"
   ]
  },
  {
   "cell_type": "code",
   "execution_count": null,
   "metadata": {},
   "outputs": [],
   "source": [
    "#drop duplicates\n",
    "df.drop_duplicates()\n",
    "command = '''\n",
    "SELECT * FROM mydata\n",
    "    WHERE A IS NOT NULL\n",
    "'''\n",
    "df_sql = pd.read_sql_query(command, con)"
   ]
  },
  {
   "cell_type": "code",
   "execution_count": null,
   "metadata": {},
   "outputs": [],
   "source": [
    "#select specific rows satisfying the condition\n",
    "df[df['A'] > 2]\n",
    "command = '''\n",
    "SELECT * FROM mydata\n",
    "    WHERE A > 2\n",
    "'''\n",
    "df_sql = pd.read_sql_query(command, con)"
   ]
  },
  {
   "cell_type": "code",
   "execution_count": null,
   "metadata": {},
   "outputs": [],
   "source": [
    "#groupby\n",
    "df.groupby('B').mean()\n",
    "command = '''\n",
    "SELECT B, AVG(A) FROM mydata\n",
    "    GROUP BY B\n",
    "'''\n",
    "df_sql = pd.read_sql_query(command, con)"
   ]
  },
  {
   "cell_type": "code",
   "execution_count": null,
   "metadata": {},
   "outputs": [],
   "source": [
    "#define a new method to groupby\n",
    "def my_agg(x):\n",
    "    names = {\n",
    "        'A_mean': x['A'].mean(),\n",
    "        'A_sum': x['A'].sum()\n",
    "    }\n",
    "    return pd.Series(names, index=['A_mean', 'A_sum'])\n",
    "\n",
    "df.groupby('B').apply(my_agg)\n",
    "\n",
    "command = '''\n",
    "SELECT B, AVG(A) AS A_mean, SUM(A) AS A_sum FROM mydata\n",
    "    GROUP BY B\n",
    "'''\n",
    "df_sql = pd.read_sql_query(command, con)"
   ]
  },
  {
   "cell_type": "code",
   "execution_count": null,
   "metadata": {},
   "outputs": [],
   "source": [
    "#apply a function to each row\n",
    "df['A'].apply(lambda x: x**2 if x > 2 else x)\n",
    "command = '''\n",
    "SELECT A, CASE\n",
    "    WHEN A > 2 THEN A * A\n",
    "    ELSE A\n",
    "    END\n",
    "    FROM mydata\n",
    "'''"
   ]
  },
  {
   "cell_type": "code",
   "execution_count": null,
   "metadata": {},
   "outputs": [],
   "source": [
    "#sort values\n",
    "df.sort_values('A')\n",
    "command = '''\n",
    "SELECT * FROM mydata\n",
    "    ORDER BY A\n",
    "'''\n",
    "df_sql = pd.read_sql_query(command, con)"
   ]
  },
  {
   "cell_type": "code",
   "execution_count": null,
   "metadata": {},
   "outputs": [],
   "source": [
    "#order by applying a function\n",
    "df.sort_values('A', key=lambda x: x**2)\n",
    "command = '''\n",
    "SELECT * FROM mydata\n",
    "    ORDER BY A * A\n",
    "'''"
   ]
  },
  {
   "cell_type": "code",
   "execution_count": null,
   "metadata": {},
   "outputs": [],
   "source": [
    "#with as clause for sql\n",
    "#with as is used to create a temporary table that can be used in the following query\n",
    "command = '''\n",
    "WITH mydata AS (\n",
    "    SELECT * FROM mydata\n",
    ")\n",
    "SELECT * FROM mydata\n",
    "'''"
   ]
  }
 ],
 "metadata": {
  "kernelspec": {
   "display_name": "python38",
   "language": "python",
   "name": "python3"
  },
  "language_info": {
   "codemirror_mode": {
    "name": "ipython",
    "version": 3
   },
   "file_extension": ".py",
   "mimetype": "text/x-python",
   "name": "python",
   "nbconvert_exporter": "python",
   "pygments_lexer": "ipython3",
   "version": "3.8.13"
  }
 },
 "nbformat": 4,
 "nbformat_minor": 2
}
