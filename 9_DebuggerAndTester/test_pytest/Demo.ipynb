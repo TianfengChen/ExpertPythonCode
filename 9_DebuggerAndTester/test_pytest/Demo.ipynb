{
 "cells": [
  {
   "cell_type": "code",
   "execution_count": 3,
   "metadata": {},
   "outputs": [
    {
     "ename": "ModuleNotFoundError",
     "evalue": "No module named 'pytest'",
     "output_type": "error",
     "traceback": [
      "\u001b[0;31m---------------------------------------------------------------------------\u001b[0m",
      "\u001b[0;31mModuleNotFoundError\u001b[0m                       Traceback (most recent call last)",
      "Cell \u001b[0;32mIn [3], line 1\u001b[0m\n\u001b[0;32m----> 1\u001b[0m \u001b[38;5;28;01mimport\u001b[39;00m \u001b[38;5;21;01mpytest\u001b[39;00m\n\u001b[1;32m      2\u001b[0m \u001b[38;5;28;01mimport\u001b[39;00m \u001b[38;5;21;01msys\u001b[39;00m\n\u001b[1;32m      4\u001b[0m \u001b[38;5;66;03m#1. test function\u001b[39;00m\n",
      "\u001b[0;31mModuleNotFoundError\u001b[0m: No module named 'pytest'"
     ]
    }
   ],
   "source": [
    "import pytest\n",
    "import sys\n",
    "\n",
    "#1. test function\n",
    "#test if the output of the function satisfies the condition\n",
    "def func(x):\n",
    "    return x - 1\n",
    "#test code: test if func(3) returns 4\n",
    "def test_func():\n",
    "    assert func(3) == 4, \"test failed\"\n",
    "\n",
    "test_func()"
   ]
  },
  {
   "cell_type": "code",
   "execution_count": null,
   "metadata": {},
   "outputs": [],
   "source": [
    "\n",
    "#2. test class\n",
    "class TestClass:\n",
    "    def test_one(self):\n",
    "        x = \"this\"\n",
    "        assert \"h\" in x\n",
    "\n",
    "    def test_two(self):\n",
    "        x = \"hello\"\n",
    "        assert hasattr(x, \"check\")\n",
    "\n",
    "#3. test fixture\n",
    "@pytest.fixture\n",
    "def smtp_connection():\n",
    "    import smtplib\n",
    "    return smtplib.SMTP(\"smtp.gmail.com\", 587, timeout=5)\n",
    "\n",
    "#4. test fixture with yield\n",
    "@pytest.fixture\n",
    "def smtp_connection():\n",
    "    import smtplib\n",
    "    conn = smtplib.SMTP(\"smtp.gmail.com\", 587, timeout=5)\n",
    "    yield conn\n",
    "    print(\"teardown smtp\")\n",
    "    conn.close()\n",
    "    \n",
    "def test_ehlo(smtp_connection):\n",
    "    response, msg = smtp_connection.ehlo()\n",
    "    assert response == 250\n",
    "    assert 0\n",
    "    \n",
    "#5. test fixture with scope\n",
    "@pytest.fixture(scope=\"module\")\n",
    "def smtp_connection():\n",
    "    import smtplib\n",
    "    return smtplib.SMTP(\"smtp.gmail.com\", 587, timeout=5)\n",
    "\n",
    "#6. test fixture with autouse\n",
    "@pytest.fixture(autouse=True)\n",
    "def smtp_connection():\n",
    "    import smtplib\n",
    "    return smtplib.SMTP(\"smtp.gmail.com\", 587, timeout=5)\n",
    "\n",
    "#7. test fixture with params\n",
    "@pytest.fixture(params=[1, 2, 3])\n"
   ]
  }
 ],
 "metadata": {
  "kernelspec": {
   "display_name": "Python 3",
   "language": "python",
   "name": "python3"
  },
  "language_info": {
   "codemirror_mode": {
    "name": "ipython",
    "version": 3
   },
   "file_extension": ".py",
   "mimetype": "text/x-python",
   "name": "python",
   "nbconvert_exporter": "python",
   "pygments_lexer": "ipython3",
   "version": "3.9.6"
  }
 },
 "nbformat": 4,
 "nbformat_minor": 2
}
